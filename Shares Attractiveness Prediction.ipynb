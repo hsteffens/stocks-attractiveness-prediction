{
 "cells": [
  {
   "cell_type": "markdown",
   "id": "9d293cee-32ff-426f-831c-5977a26b1929",
   "metadata": {},
   "source": [
    "1. Introduction\n",
    "    1. Research topic\n",
    "    1. Literature review\n",
    "    1. Aims and Objectives\n",
    "1. Data Acquisition and Preparation\n",
    "    1. Data Acquisition\n",
    "    1. Preparation\n",
    "1. Pre-Processing\n",
    "1. Methodology\n",
    "    1. Comparative Analysis of Exchange Data\n",
    "    1. Dataset Labeling\n",
    "    1. Random forest algorithm\n",
    "    1. Support vector machines algorithm\n",
    "    1. Extreme gradient boosting (XGBoost)\n",
    "1. Conclusion\n",
    "1. References"
   ]
  },
  {
   "cell_type": "markdown",
   "id": "51b40cec-dd7f-49e4-a6bf-4682ec3b7ad7",
   "metadata": {},
   "source": [
    "# Introduction\n",
    "\n",
    "<p style=\"text-align: justify;text-justify: inter-word;\">\n",
    "In the context of investment analysis, identifying the most attractive stocks from a multitude of options is a multifaceted and time-intensive endeavor. As articulated by Gordon (1959), the process of evaluating stock attractiveness involves a nuanced weighing of various factors, such as dividend yield, sales growth, payout ratios, retention ratios, etc ... Through this meticulous evaluation, investors aim to ascertain whether a stock presents an enticing opportunity at its current valuation. In this coursework, we embark on a comparative exploration of diverse machine learning models to ascertain their efficacy in discerning the attractiveness of company shares. Our objective is to investigate whether these models can effectively differentiate between stocks that present compelling investment prospects and those that do not. The stocks under examination are constituents of the following indexes FTSE-250 and NASDAQ, and have disbursed dividends during the year 2023.\n",
    "</p>"
   ]
  },
  {
   "cell_type": "markdown",
   "id": "5cf0319c-60ce-4eb8-a3df-514567475215",
   "metadata": {},
   "source": [
    "## Research topic\n",
    "\n",
    "<p style=\"text-align: justify;text-justify: inter-word;\">\n",
    "In this paper, we undertake a comprehensive investigation into the feasibility and efficacy of predicting the attractiveness of shares using data extracted from two prominent stock exchanges: the FTSE-250 from the London Stock Exchange and the NASDAQ. Leveraging data obtained from the London Stock Exchange's network and the previously scraped from the NASDAQ APIs (Steffens, 2023), we aim to advance our understanding of share attractiveness prediction and explore potential similarities and disparities between the two datasets.\n",
    "</p>\n",
    "\n",
    "- Comparative Analysis of Exchange Data: Our initial objective is to conduct a comparative analysis of key statistics derived from the FTSE-250 and NASDAQ datasets. By scrutinizing metrics such as dividend yield, payout ratio, annual dividends per share, number of times the dividends were paid, and the retention ratio. We seek to assess the degree of similarity between the two exchanges' share data.\n",
    "- Predictive Modeling with NASDAQ Dataset: Building upon insights gleaned from the comparative analysis, our subsequent objective is to develop predictive models using the NASDAQ dataset. Drawing upon machine learning techniques, we endeavor to ascertain whether it is possible to infer the attractiveness of shares within an unknown dataset based on patterns and characteristics identified in the training dataset.\n",
    "\n",
    "<p style=\"text-align: justify;text-justify: inter-word;\">\n",
    "The training dataset will be composed of the NASDAQ shares that have disbursed dividends during the year 2023, the NASDAQ index is composed of 4,136 active companies, only 947 have previously distributed dividends, and from this subset, merely 786 companies paid dividends specifically in 2023. The test dataset will be composed of the FTSE 250 shares that paid dividends in 2023. According to Coutts (2024), the FTSE 250 is a mid-cap stock index comprising the 101st to 350th largest companies listed on the London Stock Exchange. Established in 1992, the companies which make up the 250 are more domestically focused than those in the FTSE 100. Typically, more than half of their sales are domestic compared to less than a quarter for FTSE 100 companies. As a result, the FTSE 250 is viewed by many investors as a better indicator of the overall UK economy. This paper aims to confirm whether companies in a similar situation can be classified as attractive independently of the country if US or the UK.\n",
    "</p>\n"
   ]
  },
  {
   "cell_type": "markdown",
   "id": "da61a2b0-d1c7-489b-a71f-9eb8e3ec3a7e",
   "metadata": {},
   "source": [
    "## Literature review\n",
    "\n",
    "<p style=\"text-align: justify;text-justify: inter-word;\">\n",
    "Stock market prediction in developed countries has been a prominent research area with numerous studies addressing this subject. Kimoto, et al. (1990) conducted one of the pioneering studies by comparing regression models and artificial neural networks on the Tokyo Stock Price Index (TOPIX) to forecast buying and selling times.\n",
    "</p>\n",
    "<p style=\"text-align: justify;text-justify: inter-word;\">\n",
    "In this paper, we examine the performance of a single machine learning (ML) model across different indexes. Phua, Xiaotian Zhu, and Chung Haur Koh. (2003) undertook a seminal investigation where they assessed the predictive capabilities of a single algorithm across various indices, including Germany’s DAX index, along with the US’s DJIA, FTSE-100, and NASDAQ indices, utilizing the YSA algorithm. They achieved a remarkable accuracy rate exceeding 60% in predicting index movements.\n",
    "</p>\n",
    "<p style=\"text-align: justify;text-justify: inter-word;\">\n",
    "Ayyildiz and Iskenderoglu (2024) further advanced this line of research by studying a single ML model's efficacy in predicting stock market index movements in developed countries. Their analysis encompassed indices such as NYSE 100, NIKKEI 225 (Japan), FTSE 100, CAC 40, DAX 30, FTSE MIB, and TSX. The authors employed various algorithms, including decision trees, random forests, k-nearest neighbors, naive Bayes, logistic regression, support vector machines, and artificial neural networks. Their findings corroborated that artificial neural networks, logistic regression, and support vector machines consistently achieved an accuracy rate exceeding 70% in predicting directional movements across all indices.\n",
    "</p>"
   ]
  },
  {
   "cell_type": "markdown",
   "id": "347d8ca2-2294-42bb-b315-aa6e0b784e56",
   "metadata": {},
   "source": [
    "## Aims and Objectives\n",
    "\n",
    "<p style=\"text-align: justify;text-justify: inter-word;\">\n",
    "The aim of this project is to explore the efficacy of predictive modeling in determining share attractiveness, as well as elucidating any discernible patterns or discrepancies between the FTSE-250 and NASDAQ datasets. By advancing our understanding of share market dynamics and predictive modeling techniques, we aim to provide valuable insights for investors and market practitioners navigating the complex landscape of financial markets.\n",
    "</p>\n",
    "<p style=\"text-align: justify;text-justify: inter-word;\">\n",
    "Over this coursework, we will cover the following points:\n",
    "</p>\n",
    "\n",
    "1. FTSE-250 index data Acquisition\n",
    "1. Dataset Preparation\n",
    "1. Pre-Processing\n",
    "1. Model training\n",
    "1. Model evaluations\n"
   ]
  },
  {
   "cell_type": "markdown",
   "id": "a927305d-f80b-413f-a77a-f421853d21d4",
   "metadata": {},
   "source": [
    "# Data Acquisition and Preparation\n",
    "\n",
    "<p style=\"text-align: justify;text-justify: inter-word;\">Along this coursework, authentic data was exclusively sourced from various platforms, including London Stock Exchange APIs and LSEG website. The acquisition of this data involved employing web scraping techniques. \"Web scraping is the process of collecting and parsing raw data from the Web\" (Amos, 2023). Considering the varied sources of this data, combining them into a unified dataset was imperative to ensure proper processing. The preparation of this dataset entailed extracting the specific sample needed to effectively execute the proposed framework.</p>\n",
    "\n",
    "<p style=\"text-align: justify;text-justify: inter-word;\">The data acquisition and preparation processes collectively require more than 20 minutes for execution. To streamline the experiment, the resultant datasets ftse-dataset, ftse-dividends, ftse-sectors, ftse-sub-sectors, and ftse-symbols from the data acquisition phase will be shared alongside this paper. Due to the time-consuming nature of these processes, the data acquisition was segmented into three parts (symbols, sectors, and dividends acquisition) to mitigate potential connection issues. This segmentation allows for minimizing the impact of errors; for instance, if issues arise during dividends acquisition, there is no need to re-execute the initial two steps. For ongoing validation or execution of the experiment with the most recent data, the pre-generated datasets can be deleted, as they will automatically regenerate during the subsequent execution.</p>\n",
    "\n",
    "<p style=\"text-align: justify;text-justify: inter-word;\">\n",
    "After the data Acquisition and preparation phase, the created unit test will be presented. A vast code coverage it's important to ensure the code quality, and also mitigates the chances of a new code issue being introduced.\n",
    "</p>\n"
   ]
  },
  {
   "cell_type": "markdown",
   "id": "deb12f71-9f37-4977-ac17-dd6b566718a0",
   "metadata": {},
   "source": [
    "## Data Acquisition\n",
    "\n",
    "<p style=\"text-align: justify;text-justify: inter-word;\">In order to create a single dataset to assess the attractiveness of a stock, the following data acquisition steps are necessary:</p>\n",
    "\n",
    "- Extract the list of negotiable companies in the FTSE-250 index\n",
    "- Derive the sub-sector from each negotiable stock\n",
    "- Derive the sector from the sub-sectors\n",
    "- Derive the dividend metrics to each stock\n",
    "\n",
    "<p style=\"text-align: justify;text-justify: inter-word;\">To extract the list of negotiable companies in the FTSE-250 index, it will be used the London Stock Exchange (LSEG) the following paginated API: https://api.londonstockexchange.com/api/v1/components/refresh to identify the list of shares constituents of the FTSE-250 index, the above API has a total of 13 pages and returns 20 elements per page. This API returns the following information: company description, company code, currency, symbol, and last price. At this moment we will be focusing on the columns: company description, company code, and symbol.\n",
    "</p>\n",
    "\n",
    "<p style=\"text-align: justify;text-justify: inter-word;\">\n",
    "In order to derive the sub-sectors from each negotiable stock, the following London Stock Exchange API will be used https://api.londonstockexchange.com/api/gw/lse/instruments/alldata/{symbol}, this API provides us detailed information about the share such as BID, trade volume, values of the market open and close, the highest and lowest values of the day, sector code, and sub-sector code. The sub-sector code is a string value in a numeric format for instance: \"30101010\", while the sector code presents the same format  \"301010\".\n",
    "</p>\n",
    "\n",
    "<p style=\"text-align: justify;text-justify: inter-word;\">\n",
    "To derive the sector from the sub-sectors, it will be necessary to exchange the sub-sector code by the sector description, this is a required step to normalize the sectors in all used datasets. The LSEG provides an Excel file detailing the industries, sectors, and sub-sectors constituents of the FTSE indexes. The desired information is present in the first Sheet, where can filter the subsector code in order to extract the Sector description. The Excel file can be downloaded from: https://www.lseg.com/content/dam/ftse-russell/en_us/documents/other/icb-structure-and-definitions.xlsx\n",
    "</p>\n",
    "\n",
    "<p style=\"text-align: justify;text-justify: inter-word;\">The derivation of the dividends is from the LSE share report. The LSE report is a PDF file that contains the dividends data, valuation metrics, growth and profitability metrics, price performance, and the dividends history. Some companies did not provide the LSE report for this paper these companies will be considered as companies that did not disburse dividends. From the available attributes, we are interested in the following fields: dividend yield, annual dividend, payout ratio, and dividend history. Of the 250 companies constituents of the FTSE-250 index, only 127 companies already distributed dividends.\n",
    "</p>"
   ]
  },
  {
   "cell_type": "code",
   "execution_count": 162,
   "id": "de0ffb9b-7220-4b2a-9893-c2022e7b0727",
   "metadata": {},
   "outputs": [],
   "source": [
    "#required libraries to run the expirement\n",
    "import numpy as np\n",
    "import matplotlib.pyplot as plt\n",
    "import os.path\n",
    "import pandas as pd\n",
    "import requests\n",
    "import tabula\n",
    "import time\n",
    "import unittest\n",
    "import urllib.error\n",
    "import xgboost as xgb\n",
    "\n",
    "from bs4 import BeautifulSoup\n",
    "from collections import Counter\n",
    "from json import loads\n",
    "from sklearn.ensemble import RandomForestClassifier\n",
    "from sklearn.feature_selection import SelectFromModel\n",
    "from sklearn.metrics import confusion_matrix, classification_report\n",
    "from sklearn.model_selection import GridSearchCV, StratifiedKFold, cross_val_score, cross_val_predict\n",
    "from sklearn.pipeline import Pipeline\n",
    "from sklearn.preprocessing import StandardScaler\n",
    "from sklearn.svm import LinearSVC, SVC\n",
    "from xgboost import XGBRFClassifier, plot_importance"
   ]
  },
  {
   "cell_type": "code",
   "execution_count": 2,
   "id": "6778e5d8-909c-4004-b977-2cf71b3f5938",
   "metadata": {},
   "outputs": [],
   "source": [
    "#webscrapping functions based on the BeautifulSoup\n",
    "def get_soup(URL, jar=None):\n",
    "    request_headers = {\n",
    "        \"Upgrade-Insecure-Requests\": \"1\",\n",
    "        \"User-Agent\": \"Mozilla/5.0 (Macintosh; Intel Mac OS X 10_15_7) AppleWebKit/537.36 (KHTML, like Gecko) Chrome/119.0.0.0 Safari/537.36\",\n",
    "        \"Accept\": \"text/html,application/xhtml+xml,application/xml;q=0.9,image/avif,image/webp,image/apng,*/*;q=0.8,application/signed-exchange;v=b3;q=0.7\",\n",
    "        \"Accept-Language\": \"en-US,en;q=0.9\",\n",
    "        \"Accept-Encondig\": \"gzip, deflate, br\",\n",
    "    }\n",
    "    if jar:\n",
    "        response = requests.get(URL, cookies=jar, headers= request_headers)\n",
    "    else:\n",
    "        response = requests.get(URL, headers= request_headers)\n",
    "        jar = requests.cookies.RequestsCookieJar()\n",
    "    print(response.url)\n",
    "    data = response.text\n",
    "    soup = BeautifulSoup(data, \"html.parser\")\n",
    "    return soup, jar\n",
    "\n",
    "def post_soup(URL, body, jar=None):\n",
    "    response = requests.post(URL, json = body)\n",
    "    print(response.url)\n",
    "    data = response.text\n",
    "    soup = BeautifulSoup(data, \"html.parser\")\n",
    "    return soup, jar"
   ]
  },
  {
   "cell_type": "code",
   "execution_count": 3,
   "id": "d5eb9958-5b47-42a4-a289-df750900cdae",
   "metadata": {},
   "outputs": [],
   "source": [
    "#Derive the list of active stocks from the api https://api.londonstockexchange.com/api/v1/components/refresh\n",
    "def fste250_create_symbols():\n",
    "    if (os.path.isfile(\"data/ftse-symbols.csv\") == True):\n",
    "        return\n",
    "    symbols_dataset = pd.DataFrame(columns=[\"Symbol\", \"Company Name\"])\n",
    "    total_pages = 13\n",
    "    url = 'https://api.londonstockexchange.com/api/v1/components/refresh'\n",
    "    body = {\n",
    "        \"path\":\"ftse-constituents\",\n",
    "        \"components\":[{\"componentId\":\"block_content%3Aafe540a2-2a0c-46af-8497-407dc4c7fd71\"}]\n",
    "    }\n",
    "    for page in range(total_pages):\n",
    "        body['parameters'] = f\"indexname%3Dftse-250%26page%3D{page}%26tab%3Dtable%26tabId%3D1602cf04-c25b-4ea0-a9d6-64040d217877\"\n",
    "        response = post_soup(url, body)\n",
    "        page_content = loads(response[0].text)[0][\"content\"][0][\"value\"][\"content\"]\n",
    "        for content in page_content:\n",
    "            dataframe = pd.DataFrame([{\n",
    "                \"Symbol\": content[\"tidm\"],\n",
    "                \"Company Name\": content[\"issuername\"], \n",
    "                \"Company Code\": content[\"issuercode\"]\n",
    "            }])\n",
    "            symbols_dataset = pd.concat([symbols_dataset, dataframe], ignore_index=True)\n",
    "        time.sleep(0.5)\n",
    "    symbols_dataset.to_csv(\"data/ftse-symbols.csv\", index=False)    "
   ]
  },
  {
   "cell_type": "code",
   "execution_count": 4,
   "id": "1cc3ee79-447e-4267-8c03-6e289b660959",
   "metadata": {},
   "outputs": [],
   "source": [
    "#Derive the sub-sectors from each share it's required to determine the sector\n",
    "def ftse250_create_sub_sectors():\n",
    "    if (os.path.isfile(\"data/ftse-sub-sectors.csv\") == True):\n",
    "        return\n",
    "    ftse_symbols = pd.read_csv(\"data/ftse-symbols.csv\")\n",
    "    sectors = []\n",
    "    for symbol in ftse_symbols[\"Symbol\"]:\n",
    "        response = get_soup(f\"https://api.londonstockexchange.com/api/gw/lse/instruments/alldata/{symbol}\")\n",
    "        try:\n",
    "            response = loads(response[0].text)\n",
    "            sectors.append(response[\"subsectorcode\"])\n",
    "        except Exception:\n",
    "            print(f\"Error retriving the symbol {symbol}\")\n",
    "            sectors.append(None)\n",
    "        time.sleep(0.5)\n",
    "    ftse_symbols[\"Subsector Code\"] = sectors\n",
    "    ftse_symbols.to_csv(\"data/ftse-sub-sectors.csv\", index=False)"
   ]
  },
  {
   "cell_type": "code",
   "execution_count": 5,
   "id": "7fda4e05-5146-4173-b981-d9769394f309",
   "metadata": {},
   "outputs": [],
   "source": [
    "#The companies sectors are derived from the EXCEL file downloaded from the LSEG: https://www.lseg.com/content/dam/ftse-russell/en_us/documents/other/icb-structure-and-definitions.xlsx\n",
    "def ftse250_create_sectors():\n",
    "    if (os.path.isfile(\"data/ftse-sectors.csv\") == True):\n",
    "        return\n",
    "    ftse_sub_sectors = pd.read_csv(\"data/ftse-sub-sectors.csv\")\n",
    "    xls = pd.ExcelFile('data/icb-structure-and-definitions.xlsx')\n",
    "    dataset_sectors = pd.read_excel(xls, 'Mappable',header=1, usecols= 'B:I')\n",
    "    dataset_sectors = dataset_sectors.drop_duplicates()\n",
    "    sectors = []\n",
    "    for sub_sector in ftse_sub_sectors[\"Subsector Code\"]:\n",
    "        sectors.append(dataset_sectors['Industry'][dataset_sectors[\"Subsector code\"] == int(sub_sector)].values[0])\n",
    "    ftse_sub_sectors[\"Sector\"] = sectors\n",
    "    ftse_sub_sectors = ftse_sub_sectors.drop(columns=['Subsector Code'])\n",
    "    ftse_sub_sectors.to_csv(\"data/ftse-sectors.csv\", index=False)"
   ]
  },
  {
   "cell_type": "code",
   "execution_count": 6,
   "id": "4bd118cb-016c-4ad6-984b-c9ba02287e47",
   "metadata": {},
   "outputs": [],
   "source": [
    "#Utility functions to populate the dividends\n",
    "def rate_format(value):\n",
    "    if (type(value) != str):\n",
    "        return np.nan\n",
    "    return value.split(' ')[0]\n",
    "\n",
    "def ftse250_get_dividends(dividends, company_code):\n",
    "    dividends_dataframe = dividends.iloc[1:-1,:-3]\n",
    "    dividends_dataframe.columns = dividends_dataframe.iloc[0]\n",
    "    dividends_dataframe = dividends_dataframe.drop(1, axis=0)\n",
    "\n",
    "    if \"Rate Ex Date Record Date\" in dividends_dataframe.columns:\n",
    "        dividends_dataframe[\"Rate\"] = dividends_dataframe[\"Rate Ex Date Record Date\"].apply(rate_format)\n",
    "        dividends_dataframe = dividends_dataframe.drop('Rate Ex Date Record Date', axis=1)\n",
    "    elif \"Rate Ex Date\" in dividends_dataframe.columns:\n",
    "        dividends_dataframe[\"Rate\"] = dividends_dataframe[\"Rate Ex Date\"].apply(rate_format)\n",
    "        dividends_dataframe = dividends_dataframe.drop('Rate Ex Date', axis=1)\n",
    "        dividends_dataframe = dividends_dataframe.drop('Record Date', axis=1)\n",
    "\n",
    "    dividends_dataframe = dividends_dataframe.loc[:, dividends_dataframe.columns.isin([ \"Rate\", \"Payment Date\", \"Currency\"])]\n",
    "    dividends_dataframe[\"Company Code\"] = company_code\n",
    "    dividends_dataframe = dividends_dataframe.dropna()\n",
    "    return dividends_dataframe"
   ]
  },
  {
   "cell_type": "code",
   "execution_count": 7,
   "id": "f3c76949-0070-4c47-883d-fbb4c4d3e389",
   "metadata": {},
   "outputs": [],
   "source": [
    "#Derive the dividends from active companies https://api.londonstockexchange.com/api/gw/lse/download/PZPZC/tearsheet\n",
    "def ftse250_create_dividends():    \n",
    "    ftse_sectors = pd.read_csv(\"data/ftse-sectors.csv\")\n",
    "    dividends_consolidated = pd.DataFrame(columns=[\"Company Code\", \"DividendYield\", \"PayoutRatio\"])\n",
    "    dividends_dataset = pd.DataFrame(columns=[\"Company Code\", \"Rate\", \"Payment Date\", \"Currency\"])\n",
    "    for company_code in ftse_sectors[\"Company Code\"]:\n",
    "        pdf_path = f'https://api.londonstockexchange.com/api/gw/lse/download/{company_code}/tearsheet'\n",
    "        try:\n",
    "            dsf = tabula.read_pdf(pdf_path, stream=True, pages='5')\n",
    "            print(pdf_path)\n",
    "\n",
    "            if len(dsf) == 0:\n",
    "                dataframe_header = pd.DataFrame([{\n",
    "                    \"Company Code\": company_code,\n",
    "                    \"DividendYield\": np.nan, \n",
    "                    \"PayoutRatio\": np.nan\n",
    "                }])\n",
    "            else:\n",
    "                financial_info = dsf[0].iloc[0]\n",
    "                financial_info.reset_index(drop=True, inplace=True)\n",
    "                payout_ratio_index = financial_info[financial_info == 'Payout Ratio TTM %'].index + 1\n",
    "                dividend_yield_index = financial_info[financial_info == 'Dividend Yield TTM %'].index + 1\n",
    "\n",
    "                payout_ratio = financial_info.loc[payout_ratio_index].values\n",
    "                dividend_yield = financial_info.loc[dividend_yield_index].values\n",
    "                if len(dividend_yield) > 0:\n",
    "                    dataframe_header = pd.DataFrame([{\n",
    "                            \"Company Code\": company_code,\n",
    "                            \"DividendYield\": dividend_yield[0], \n",
    "                            \"PayoutRatio\": payout_ratio[0]\n",
    "                    }])\n",
    "                    dataframe = ftse250_get_dividends(dsf[0], company_code)\n",
    "                    dividends_dataset = pd.concat([dividends_dataset, dataframe], ignore_index=True)\n",
    "                else:\n",
    "                    dataframe_header = pd.DataFrame([{\n",
    "                        \"Company Code\": company_code,\n",
    "                        \"DividendYield\": np.nan, \n",
    "                        \"PayoutRatio\": np.nan\n",
    "                    }])\n",
    "            dividends_consolidated = pd.concat([dividends_consolidated, dataframe_header], ignore_index=True)\n",
    "        except urllib.error.HTTPError as error:\n",
    "            # company does not paid dividends\n",
    "            print(f'Error fetching URL: {pdf_path}, error code: {error.code}')\n",
    "            dataframe_header = pd.DataFrame([{\n",
    "                \"Company Code\": company_code,\n",
    "                \"DividendYield\": np.nan, \n",
    "                \"PayoutRatio\": np.nan\n",
    "            }])\n",
    "            dividends_consolidated = pd.concat([dividends_consolidated, dataframe_header], ignore_index=True)\n",
    "        time.sleep(0.5)\n",
    "    return dividends_consolidated, dividends_dataset"
   ]
  },
  {
   "cell_type": "code",
   "execution_count": 8,
   "id": "0bbc8b67-6a32-4c90-8f73-15a5225cf182",
   "metadata": {},
   "outputs": [],
   "source": [
    "#Create the dataframes used during this coursework\n",
    "def ftse250_create_dataset():\n",
    "    if (os.path.isfile(\"data/ftse-dataset.csv\") == True):\n",
    "        return\n",
    "    dividends_consolidated, dividends_dataset = ftse250_create_dividends()\n",
    "    dividends_dataset.to_csv(\"data/ftset-dividens.csv\", index=False)\n",
    "    ftse_sectors = pd.read_csv(\"data/ftse-sectors.csv\")\n",
    "    ftse_dataset = pd.merge(ftse_sectors, dividends_consolidated, on=\"Company Code\", how=\"left\")\n",
    "    ftse_dataset = ftse_dataset.drop_duplicates()\n",
    "    ftse_dataset.to_csv(\"data/ftse-dataset.csv\", index=False)"
   ]
  },
  {
   "cell_type": "code",
   "execution_count": 9,
   "id": "a24d3a13-62a2-4627-819e-7762283049e5",
   "metadata": {},
   "outputs": [],
   "source": [
    "fste250_create_symbols()\n",
    "ftse250_create_sub_sectors()\n",
    "ftse250_create_sectors()\n",
    "ftse250_create_dataset()"
   ]
  },
  {
   "cell_type": "code",
   "execution_count": 10,
   "id": "a8cb3aa7-54c6-42bf-b336-973a54eeab12",
   "metadata": {},
   "outputs": [
    {
     "data": {
      "text/html": [
       "<div>\n",
       "<style scoped>\n",
       "    .dataframe tbody tr th:only-of-type {\n",
       "        vertical-align: middle;\n",
       "    }\n",
       "\n",
       "    .dataframe tbody tr th {\n",
       "        vertical-align: top;\n",
       "    }\n",
       "\n",
       "    .dataframe thead th {\n",
       "        text-align: right;\n",
       "    }\n",
       "</style>\n",
       "<table border=\"1\" class=\"dataframe\">\n",
       "  <thead>\n",
       "    <tr style=\"text-align: right;\">\n",
       "      <th></th>\n",
       "      <th>Symbol</th>\n",
       "      <th>Company Name</th>\n",
       "      <th>Company Code</th>\n",
       "    </tr>\n",
       "  </thead>\n",
       "  <tbody>\n",
       "    <tr>\n",
       "      <th>0</th>\n",
       "      <td>JUST</td>\n",
       "      <td>JUST GROUP PLC</td>\n",
       "      <td>JUJUST</td>\n",
       "    </tr>\n",
       "    <tr>\n",
       "      <th>1</th>\n",
       "      <td>WPS</td>\n",
       "      <td>W.A.G PAYMENT SOLUTIONS PLC</td>\n",
       "      <td>WAGPAY</td>\n",
       "    </tr>\n",
       "    <tr>\n",
       "      <th>2</th>\n",
       "      <td>ITV</td>\n",
       "      <td>ITV PLC</td>\n",
       "      <td>ITITV</td>\n",
       "    </tr>\n",
       "    <tr>\n",
       "      <th>3</th>\n",
       "      <td>FSG</td>\n",
       "      <td>FORESIGHT GROUP HOLDINGS LIMITED</td>\n",
       "      <td>FRSGHL</td>\n",
       "    </tr>\n",
       "    <tr>\n",
       "      <th>4</th>\n",
       "      <td>DARK</td>\n",
       "      <td>DARKTRACE PLC</td>\n",
       "      <td>DRKTCE</td>\n",
       "    </tr>\n",
       "    <tr>\n",
       "      <th>...</th>\n",
       "      <td>...</td>\n",
       "      <td>...</td>\n",
       "      <td>...</td>\n",
       "    </tr>\n",
       "    <tr>\n",
       "      <th>245</th>\n",
       "      <td>PPH</td>\n",
       "      <td>PPHE HOTEL GROUP LIMITED</td>\n",
       "      <td>PAPPH</td>\n",
       "    </tr>\n",
       "    <tr>\n",
       "      <th>246</th>\n",
       "      <td>JLEN</td>\n",
       "      <td>JLEN ENVIRONMENTAL ASSETS GROUP LIMITED</td>\n",
       "      <td>JLJLEN</td>\n",
       "    </tr>\n",
       "    <tr>\n",
       "      <th>247</th>\n",
       "      <td>ICGT</td>\n",
       "      <td>ICG ENTERPRISE TRUST PLC</td>\n",
       "      <td>ICGTIC</td>\n",
       "    </tr>\n",
       "    <tr>\n",
       "      <th>248</th>\n",
       "      <td>FEML</td>\n",
       "      <td>FIDELITY EMERGING MARKETS LIMITED</td>\n",
       "      <td>GEIL</td>\n",
       "    </tr>\n",
       "    <tr>\n",
       "      <th>249</th>\n",
       "      <td>APAX</td>\n",
       "      <td>APAX GLOBAL ALPHA LIMITED</td>\n",
       "      <td>APAPAX</td>\n",
       "    </tr>\n",
       "  </tbody>\n",
       "</table>\n",
       "<p>250 rows × 3 columns</p>\n",
       "</div>"
      ],
      "text/plain": [
       "    Symbol                             Company Name Company Code\n",
       "0     JUST                           JUST GROUP PLC       JUJUST\n",
       "1      WPS              W.A.G PAYMENT SOLUTIONS PLC       WAGPAY\n",
       "2      ITV                                  ITV PLC        ITITV\n",
       "3      FSG         FORESIGHT GROUP HOLDINGS LIMITED       FRSGHL\n",
       "4     DARK                            DARKTRACE PLC       DRKTCE\n",
       "..     ...                                      ...          ...\n",
       "245    PPH                 PPHE HOTEL GROUP LIMITED        PAPPH\n",
       "246   JLEN  JLEN ENVIRONMENTAL ASSETS GROUP LIMITED       JLJLEN\n",
       "247   ICGT                 ICG ENTERPRISE TRUST PLC       ICGTIC\n",
       "248   FEML        FIDELITY EMERGING MARKETS LIMITED         GEIL\n",
       "249   APAX                APAX GLOBAL ALPHA LIMITED       APAPAX\n",
       "\n",
       "[250 rows x 3 columns]"
      ]
     },
     "execution_count": 10,
     "metadata": {},
     "output_type": "execute_result"
    }
   ],
   "source": [
    "pd.read_csv(\"data/ftse-symbols.csv\")"
   ]
  },
  {
   "cell_type": "code",
   "execution_count": 11,
   "id": "bf41c666-d933-41b9-a322-4fa26e227fa4",
   "metadata": {},
   "outputs": [
    {
     "data": {
      "text/html": [
       "<div>\n",
       "<style scoped>\n",
       "    .dataframe tbody tr th:only-of-type {\n",
       "        vertical-align: middle;\n",
       "    }\n",
       "\n",
       "    .dataframe tbody tr th {\n",
       "        vertical-align: top;\n",
       "    }\n",
       "\n",
       "    .dataframe thead th {\n",
       "        text-align: right;\n",
       "    }\n",
       "</style>\n",
       "<table border=\"1\" class=\"dataframe\">\n",
       "  <thead>\n",
       "    <tr style=\"text-align: right;\">\n",
       "      <th></th>\n",
       "      <th>Symbol</th>\n",
       "      <th>Company Name</th>\n",
       "      <th>Company Code</th>\n",
       "      <th>Subsector Code</th>\n",
       "    </tr>\n",
       "  </thead>\n",
       "  <tbody>\n",
       "    <tr>\n",
       "      <th>0</th>\n",
       "      <td>JUST</td>\n",
       "      <td>JUST GROUP PLC</td>\n",
       "      <td>JUJUST</td>\n",
       "      <td>30301010</td>\n",
       "    </tr>\n",
       "    <tr>\n",
       "      <th>1</th>\n",
       "      <td>WPS</td>\n",
       "      <td>W.A.G PAYMENT SOLUTIONS PLC</td>\n",
       "      <td>WAGPAY</td>\n",
       "      <td>50205015</td>\n",
       "    </tr>\n",
       "    <tr>\n",
       "      <th>2</th>\n",
       "      <td>ITV</td>\n",
       "      <td>ITV PLC</td>\n",
       "      <td>ITITV</td>\n",
       "      <td>40301035</td>\n",
       "    </tr>\n",
       "    <tr>\n",
       "      <th>3</th>\n",
       "      <td>FSG</td>\n",
       "      <td>FORESIGHT GROUP HOLDINGS LIMITED</td>\n",
       "      <td>FRSGHL</td>\n",
       "      <td>30202010</td>\n",
       "    </tr>\n",
       "    <tr>\n",
       "      <th>4</th>\n",
       "      <td>DARK</td>\n",
       "      <td>DARKTRACE PLC</td>\n",
       "      <td>DRKTCE</td>\n",
       "      <td>10101015</td>\n",
       "    </tr>\n",
       "    <tr>\n",
       "      <th>...</th>\n",
       "      <td>...</td>\n",
       "      <td>...</td>\n",
       "      <td>...</td>\n",
       "      <td>...</td>\n",
       "    </tr>\n",
       "    <tr>\n",
       "      <th>245</th>\n",
       "      <td>PPH</td>\n",
       "      <td>PPHE HOTEL GROUP LIMITED</td>\n",
       "      <td>PAPPH</td>\n",
       "      <td>40501025</td>\n",
       "    </tr>\n",
       "    <tr>\n",
       "      <th>246</th>\n",
       "      <td>JLEN</td>\n",
       "      <td>JLEN ENVIRONMENTAL ASSETS GROUP LIMITED</td>\n",
       "      <td>JLJLEN</td>\n",
       "      <td>30204000</td>\n",
       "    </tr>\n",
       "    <tr>\n",
       "      <th>247</th>\n",
       "      <td>ICGT</td>\n",
       "      <td>ICG ENTERPRISE TRUST PLC</td>\n",
       "      <td>ICGTIC</td>\n",
       "      <td>30204000</td>\n",
       "    </tr>\n",
       "    <tr>\n",
       "      <th>248</th>\n",
       "      <td>FEML</td>\n",
       "      <td>FIDELITY EMERGING MARKETS LIMITED</td>\n",
       "      <td>GEIL</td>\n",
       "      <td>30204000</td>\n",
       "    </tr>\n",
       "    <tr>\n",
       "      <th>249</th>\n",
       "      <td>APAX</td>\n",
       "      <td>APAX GLOBAL ALPHA LIMITED</td>\n",
       "      <td>APAPAX</td>\n",
       "      <td>30204000</td>\n",
       "    </tr>\n",
       "  </tbody>\n",
       "</table>\n",
       "<p>250 rows × 4 columns</p>\n",
       "</div>"
      ],
      "text/plain": [
       "    Symbol                             Company Name Company Code  \\\n",
       "0     JUST                           JUST GROUP PLC       JUJUST   \n",
       "1      WPS              W.A.G PAYMENT SOLUTIONS PLC       WAGPAY   \n",
       "2      ITV                                  ITV PLC        ITITV   \n",
       "3      FSG         FORESIGHT GROUP HOLDINGS LIMITED       FRSGHL   \n",
       "4     DARK                            DARKTRACE PLC       DRKTCE   \n",
       "..     ...                                      ...          ...   \n",
       "245    PPH                 PPHE HOTEL GROUP LIMITED        PAPPH   \n",
       "246   JLEN  JLEN ENVIRONMENTAL ASSETS GROUP LIMITED       JLJLEN   \n",
       "247   ICGT                 ICG ENTERPRISE TRUST PLC       ICGTIC   \n",
       "248   FEML        FIDELITY EMERGING MARKETS LIMITED         GEIL   \n",
       "249   APAX                APAX GLOBAL ALPHA LIMITED       APAPAX   \n",
       "\n",
       "     Subsector Code  \n",
       "0          30301010  \n",
       "1          50205015  \n",
       "2          40301035  \n",
       "3          30202010  \n",
       "4          10101015  \n",
       "..              ...  \n",
       "245        40501025  \n",
       "246        30204000  \n",
       "247        30204000  \n",
       "248        30204000  \n",
       "249        30204000  \n",
       "\n",
       "[250 rows x 4 columns]"
      ]
     },
     "execution_count": 11,
     "metadata": {},
     "output_type": "execute_result"
    }
   ],
   "source": [
    "pd.read_csv(\"data/ftse-sub-sectors.csv\")"
   ]
  },
  {
   "cell_type": "code",
   "execution_count": 12,
   "id": "3b963edc-e3af-46a7-8226-6ec46469c92d",
   "metadata": {},
   "outputs": [
    {
     "data": {
      "text/html": [
       "<div>\n",
       "<style scoped>\n",
       "    .dataframe tbody tr th:only-of-type {\n",
       "        vertical-align: middle;\n",
       "    }\n",
       "\n",
       "    .dataframe tbody tr th {\n",
       "        vertical-align: top;\n",
       "    }\n",
       "\n",
       "    .dataframe thead th {\n",
       "        text-align: right;\n",
       "    }\n",
       "</style>\n",
       "<table border=\"1\" class=\"dataframe\">\n",
       "  <thead>\n",
       "    <tr style=\"text-align: right;\">\n",
       "      <th></th>\n",
       "      <th>Symbol</th>\n",
       "      <th>Company Name</th>\n",
       "      <th>Company Code</th>\n",
       "      <th>Sector</th>\n",
       "    </tr>\n",
       "  </thead>\n",
       "  <tbody>\n",
       "    <tr>\n",
       "      <th>0</th>\n",
       "      <td>JUST</td>\n",
       "      <td>JUST GROUP PLC</td>\n",
       "      <td>JUJUST</td>\n",
       "      <td>Financials</td>\n",
       "    </tr>\n",
       "    <tr>\n",
       "      <th>1</th>\n",
       "      <td>WPS</td>\n",
       "      <td>W.A.G PAYMENT SOLUTIONS PLC</td>\n",
       "      <td>WAGPAY</td>\n",
       "      <td>Industrials</td>\n",
       "    </tr>\n",
       "    <tr>\n",
       "      <th>2</th>\n",
       "      <td>ITV</td>\n",
       "      <td>ITV PLC</td>\n",
       "      <td>ITITV</td>\n",
       "      <td>Consumer Discretionary</td>\n",
       "    </tr>\n",
       "    <tr>\n",
       "      <th>3</th>\n",
       "      <td>FSG</td>\n",
       "      <td>FORESIGHT GROUP HOLDINGS LIMITED</td>\n",
       "      <td>FRSGHL</td>\n",
       "      <td>Financials</td>\n",
       "    </tr>\n",
       "    <tr>\n",
       "      <th>4</th>\n",
       "      <td>DARK</td>\n",
       "      <td>DARKTRACE PLC</td>\n",
       "      <td>DRKTCE</td>\n",
       "      <td>Technology</td>\n",
       "    </tr>\n",
       "    <tr>\n",
       "      <th>...</th>\n",
       "      <td>...</td>\n",
       "      <td>...</td>\n",
       "      <td>...</td>\n",
       "      <td>...</td>\n",
       "    </tr>\n",
       "    <tr>\n",
       "      <th>245</th>\n",
       "      <td>PPH</td>\n",
       "      <td>PPHE HOTEL GROUP LIMITED</td>\n",
       "      <td>PAPPH</td>\n",
       "      <td>Consumer Discretionary</td>\n",
       "    </tr>\n",
       "    <tr>\n",
       "      <th>246</th>\n",
       "      <td>JLEN</td>\n",
       "      <td>JLEN ENVIRONMENTAL ASSETS GROUP LIMITED</td>\n",
       "      <td>JLJLEN</td>\n",
       "      <td>Financials</td>\n",
       "    </tr>\n",
       "    <tr>\n",
       "      <th>247</th>\n",
       "      <td>ICGT</td>\n",
       "      <td>ICG ENTERPRISE TRUST PLC</td>\n",
       "      <td>ICGTIC</td>\n",
       "      <td>Financials</td>\n",
       "    </tr>\n",
       "    <tr>\n",
       "      <th>248</th>\n",
       "      <td>FEML</td>\n",
       "      <td>FIDELITY EMERGING MARKETS LIMITED</td>\n",
       "      <td>GEIL</td>\n",
       "      <td>Financials</td>\n",
       "    </tr>\n",
       "    <tr>\n",
       "      <th>249</th>\n",
       "      <td>APAX</td>\n",
       "      <td>APAX GLOBAL ALPHA LIMITED</td>\n",
       "      <td>APAPAX</td>\n",
       "      <td>Financials</td>\n",
       "    </tr>\n",
       "  </tbody>\n",
       "</table>\n",
       "<p>250 rows × 4 columns</p>\n",
       "</div>"
      ],
      "text/plain": [
       "    Symbol                             Company Name Company Code  \\\n",
       "0     JUST                           JUST GROUP PLC       JUJUST   \n",
       "1      WPS              W.A.G PAYMENT SOLUTIONS PLC       WAGPAY   \n",
       "2      ITV                                  ITV PLC        ITITV   \n",
       "3      FSG         FORESIGHT GROUP HOLDINGS LIMITED       FRSGHL   \n",
       "4     DARK                            DARKTRACE PLC       DRKTCE   \n",
       "..     ...                                      ...          ...   \n",
       "245    PPH                 PPHE HOTEL GROUP LIMITED        PAPPH   \n",
       "246   JLEN  JLEN ENVIRONMENTAL ASSETS GROUP LIMITED       JLJLEN   \n",
       "247   ICGT                 ICG ENTERPRISE TRUST PLC       ICGTIC   \n",
       "248   FEML        FIDELITY EMERGING MARKETS LIMITED         GEIL   \n",
       "249   APAX                APAX GLOBAL ALPHA LIMITED       APAPAX   \n",
       "\n",
       "                     Sector  \n",
       "0                Financials  \n",
       "1               Industrials  \n",
       "2    Consumer Discretionary  \n",
       "3                Financials  \n",
       "4                Technology  \n",
       "..                      ...  \n",
       "245  Consumer Discretionary  \n",
       "246              Financials  \n",
       "247              Financials  \n",
       "248              Financials  \n",
       "249              Financials  \n",
       "\n",
       "[250 rows x 4 columns]"
      ]
     },
     "execution_count": 12,
     "metadata": {},
     "output_type": "execute_result"
    }
   ],
   "source": [
    "pd.read_csv(\"data/ftse-sectors.csv\")"
   ]
  },
  {
   "cell_type": "code",
   "execution_count": 13,
   "id": "5fdba43a-be23-41e8-a03b-edc9b5194218",
   "metadata": {},
   "outputs": [
    {
     "data": {
      "text/html": [
       "<div>\n",
       "<style scoped>\n",
       "    .dataframe tbody tr th:only-of-type {\n",
       "        vertical-align: middle;\n",
       "    }\n",
       "\n",
       "    .dataframe tbody tr th {\n",
       "        vertical-align: top;\n",
       "    }\n",
       "\n",
       "    .dataframe thead th {\n",
       "        text-align: right;\n",
       "    }\n",
       "</style>\n",
       "<table border=\"1\" class=\"dataframe\">\n",
       "  <thead>\n",
       "    <tr style=\"text-align: right;\">\n",
       "      <th></th>\n",
       "      <th>Company Code</th>\n",
       "      <th>Rate</th>\n",
       "      <th>Payment Date</th>\n",
       "      <th>Currency</th>\n",
       "    </tr>\n",
       "  </thead>\n",
       "  <tbody>\n",
       "    <tr>\n",
       "      <th>0</th>\n",
       "      <td>JUJUST</td>\n",
       "      <td>0.015</td>\n",
       "      <td>15-05-2024</td>\n",
       "      <td>GBP</td>\n",
       "    </tr>\n",
       "    <tr>\n",
       "      <th>1</th>\n",
       "      <td>JUJUST</td>\n",
       "      <td>0.006</td>\n",
       "      <td>04-10-2023</td>\n",
       "      <td>GBP</td>\n",
       "    </tr>\n",
       "    <tr>\n",
       "      <th>2</th>\n",
       "      <td>JUJUST</td>\n",
       "      <td>0.012</td>\n",
       "      <td>17-05-2023</td>\n",
       "      <td>GBP</td>\n",
       "    </tr>\n",
       "    <tr>\n",
       "      <th>3</th>\n",
       "      <td>JUJUST</td>\n",
       "      <td>0.005</td>\n",
       "      <td>02-09-2022</td>\n",
       "      <td>GBP</td>\n",
       "    </tr>\n",
       "    <tr>\n",
       "      <th>4</th>\n",
       "      <td>JUJUST</td>\n",
       "      <td>0.010</td>\n",
       "      <td>17-05-2022</td>\n",
       "      <td>GBP</td>\n",
       "    </tr>\n",
       "    <tr>\n",
       "      <th>...</th>\n",
       "      <td>...</td>\n",
       "      <td>...</td>\n",
       "      <td>...</td>\n",
       "      <td>...</td>\n",
       "    </tr>\n",
       "    <tr>\n",
       "      <th>1235</th>\n",
       "      <td>PAPPH</td>\n",
       "      <td>0.120</td>\n",
       "      <td>31-05-2023</td>\n",
       "      <td>GBP</td>\n",
       "    </tr>\n",
       "    <tr>\n",
       "      <th>1236</th>\n",
       "      <td>PAPPH</td>\n",
       "      <td>0.030</td>\n",
       "      <td>14-10-2022</td>\n",
       "      <td>GBP</td>\n",
       "    </tr>\n",
       "    <tr>\n",
       "      <th>1237</th>\n",
       "      <td>PAPPH</td>\n",
       "      <td>0.170</td>\n",
       "      <td>15-10-2019</td>\n",
       "      <td>GBP</td>\n",
       "    </tr>\n",
       "    <tr>\n",
       "      <th>1238</th>\n",
       "      <td>PAPPH</td>\n",
       "      <td>0.190</td>\n",
       "      <td>20-05-2019</td>\n",
       "      <td>GBP</td>\n",
       "    </tr>\n",
       "    <tr>\n",
       "      <th>1239</th>\n",
       "      <td>PAPPH</td>\n",
       "      <td>0.160</td>\n",
       "      <td>15-10-2018</td>\n",
       "      <td>GBP</td>\n",
       "    </tr>\n",
       "  </tbody>\n",
       "</table>\n",
       "<p>1240 rows × 4 columns</p>\n",
       "</div>"
      ],
      "text/plain": [
       "     Company Code   Rate Payment Date Currency\n",
       "0          JUJUST  0.015   15-05-2024      GBP\n",
       "1          JUJUST  0.006   04-10-2023      GBP\n",
       "2          JUJUST  0.012   17-05-2023      GBP\n",
       "3          JUJUST  0.005   02-09-2022      GBP\n",
       "4          JUJUST  0.010   17-05-2022      GBP\n",
       "...           ...    ...          ...      ...\n",
       "1235        PAPPH  0.120   31-05-2023      GBP\n",
       "1236        PAPPH  0.030   14-10-2022      GBP\n",
       "1237        PAPPH  0.170   15-10-2019      GBP\n",
       "1238        PAPPH  0.190   20-05-2019      GBP\n",
       "1239        PAPPH  0.160   15-10-2018      GBP\n",
       "\n",
       "[1240 rows x 4 columns]"
      ]
     },
     "execution_count": 13,
     "metadata": {},
     "output_type": "execute_result"
    }
   ],
   "source": [
    "pd.read_csv(\"data/ftset-dividens.csv\")"
   ]
  },
  {
   "cell_type": "code",
   "execution_count": 14,
   "id": "39357488-23ee-4666-93d3-654e8e0679bc",
   "metadata": {},
   "outputs": [
    {
     "data": {
      "text/html": [
       "<div>\n",
       "<style scoped>\n",
       "    .dataframe tbody tr th:only-of-type {\n",
       "        vertical-align: middle;\n",
       "    }\n",
       "\n",
       "    .dataframe tbody tr th {\n",
       "        vertical-align: top;\n",
       "    }\n",
       "\n",
       "    .dataframe thead th {\n",
       "        text-align: right;\n",
       "    }\n",
       "</style>\n",
       "<table border=\"1\" class=\"dataframe\">\n",
       "  <thead>\n",
       "    <tr style=\"text-align: right;\">\n",
       "      <th></th>\n",
       "      <th>Symbol</th>\n",
       "      <th>Company Name</th>\n",
       "      <th>Company Code</th>\n",
       "      <th>Sector</th>\n",
       "      <th>DividendYield</th>\n",
       "      <th>PayoutRatio</th>\n",
       "    </tr>\n",
       "  </thead>\n",
       "  <tbody>\n",
       "    <tr>\n",
       "      <th>0</th>\n",
       "      <td>JUST</td>\n",
       "      <td>JUST GROUP PLC</td>\n",
       "      <td>JUJUST</td>\n",
       "      <td>Financials</td>\n",
       "      <td>1.80%</td>\n",
       "      <td>14.47%</td>\n",
       "    </tr>\n",
       "    <tr>\n",
       "      <th>1</th>\n",
       "      <td>WPS</td>\n",
       "      <td>W.A.G PAYMENT SOLUTIONS PLC</td>\n",
       "      <td>WAGPAY</td>\n",
       "      <td>Industrials</td>\n",
       "      <td>NaN</td>\n",
       "      <td>NaN</td>\n",
       "    </tr>\n",
       "    <tr>\n",
       "      <th>2</th>\n",
       "      <td>ITV</td>\n",
       "      <td>ITV PLC</td>\n",
       "      <td>ITITV</td>\n",
       "      <td>Consumer Discretionary</td>\n",
       "      <td>7.03%</td>\n",
       "      <td>75.31%</td>\n",
       "    </tr>\n",
       "    <tr>\n",
       "      <th>3</th>\n",
       "      <td>FSG</td>\n",
       "      <td>FORESIGHT GROUP HOLDINGS LIMITED</td>\n",
       "      <td>FRSGHL</td>\n",
       "      <td>Financials</td>\n",
       "      <td>NaN</td>\n",
       "      <td>NaN</td>\n",
       "    </tr>\n",
       "    <tr>\n",
       "      <th>4</th>\n",
       "      <td>DARK</td>\n",
       "      <td>DARKTRACE PLC</td>\n",
       "      <td>DRKTCE</td>\n",
       "      <td>Technology</td>\n",
       "      <td>NaN</td>\n",
       "      <td>NaN</td>\n",
       "    </tr>\n",
       "    <tr>\n",
       "      <th>...</th>\n",
       "      <td>...</td>\n",
       "      <td>...</td>\n",
       "      <td>...</td>\n",
       "      <td>...</td>\n",
       "      <td>...</td>\n",
       "      <td>...</td>\n",
       "    </tr>\n",
       "    <tr>\n",
       "      <th>244</th>\n",
       "      <td>PPH</td>\n",
       "      <td>PPHE HOTEL GROUP LIMITED</td>\n",
       "      <td>PAPPH</td>\n",
       "      <td>Consumer Discretionary</td>\n",
       "      <td>2.23%</td>\n",
       "      <td>52.92%</td>\n",
       "    </tr>\n",
       "    <tr>\n",
       "      <th>245</th>\n",
       "      <td>JLEN</td>\n",
       "      <td>JLEN ENVIRONMENTAL ASSETS GROUP LIMITED</td>\n",
       "      <td>JLJLEN</td>\n",
       "      <td>Financials</td>\n",
       "      <td>NaN</td>\n",
       "      <td>NaN</td>\n",
       "    </tr>\n",
       "    <tr>\n",
       "      <th>246</th>\n",
       "      <td>ICGT</td>\n",
       "      <td>ICG ENTERPRISE TRUST PLC</td>\n",
       "      <td>ICGTIC</td>\n",
       "      <td>Financials</td>\n",
       "      <td>NaN</td>\n",
       "      <td>NaN</td>\n",
       "    </tr>\n",
       "    <tr>\n",
       "      <th>247</th>\n",
       "      <td>FEML</td>\n",
       "      <td>FIDELITY EMERGING MARKETS LIMITED</td>\n",
       "      <td>GEIL</td>\n",
       "      <td>Financials</td>\n",
       "      <td>NaN</td>\n",
       "      <td>NaN</td>\n",
       "    </tr>\n",
       "    <tr>\n",
       "      <th>248</th>\n",
       "      <td>APAX</td>\n",
       "      <td>APAX GLOBAL ALPHA LIMITED</td>\n",
       "      <td>APAPAX</td>\n",
       "      <td>Financials</td>\n",
       "      <td>NaN</td>\n",
       "      <td>NaN</td>\n",
       "    </tr>\n",
       "  </tbody>\n",
       "</table>\n",
       "<p>249 rows × 6 columns</p>\n",
       "</div>"
      ],
      "text/plain": [
       "    Symbol                             Company Name Company Code  \\\n",
       "0     JUST                           JUST GROUP PLC       JUJUST   \n",
       "1      WPS              W.A.G PAYMENT SOLUTIONS PLC       WAGPAY   \n",
       "2      ITV                                  ITV PLC        ITITV   \n",
       "3      FSG         FORESIGHT GROUP HOLDINGS LIMITED       FRSGHL   \n",
       "4     DARK                            DARKTRACE PLC       DRKTCE   \n",
       "..     ...                                      ...          ...   \n",
       "244    PPH                 PPHE HOTEL GROUP LIMITED        PAPPH   \n",
       "245   JLEN  JLEN ENVIRONMENTAL ASSETS GROUP LIMITED       JLJLEN   \n",
       "246   ICGT                 ICG ENTERPRISE TRUST PLC       ICGTIC   \n",
       "247   FEML        FIDELITY EMERGING MARKETS LIMITED         GEIL   \n",
       "248   APAX                APAX GLOBAL ALPHA LIMITED       APAPAX   \n",
       "\n",
       "                     Sector DividendYield PayoutRatio  \n",
       "0                Financials         1.80%      14.47%  \n",
       "1               Industrials           NaN         NaN  \n",
       "2    Consumer Discretionary         7.03%      75.31%  \n",
       "3                Financials           NaN         NaN  \n",
       "4                Technology           NaN         NaN  \n",
       "..                      ...           ...         ...  \n",
       "244  Consumer Discretionary         2.23%      52.92%  \n",
       "245              Financials           NaN         NaN  \n",
       "246              Financials           NaN         NaN  \n",
       "247              Financials           NaN         NaN  \n",
       "248              Financials           NaN         NaN  \n",
       "\n",
       "[249 rows x 6 columns]"
      ]
     },
     "execution_count": 14,
     "metadata": {},
     "output_type": "execute_result"
    }
   ],
   "source": [
    "pd.read_csv(\"data/ftse-dataset.csv\")"
   ]
  },
  {
   "cell_type": "code",
   "execution_count": 15,
   "id": "92c79ff9-cac3-4bac-a1b1-da1c0ddae2f5",
   "metadata": {},
   "outputs": [],
   "source": [
    "class DataAcquisitionTestSet(unittest.TestCase):\n",
    "\n",
    "    def test_rate_format_returns_percentage(self):\n",
    "        self.assertEqual(rate_format('1.82% 2023-12-01'), '1.82%')\n",
    "    \n",
    "    def test_rate_format_returns_nan(self):\n",
    "        self.assertTrue(np.isnan(rate_format(123)))\n",
    "\n",
    "    def test_ftse250_get_dividends_extract_dividends(self):\n",
    "        company_code = 'test'\n",
    "        dividends = pd.DataFrame([\n",
    "            { \n",
    "                \"Dividends Data\": 'Dividends Per Share TTM', \"Unnamed: 0\": '0.05', \"Unnamed: 1\": 'Payout Ratio TTM %', \n",
    "                \"Unnamed: 2\": '0.00%', \"Unnamed: 3\": np.nan, \"Unnamed: 4\": 'Dividend Yield TTM %', \"Unnamed: 5\": '6.58%'\n",
    "            },\n",
    "            { \n",
    "                \"Dividends Data\": 'Rate Ex Date', \"Unnamed: 0\": 'Record Date', \"Unnamed: 1\": 'Payment Date', \n",
    "                \"Unnamed: 2\": 'Currency', \"Unnamed: 3\": 'Note', \"Unnamed: 4\": np.nan, \"Unnamed: 5\": np.nan\n",
    "            },\n",
    "            { \n",
    "                \"Dividends Data\": '0.015 07-03-2024', \"Unnamed: 0\": '08-03-2024', \"Unnamed: 1\": '04-04-2024', \n",
    "                \"Unnamed: 2\": 'GBP', \"Unnamed: 3\": 'Note', \"Unnamed: 4\": np.nan, \"Unnamed: 5\": np.nan\n",
    "            },\n",
    "            { \n",
    "                \"Dividends Data\": 'Dividend Growth and Yield', \"Unnamed: 0\": np.nan, \"Unnamed: 1\": np.nan, \n",
    "                \"Unnamed: 2\": np.nan, \"Unnamed: 3\": np.nan, \"Unnamed: 4\": np.nan, \"Unnamed: 5\": np.nan\n",
    "            }\n",
    "        ])\n",
    "        dataframe = ftse250_get_dividends(dividends, company_code)\n",
    "        self.assertEqual(len(dataframe), 1)\n",
    "        self.assertListEqual(list(dataframe.columns), ['Payment Date', 'Currency', 'Rate', 'Company Code'])\n",
    "\n",
    "        row = dataframe.iloc[0]\n",
    "        self.assertEqual(row['Payment Date'], '04-04-2024')\n",
    "        self.assertEqual(row['Currency'], 'GBP')\n",
    "        self.assertEqual(row['Rate'], '0.015')\n",
    "        self.assertEqual(row['Company Code'], 'test')\n",
    "    \n",
    "    def test_ftse250_get_dividends(self):\n",
    "        company_code = 'test'\n",
    "        dividends = pd.DataFrame([\n",
    "            { \n",
    "                \"Dividends Data\": 'Dividends Per Share TTM 0.82', \"Unnamed: 0\": 'Payout Ratio TTM %', \n",
    "                \"Unnamed: 1\": '27.45%', \"Unnamed: 2\": np.nan, \"Unnamed: 3\": 'Dividend Yield TTM %', \"Unnamed: 4\": '2.02%'\n",
    "            },\n",
    "            { \n",
    "                \"Dividends Data\": 'Rate Ex Date Record Date', \"Unnamed: 0\": 'Payment Date', \"Unnamed: 1\": 'Currency',\n",
    "                \"Unnamed: 2\": 'Note', \"Unnamed: 4\": np.nan\n",
    "            },\n",
    "            { \n",
    "                \"Dividends Data\": '0.227 14-12-2023 15-12-2023', \"Unnamed: 0\": '26-01-2024', \"Unnamed: 1\": 'GBP', \n",
    "                \"Unnamed: 2\": np.nan, \"Unnamed: 3\": np.nan, \"Unnamed: 4\": np.nan\n",
    "            },\n",
    "            { \n",
    "                \"Dividends Data\": '0.588 20-07-2023 21-07-2023', \"Unnamed: 0\": '01-09-2023', \"Unnamed: 1\": 'GBP', \n",
    "                \"Unnamed: 2\": np.nan, \"Unnamed: 3\": np.nan, \"Unnamed: 4\": np.nan\n",
    "            },\n",
    "            { \n",
    "                \"Dividends Data\": 'Dividend Growth and Yield', \"Unnamed: 0\": np.nan, \"Unnamed: 1\": np.nan, \n",
    "                \"Unnamed: 2\": np.nan, \"Unnamed: 3\": np.nan, \"Unnamed: 4\": np.nan, \"Unnamed: 5\": np.nan\n",
    "            },\n",
    "            { \n",
    "                \"Dividends Data\": 'Dividends Per Share TTM', \"Unnamed: 0\": np.nan, \"Unnamed: 1\": np.nan, \n",
    "                \"Unnamed: 2\": np.nan, \"Unnamed: 3\": np.nan, \"Unnamed: 3\": \"Cranswick PLC's trailing 12-\"\n",
    "            }\n",
    "        ])\n",
    "        dataframe = ftse250_get_dividends(dividends, company_code)\n",
    "        self.assertEqual(len(dataframe), 2)\n",
    "        self.assertListEqual(list(dataframe.columns), ['Payment Date', 'Currency', 'Rate', 'Company Code'])\n",
    "\n",
    "        row = dataframe.iloc[0]\n",
    "        self.assertEqual(row['Payment Date'], '26-01-2024')\n",
    "        self.assertEqual(row['Currency'], 'GBP')\n",
    "        self.assertEqual(row['Rate'], '0.227')\n",
    "        self.assertEqual(row['Company Code'], 'test')\n",
    "\n",
    "        row = dataframe.iloc[1]\n",
    "        self.assertEqual(row['Payment Date'], '01-09-2023')\n",
    "        self.assertEqual(row['Currency'], 'GBP')\n",
    "        self.assertEqual(row['Rate'], '0.588')\n",
    "        self.assertEqual(row['Company Code'], 'test')\n"
   ]
  },
  {
   "cell_type": "markdown",
   "id": "d32edace-4be0-4089-88e4-cdce804c974b",
   "metadata": {},
   "source": [
    "## Data Preparation\n",
    "\n",
    "<p style=\"text-align: justify;text-justify: inter-word;\">Data preparation involves isolating the specific sample required to successfully implement the proposed framework. Given the coursework's focus on stocks that disbursed dividends in 2023, we will extract a sample of companies that fulfilled this criterion, excluding those that never paid dividends or did not do so in 2023. Out of the initial list of 250 companies, only 127 have previously distributed dividends, and from this subset, merely 116 companies paid dividends specifically in 2023.</p>"
   ]
  },
  {
   "cell_type": "code",
   "execution_count": 16,
   "id": "862c73e7-72cc-4257-89e5-cdf64097304d",
   "metadata": {},
   "outputs": [],
   "source": [
    "#Enrich missing values based on the webscrapping\n",
    "def fill_dividends_missing_values(ftse_dataset, year):\n",
    "    dividends_dataset = pd.read_csv(\"data/ftset_dividens.csv\")\n",
    "\n",
    "    for index, row in ftse_dataset.iterrows():\n",
    "        dividends = dividends_dataset[dividends_dataset[\"Company Code\"] == row[\"Company Code\"]]\n",
    "        dividends = dividends.loc[dividends[\"Payment Date\"].str.find(year) > -1]\n",
    "        amount = list(dividends[\"Rate\"])\n",
    "        ftse_dataset.loc[index,\"AnnualDividendsPerShare\"] = np.sum([float(value) for value in amount])"
   ]
  },
  {
   "cell_type": "code",
   "execution_count": 17,
   "id": "3ac73164-ee57-4d05-a956-cb8d09241929",
   "metadata": {},
   "outputs": [],
   "source": [
    "def drop_stocks_not_paid_dividends(ftse_dataset):\n",
    "    print(\"Removing the stocks that have never paid dividends\")\n",
    "    print(f\"Active Stocks Length {len(ftse_dataset)}\")\n",
    "    ftse_dividends_dataset = ftse_dataset.dropna(subset=[\"AnnualDividendsPerShare\"])\n",
    "    print(f\"After Removing the stocks that have not paid dividends {len(ftse_dividends_dataset)}\")\n",
    "    return ftse_dividends_dataset"
   ]
  },
  {
   "cell_type": "code",
   "execution_count": 18,
   "id": "e85c2d32-640b-434d-aca5-9c659ba60fdd",
   "metadata": {},
   "outputs": [],
   "source": [
    "def normalize_invalid_values_as_nan(ftse_dataset):\n",
    "    ftse_dataset = ftse_dataset.replace('0.00%',np.NaN)\n",
    "    ftse_dataset = ftse_dataset.replace('%', np.NaN)\n",
    "    ftse_dataset = ftse_dataset.replace(0, np.NaN)\n",
    "    return ftse_dataset"
   ]
  },
  {
   "cell_type": "code",
   "execution_count": 19,
   "id": "71793945-b535-4374-951e-fdd94c58686f",
   "metadata": {},
   "outputs": [],
   "source": [
    "def get_nasdaq_dividend_dataset(ftse_dataset):\n",
    "    print(f'Number of active companies: {len(ftse_dataset)}')\n",
    "    print(f'Number of companies that did not distribute dividends: {ftse_dataset[\"DividendYield\"].isna().sum()}')\n",
    "    \n",
    "    fill_dividends_missing_values(ftse_dataset, '2023')\n",
    "    ftse_dataset = normalize_invalid_values_as_nan(ftse_dataset)\n",
    "\n",
    "    print(f'Number of companies that did not distribute dividends in 2023: {ftse_dataset[\"AnnualDividendsPerShare\"].isna().sum()}')\n",
    "    return drop_stocks_not_paid_dividends(ftse_dataset)"
   ]
  },
  {
   "cell_type": "code",
   "execution_count": 20,
   "id": "193399d3-46c4-4fda-ad06-48326f7f0511",
   "metadata": {},
   "outputs": [
    {
     "name": "stdout",
     "output_type": "stream",
     "text": [
      "Number of active companies: 249\n",
      "Number of companies that did not distribute dividends: 122\n",
      "Number of companies that did not distribute dividends in 2023: 133\n",
      "Removing the stocks that have never paid dividends\n",
      "Active Stocks Length 249\n",
      "After Removing the stocks that have not paid dividends 116\n"
     ]
    }
   ],
   "source": [
    "ftse2023_dataset = get_nasdaq_dividend_dataset(pd.read_csv(\"data/ftse-dataset.csv\"))"
   ]
  },
  {
   "cell_type": "code",
   "execution_count": 21,
   "id": "59642941-5dfc-4a0a-bf0d-de8f2730bb54",
   "metadata": {},
   "outputs": [
    {
     "data": {
      "text/html": [
       "<div>\n",
       "<style scoped>\n",
       "    .dataframe tbody tr th:only-of-type {\n",
       "        vertical-align: middle;\n",
       "    }\n",
       "\n",
       "    .dataframe tbody tr th {\n",
       "        vertical-align: top;\n",
       "    }\n",
       "\n",
       "    .dataframe thead th {\n",
       "        text-align: right;\n",
       "    }\n",
       "</style>\n",
       "<table border=\"1\" class=\"dataframe\">\n",
       "  <thead>\n",
       "    <tr style=\"text-align: right;\">\n",
       "      <th></th>\n",
       "      <th>Symbol</th>\n",
       "      <th>Company Name</th>\n",
       "      <th>Company Code</th>\n",
       "      <th>Sector</th>\n",
       "      <th>DividendYield</th>\n",
       "      <th>PayoutRatio</th>\n",
       "      <th>AnnualDividendsPerShare</th>\n",
       "    </tr>\n",
       "  </thead>\n",
       "  <tbody>\n",
       "    <tr>\n",
       "      <th>0</th>\n",
       "      <td>JUST</td>\n",
       "      <td>JUST GROUP PLC</td>\n",
       "      <td>JUJUST</td>\n",
       "      <td>Financials</td>\n",
       "      <td>1.80%</td>\n",
       "      <td>14.47%</td>\n",
       "      <td>0.018</td>\n",
       "    </tr>\n",
       "    <tr>\n",
       "      <th>2</th>\n",
       "      <td>ITV</td>\n",
       "      <td>ITV PLC</td>\n",
       "      <td>ITITV</td>\n",
       "      <td>Consumer Discretionary</td>\n",
       "      <td>7.03%</td>\n",
       "      <td>75.31%</td>\n",
       "      <td>0.050</td>\n",
       "    </tr>\n",
       "    <tr>\n",
       "      <th>10</th>\n",
       "      <td>CWK</td>\n",
       "      <td>CRANSWICK PLC</td>\n",
       "      <td>CRBE</td>\n",
       "      <td>Consumer Staples</td>\n",
       "      <td>1.97%</td>\n",
       "      <td>27.45%</td>\n",
       "      <td>0.794</td>\n",
       "    </tr>\n",
       "    <tr>\n",
       "      <th>11</th>\n",
       "      <td>BAKK</td>\n",
       "      <td>BAKKAVOR GROUP PLC</td>\n",
       "      <td>BABAKK</td>\n",
       "      <td>Consumer Staples</td>\n",
       "      <td>7.00%</td>\n",
       "      <td>75.46%</td>\n",
       "      <td>0.071</td>\n",
       "    </tr>\n",
       "    <tr>\n",
       "      <th>13</th>\n",
       "      <td>TBCG</td>\n",
       "      <td>TBC BANK GROUP PLC</td>\n",
       "      <td>TBTBCG</td>\n",
       "      <td>Financials</td>\n",
       "      <td>5.31%</td>\n",
       "      <td>8.26%</td>\n",
       "      <td>1.706</td>\n",
       "    </tr>\n",
       "    <tr>\n",
       "      <th>...</th>\n",
       "      <td>...</td>\n",
       "      <td>...</td>\n",
       "      <td>...</td>\n",
       "      <td>...</td>\n",
       "      <td>...</td>\n",
       "      <td>...</td>\n",
       "      <td>...</td>\n",
       "    </tr>\n",
       "    <tr>\n",
       "      <th>237</th>\n",
       "      <td>IBST</td>\n",
       "      <td>IBSTOCK PLC</td>\n",
       "      <td>IBI</td>\n",
       "      <td>Industrials</td>\n",
       "      <td>5.92%</td>\n",
       "      <td>100.00%</td>\n",
       "      <td>0.089</td>\n",
       "    </tr>\n",
       "    <tr>\n",
       "      <th>239</th>\n",
       "      <td>CBG</td>\n",
       "      <td>CLOSE BROTHERS GROUP PLC</td>\n",
       "      <td>CLQH</td>\n",
       "      <td>Financials</td>\n",
       "      <td>18.70%</td>\n",
       "      <td>100.00%</td>\n",
       "      <td>0.675</td>\n",
       "    </tr>\n",
       "    <tr>\n",
       "      <th>241</th>\n",
       "      <td>FUTR</td>\n",
       "      <td>FUTURE PLC</td>\n",
       "      <td>FUFUTR</td>\n",
       "      <td>Consumer Discretionary</td>\n",
       "      <td>0.57%</td>\n",
       "      <td>3.59%</td>\n",
       "      <td>0.034</td>\n",
       "    </tr>\n",
       "    <tr>\n",
       "      <th>242</th>\n",
       "      <td>HBR</td>\n",
       "      <td>HARBOUR ENERGY PLC</td>\n",
       "      <td>PRCI</td>\n",
       "      <td>Energy</td>\n",
       "      <td>8.94%</td>\n",
       "      <td>100.00%</td>\n",
       "      <td>0.240</td>\n",
       "    </tr>\n",
       "    <tr>\n",
       "      <th>244</th>\n",
       "      <td>PPH</td>\n",
       "      <td>PPHE HOTEL GROUP LIMITED</td>\n",
       "      <td>PAPPH</td>\n",
       "      <td>Consumer Discretionary</td>\n",
       "      <td>2.23%</td>\n",
       "      <td>52.92%</td>\n",
       "      <td>0.280</td>\n",
       "    </tr>\n",
       "  </tbody>\n",
       "</table>\n",
       "<p>116 rows × 7 columns</p>\n",
       "</div>"
      ],
      "text/plain": [
       "    Symbol              Company Name Company Code                  Sector  \\\n",
       "0     JUST            JUST GROUP PLC       JUJUST              Financials   \n",
       "2      ITV                   ITV PLC        ITITV  Consumer Discretionary   \n",
       "10     CWK             CRANSWICK PLC         CRBE       Consumer Staples    \n",
       "11    BAKK        BAKKAVOR GROUP PLC       BABAKK       Consumer Staples    \n",
       "13    TBCG        TBC BANK GROUP PLC       TBTBCG              Financials   \n",
       "..     ...                       ...          ...                     ...   \n",
       "237   IBST               IBSTOCK PLC          IBI             Industrials   \n",
       "239    CBG  CLOSE BROTHERS GROUP PLC         CLQH              Financials   \n",
       "241   FUTR                FUTURE PLC       FUFUTR  Consumer Discretionary   \n",
       "242    HBR        HARBOUR ENERGY PLC         PRCI                  Energy   \n",
       "244    PPH  PPHE HOTEL GROUP LIMITED        PAPPH  Consumer Discretionary   \n",
       "\n",
       "    DividendYield PayoutRatio  AnnualDividendsPerShare  \n",
       "0           1.80%      14.47%                    0.018  \n",
       "2           7.03%      75.31%                    0.050  \n",
       "10          1.97%      27.45%                    0.794  \n",
       "11          7.00%      75.46%                    0.071  \n",
       "13          5.31%       8.26%                    1.706  \n",
       "..            ...         ...                      ...  \n",
       "237         5.92%     100.00%                    0.089  \n",
       "239        18.70%     100.00%                    0.675  \n",
       "241         0.57%       3.59%                    0.034  \n",
       "242         8.94%     100.00%                    0.240  \n",
       "244         2.23%      52.92%                    0.280  \n",
       "\n",
       "[116 rows x 7 columns]"
      ]
     },
     "execution_count": 21,
     "metadata": {},
     "output_type": "execute_result"
    }
   ],
   "source": [
    "ftse2023_dataset"
   ]
  },
  {
   "cell_type": "code",
   "execution_count": 22,
   "id": "9668aabc-d7a1-4be8-a1d0-ee4d22160a22",
   "metadata": {},
   "outputs": [],
   "source": [
    "class DataPreparationTestSet(unittest.TestCase):\n",
    "\n",
    "    def test_normalize_invalid_values_numeric_as_nan(self):\n",
    "        df = pd.DataFrame([{'Column1': 10, 'Column2': 0}])\n",
    "        df = normalize_invalid_values_as_nan(df)\n",
    "        \n",
    "        self.assertEqual(df.iloc[0]['Column1'], 10)\n",
    "        self.assertTrue(np.isnan(df.iloc[0]['Column2']))\n",
    "    \n",
    "    def test_normalize_invalid_values_zero_percentage_as_nan(self):\n",
    "        df = pd.DataFrame([{'Column1': '0.00%', 'Column2': 10}])\n",
    "        df = normalize_invalid_values_as_nan(df)\n",
    "        \n",
    "        self.assertEqual(df.iloc[0]['Column2'], 10)\n",
    "        self.assertTrue(np.isnan(df.iloc[0]['Column1']))\n",
    "\n",
    "    def test_normalize_invalid_values_percentage_as_nan(self):\n",
    "        df = pd.DataFrame([{'Column1': '%', 'Column2': 10}])\n",
    "        df = normalize_invalid_values_as_nan(df)\n",
    "        \n",
    "        self.assertEqual(df.iloc[0]['Column2'], 10)\n",
    "        self.assertTrue(np.isnan(df.iloc[0]['Column1']))"
   ]
  },
  {
   "cell_type": "markdown",
   "id": "fba4e0c9-5280-451d-ba10-4763c2c12051",
   "metadata": {},
   "source": [
    "# Pre-processing\n",
    "\n",
    "<p style=\"text-align: justify;text-justify: inter-word;\">The pre-processing is crucial for this analysis, especially considering the use of authentic data where the existence of missing values was expected. Additionally, data transformation is necessary due to certain columns being non-numeric. At present, the consolidated dataset encompasses 7 columns, namely: Symbol, Company Name, Company Code, Sector, AnnualDividendsPerShare, DividendYield, and PayoutRatio.</p>\n",
    "\n",
    "<p style=\"text-align: justify;text-justify: inter-word;\">The columns Symbol, Company Name, Company Code, and Sector contain categorical data, that are used for individual identification.  In contrast, the columns AnnualDividendsPerShare, DividendYield, and PayoutRatio encompass numerical data utilized for data analysis. Notably, the DividendYield and PayoutRatio columns were initially recorded as a string with a percentage sign appended. As part of the pre-processing phase, this value will be transformed into a numeric format for further analysis.</p>\n",
    "\n",
    "<p style=\"text-align: justify;text-justify: inter-word;\">There is one occurrence of \"NA\" in both the PayoutRatio and DividendYield columns. Additionally, the PayoutRatio column contained 19 missing values. To tackle this issue, we populate the missing values in the columns the DividendYield and PayoutRatio were imputed using the mean values of their respective sectors.</p>\n",
    "\n",
    "<p style=\"text-align: justify;text-justify: inter-word;\">Since the column Sector is categorical, we need to convert this column to numeric. The technique applied to convert the values is hot encoding. According to Brownlee (2019), a one-hot encoding is a representation of categorical variables as binary vectors. This first requires that the categorical values be mapped to integer values. Then, each integer value is represented as a binary vector that is all zero values except the index of the integer, which is marked with a 1.</p>\n",
    "\n",
    "<p style=\"text-align: justify;text-justify: inter-word;\">As the last step of the pre-processing, we will remove the categorical columns Company Code, and Company Name since they will not be useful for data analysis. The column DividendCount was introduced during the preprocessing step, and contains the information about the frequency of dividend payments within a specific year. While, the column RetentionRatio was populated from the following formula (Investopedia team, 2023): </p>\n",
    "\n",
    "$$\n",
    "Retention Ratio = 1 - Dividend Payout Ratio\n",
    "$$"
   ]
  },
  {
   "cell_type": "code",
   "execution_count": 23,
   "id": "1d291dcf-c55b-435f-9c25-22deeede2e27",
   "metadata": {},
   "outputs": [],
   "source": [
    "def fill_missing_values_by_sector_mean(ftse_dataset, field):\n",
    "    missing_values = ftse_dataset[ftse_dataset[field].isnull()]\n",
    "    mean_by_sector = ftse_dataset.groupby(by=\"Sector\")[field].mean()\n",
    "    \n",
    "    for index, row in missing_values.iterrows():\n",
    "        ftse_dataset.loc[index, field] = mean_by_sector[row[\"Sector\"]]"
   ]
  },
  {
   "cell_type": "code",
   "execution_count": 24,
   "id": "4ba13c2b-df8a-41ad-af0b-9debf23a1dd2",
   "metadata": {},
   "outputs": [],
   "source": [
    "#Current data format is 0.96% we need to convert to float\n",
    "def convert_percentage_values_to_float(ftse_dataset, column):\n",
    "    def dividend_format(x):\n",
    "        if pd.isna(x):\n",
    "            return np.nan\n",
    "        return float(x[0:-1])\n",
    "    \n",
    "    ftse_dataset[column] = ftse_dataset[column].apply(dividend_format)"
   ]
  },
  {
   "cell_type": "code",
   "execution_count": 25,
   "id": "7db1c4f7-d53a-4b49-a30e-c231841efdcb",
   "metadata": {},
   "outputs": [],
   "source": [
    "def create_dividends_count(ftse_dataset, year):\n",
    "    dividends_dataset = pd.read_csv(\"data/ftset_dividens.csv\")\n",
    "\n",
    "    for index, row in ftse_dataset.iterrows():\n",
    "        dividends = dividends_dataset[dividends_dataset[\"Company Code\"] == row[\"Company Code\"]]\n",
    "        dividends = dividends.loc[dividends[\"Payment Date\"].str.find(year) > -1]\n",
    "        ftse_dataset.loc[index,\"DividendCount\"] = len(dividends)"
   ]
  },
  {
   "cell_type": "code",
   "execution_count": 26,
   "id": "e091f884-ba7d-4a17-a967-fb6431fa97b0",
   "metadata": {},
   "outputs": [],
   "source": [
    "def create_retation_ratio(ftse_dataset):\n",
    "    def dividend_format(value):\n",
    "        return 1 - (value / 100)\n",
    "    \n",
    "    ftse_dataset[\"RetentionRatio\"] = ftse_dataset[\"PayoutRatio\"].apply(dividend_format)"
   ]
  },
  {
   "cell_type": "code",
   "execution_count": 27,
   "id": "c3595396-5155-4476-b7a7-dfb821feb184",
   "metadata": {},
   "outputs": [],
   "source": [
    "def remove_catorical_columns(ftse_dataset):\n",
    "    ftse_dataset.drop(['Company Code'], axis=1, inplace=True)\n",
    "    ftse_dataset.drop(['Company Name'], axis=1, inplace=True)"
   ]
  },
  {
   "cell_type": "code",
   "execution_count": 28,
   "id": "2caa7ba5-5fd7-4775-b3d6-976c526d6179",
   "metadata": {},
   "outputs": [],
   "source": [
    "def get_sector_mappings():\n",
    "    return { 'Basic Materials': 1,\n",
    "             'Consumer Discretionary': 2,\n",
    "             'Consumer Staples': 3,\n",
    "             'Energy': 4,\n",
    "             'Financials': 5,\n",
    "             'Health Care': 6,\n",
    "             'Industrials': 7,\n",
    "             'Miscellaneous': 8,\n",
    "             'Real Estate': 9,\n",
    "             'Technology': 10,\n",
    "             'Telecommunications': 11,\n",
    "             'Utilities': 12\n",
    "           }"
   ]
  },
  {
   "cell_type": "code",
   "execution_count": 29,
   "id": "9c152919-1486-44b7-82c5-ec59ce4c3929",
   "metadata": {},
   "outputs": [],
   "source": [
    "## Apply the mapping here\n",
    "def map_categorical_to_numeric(ftse_dataset):\n",
    "    def sector_format(value):\n",
    "        return value.strip()\n",
    "    \n",
    "    ftse_dataset[\"Sector\"] = ftse_dataset[\"Sector\"].apply(sector_format)\n",
    "    sector_mappings = get_sector_mappings()\n",
    "    ftse_dataset['Sector'].replace(sector_mappings, inplace=True)"
   ]
  },
  {
   "cell_type": "code",
   "execution_count": 30,
   "id": "a3a4abe4-943f-466e-8946-05843c7b8e48",
   "metadata": {},
   "outputs": [],
   "source": [
    "# Apply encoding on the sectors\n",
    "def apply_hot_encoding_sectors(ftse_dataset):\n",
    "    dummies = pd.get_dummies(ftse_dataset['Sector'], dtype=int, prefix='Sector')\n",
    "    ftse_dataset = pd.concat([ftse_dataset, dummies], axis=1)\n",
    "    ftse_dataset.drop(['Sector'], axis=1, inplace=True)\n",
    "    return ftse_dataset"
   ]
  },
  {
   "cell_type": "code",
   "execution_count": 31,
   "id": "c1272eb3-903d-4c7c-8e45-28553adecb12",
   "metadata": {},
   "outputs": [],
   "source": [
    "def ftse_data_preprocessing(ftse_dataset):\n",
    "    dataframe = ftse_dataset.copy()\n",
    "\n",
    "    convert_percentage_values_to_float(dataframe, 'DividendYield')\n",
    "    convert_percentage_values_to_float(dataframe, 'PayoutRatio')\n",
    "    fill_missing_values_by_sector_mean(dataframe, 'DividendYield')\n",
    "    fill_missing_values_by_sector_mean(dataframe, 'PayoutRatio')\n",
    "    create_retation_ratio(dataframe)\n",
    "    create_dividends_count(dataframe, '2023')\n",
    "\n",
    "    remove_catorical_columns(dataframe)\n",
    "\n",
    "    map_categorical_to_numeric(dataframe)\n",
    "    \n",
    "    return apply_hot_encoding_sectors(dataframe)"
   ]
  },
  {
   "cell_type": "code",
   "execution_count": 32,
   "id": "6188038d-a91f-4a6a-8cc7-12c540268be0",
   "metadata": {},
   "outputs": [
    {
     "name": "stdout",
     "output_type": "stream",
     "text": [
      "Missing values table:\n"
     ]
    },
    {
     "data": {
      "text/plain": [
       "Symbol                      0\n",
       "Company Name                0\n",
       "Company Code                0\n",
       "Sector                      0\n",
       "DividendYield               2\n",
       "PayoutRatio                19\n",
       "AnnualDividendsPerShare     0\n",
       "dtype: int64"
      ]
     },
     "execution_count": 32,
     "metadata": {},
     "output_type": "execute_result"
    }
   ],
   "source": [
    "print('Missing values table:')\n",
    "ftse2023_dataset.isnull().sum()"
   ]
  },
  {
   "cell_type": "code",
   "execution_count": 33,
   "id": "0c6f4f9b-c300-4782-af1d-e022ce22f283",
   "metadata": {},
   "outputs": [
    {
     "data": {
      "text/html": [
       "<div>\n",
       "<style scoped>\n",
       "    .dataframe tbody tr th:only-of-type {\n",
       "        vertical-align: middle;\n",
       "    }\n",
       "\n",
       "    .dataframe tbody tr th {\n",
       "        vertical-align: top;\n",
       "    }\n",
       "\n",
       "    .dataframe thead th {\n",
       "        text-align: right;\n",
       "    }\n",
       "</style>\n",
       "<table border=\"1\" class=\"dataframe\">\n",
       "  <thead>\n",
       "    <tr style=\"text-align: right;\">\n",
       "      <th></th>\n",
       "      <th>Symbol</th>\n",
       "      <th>Company Name</th>\n",
       "      <th>Company Code</th>\n",
       "      <th>Sector</th>\n",
       "      <th>DividendYield</th>\n",
       "      <th>PayoutRatio</th>\n",
       "      <th>AnnualDividendsPerShare</th>\n",
       "    </tr>\n",
       "  </thead>\n",
       "  <tbody>\n",
       "    <tr>\n",
       "      <th>155</th>\n",
       "      <td>LMP</td>\n",
       "      <td>LONDONMETRIC PROPERTY PLC</td>\n",
       "      <td>LOLSP</td>\n",
       "      <td>Real Estate</td>\n",
       "      <td>NaN</td>\n",
       "      <td>NaN</td>\n",
       "      <td>0.081</td>\n",
       "    </tr>\n",
       "    <tr>\n",
       "      <th>232</th>\n",
       "      <td>CURY</td>\n",
       "      <td>CURRYS PLC</td>\n",
       "      <td>DIXDC</td>\n",
       "      <td>Consumer Discretionary</td>\n",
       "      <td>NaN</td>\n",
       "      <td>27.60%</td>\n",
       "      <td>0.010</td>\n",
       "    </tr>\n",
       "  </tbody>\n",
       "</table>\n",
       "</div>"
      ],
      "text/plain": [
       "    Symbol               Company Name Company Code                  Sector  \\\n",
       "155    LMP  LONDONMETRIC PROPERTY PLC        LOLSP             Real Estate   \n",
       "232   CURY                 CURRYS PLC        DIXDC  Consumer Discretionary   \n",
       "\n",
       "    DividendYield PayoutRatio  AnnualDividendsPerShare  \n",
       "155           NaN         NaN                    0.081  \n",
       "232           NaN      27.60%                    0.010  "
      ]
     },
     "execution_count": 33,
     "metadata": {},
     "output_type": "execute_result"
    }
   ],
   "source": [
    "ftse2023_dataset[ftse2023_dataset['DividendYield'].isnull()]"
   ]
  },
  {
   "cell_type": "code",
   "execution_count": 34,
   "id": "6dd70d00-104b-4e1d-8eee-8fe726949731",
   "metadata": {},
   "outputs": [
    {
     "data": {
      "text/html": [
       "<div>\n",
       "<style scoped>\n",
       "    .dataframe tbody tr th:only-of-type {\n",
       "        vertical-align: middle;\n",
       "    }\n",
       "\n",
       "    .dataframe tbody tr th {\n",
       "        vertical-align: top;\n",
       "    }\n",
       "\n",
       "    .dataframe thead th {\n",
       "        text-align: right;\n",
       "    }\n",
       "</style>\n",
       "<table border=\"1\" class=\"dataframe\">\n",
       "  <thead>\n",
       "    <tr style=\"text-align: right;\">\n",
       "      <th></th>\n",
       "      <th>Symbol</th>\n",
       "      <th>Company Name</th>\n",
       "      <th>Company Code</th>\n",
       "      <th>Sector</th>\n",
       "      <th>DividendYield</th>\n",
       "      <th>PayoutRatio</th>\n",
       "      <th>AnnualDividendsPerShare</th>\n",
       "    </tr>\n",
       "  </thead>\n",
       "  <tbody>\n",
       "    <tr>\n",
       "      <th>15</th>\n",
       "      <td>BCPT</td>\n",
       "      <td>BALANCED COMMERCIAL PROPERTY TRUST LIMITED</td>\n",
       "      <td>BMBCPT</td>\n",
       "      <td>Real Estate</td>\n",
       "      <td>6.19%</td>\n",
       "      <td>NaN</td>\n",
       "      <td>0.036</td>\n",
       "    </tr>\n",
       "    <tr>\n",
       "      <th>22</th>\n",
       "      <td>SHED</td>\n",
       "      <td>URBAN LOGISTICS REIT PLC</td>\n",
       "      <td>SHEDLO</td>\n",
       "      <td>Real Estate</td>\n",
       "      <td>6.51%</td>\n",
       "      <td>NaN</td>\n",
       "      <td>0.077</td>\n",
       "    </tr>\n",
       "    <tr>\n",
       "      <th>28</th>\n",
       "      <td>BLND</td>\n",
       "      <td>BRITISH LAND COMPANY PLC</td>\n",
       "      <td>BRNF</td>\n",
       "      <td>Real Estate</td>\n",
       "      <td>6.30%</td>\n",
       "      <td>NaN</td>\n",
       "      <td>0.226</td>\n",
       "    </tr>\n",
       "    <tr>\n",
       "      <th>38</th>\n",
       "      <td>IPO</td>\n",
       "      <td>IP GROUP PLC</td>\n",
       "      <td>IPIPO</td>\n",
       "      <td>Financials</td>\n",
       "      <td>2.63%</td>\n",
       "      <td>NaN</td>\n",
       "      <td>0.013</td>\n",
       "    </tr>\n",
       "    <tr>\n",
       "      <th>41</th>\n",
       "      <td>DLN</td>\n",
       "      <td>DERWENT LONDON PLC</td>\n",
       "      <td>DEDLN</td>\n",
       "      <td>Real Estate</td>\n",
       "      <td>1.88%</td>\n",
       "      <td>NaN</td>\n",
       "      <td>0.405</td>\n",
       "    </tr>\n",
       "    <tr>\n",
       "      <th>43</th>\n",
       "      <td>ESNT</td>\n",
       "      <td>ESSENTRA PLC</td>\n",
       "      <td>ESESNT</td>\n",
       "      <td>Industrials</td>\n",
       "      <td>1.25%</td>\n",
       "      <td>NaN</td>\n",
       "      <td>0.022</td>\n",
       "    </tr>\n",
       "    <tr>\n",
       "      <th>49</th>\n",
       "      <td>AGR</td>\n",
       "      <td>ASSURA PLC</td>\n",
       "      <td>ASSAGR</td>\n",
       "      <td>Real Estate</td>\n",
       "      <td>7.91%</td>\n",
       "      <td>NaN</td>\n",
       "      <td>0.032</td>\n",
       "    </tr>\n",
       "    <tr>\n",
       "      <th>75</th>\n",
       "      <td>FGP</td>\n",
       "      <td>FIRSTGROUP PLC</td>\n",
       "      <td>FIFGP</td>\n",
       "      <td>Industrials</td>\n",
       "      <td>2.74%</td>\n",
       "      <td>NaN</td>\n",
       "      <td>0.029</td>\n",
       "    </tr>\n",
       "    <tr>\n",
       "      <th>80</th>\n",
       "      <td>THRL</td>\n",
       "      <td>TARGET HEALTHCARE REIT PLC</td>\n",
       "      <td>TATHRL</td>\n",
       "      <td>Real Estate</td>\n",
       "      <td>5.84%</td>\n",
       "      <td>NaN</td>\n",
       "      <td>0.047</td>\n",
       "    </tr>\n",
       "    <tr>\n",
       "      <th>110</th>\n",
       "      <td>UKCM</td>\n",
       "      <td>UK COMMERCIAL PROPERTY REIT LIMITED</td>\n",
       "      <td>UKUKCM</td>\n",
       "      <td>Real Estate</td>\n",
       "      <td>2.50%</td>\n",
       "      <td>NaN</td>\n",
       "      <td>0.018</td>\n",
       "    </tr>\n",
       "    <tr>\n",
       "      <th>119</th>\n",
       "      <td>JUP</td>\n",
       "      <td>JUPITER FUND MANAGEMENT PLC</td>\n",
       "      <td>JUJUP</td>\n",
       "      <td>Financials</td>\n",
       "      <td>4.36%</td>\n",
       "      <td>NaN</td>\n",
       "      <td>0.040</td>\n",
       "    </tr>\n",
       "    <tr>\n",
       "      <th>125</th>\n",
       "      <td>WKP</td>\n",
       "      <td>WORKSPACE GROUP PLC</td>\n",
       "      <td>WOWKP</td>\n",
       "      <td>Real Estate</td>\n",
       "      <td>5.17%</td>\n",
       "      <td>NaN</td>\n",
       "      <td>0.258</td>\n",
       "    </tr>\n",
       "    <tr>\n",
       "      <th>144</th>\n",
       "      <td>HMSO</td>\n",
       "      <td>HAMMERSON PLC</td>\n",
       "      <td>HAHPY</td>\n",
       "      <td>Real Estate</td>\n",
       "      <td>2.76%</td>\n",
       "      <td>NaN</td>\n",
       "      <td>0.007</td>\n",
       "    </tr>\n",
       "    <tr>\n",
       "      <th>146</th>\n",
       "      <td>GPE</td>\n",
       "      <td>GREAT PORTLAND ESTATES PLC</td>\n",
       "      <td>GRIO</td>\n",
       "      <td>Real Estate</td>\n",
       "      <td>3.26%</td>\n",
       "      <td>NaN</td>\n",
       "      <td>0.103</td>\n",
       "    </tr>\n",
       "    <tr>\n",
       "      <th>155</th>\n",
       "      <td>LMP</td>\n",
       "      <td>LONDONMETRIC PROPERTY PLC</td>\n",
       "      <td>LOLSP</td>\n",
       "      <td>Real Estate</td>\n",
       "      <td>NaN</td>\n",
       "      <td>NaN</td>\n",
       "      <td>0.081</td>\n",
       "    </tr>\n",
       "    <tr>\n",
       "      <th>179</th>\n",
       "      <td>EBOX</td>\n",
       "      <td>TRITAX EUROBOX PLC</td>\n",
       "      <td>EBOXTR</td>\n",
       "      <td>Real Estate</td>\n",
       "      <td>8.07%</td>\n",
       "      <td>NaN</td>\n",
       "      <td>0.044</td>\n",
       "    </tr>\n",
       "    <tr>\n",
       "      <th>225</th>\n",
       "      <td>ENOG</td>\n",
       "      <td>ENERGEAN PLC</td>\n",
       "      <td>ENENOG</td>\n",
       "      <td>Energy</td>\n",
       "      <td>11.86%</td>\n",
       "      <td>NaN</td>\n",
       "      <td>1.200</td>\n",
       "    </tr>\n",
       "    <tr>\n",
       "      <th>226</th>\n",
       "      <td>PNN</td>\n",
       "      <td>PENNON GROUP PLC</td>\n",
       "      <td>PEPNN</td>\n",
       "      <td>Utilities</td>\n",
       "      <td>6.27%</td>\n",
       "      <td>NaN</td>\n",
       "      <td>0.428</td>\n",
       "    </tr>\n",
       "    <tr>\n",
       "      <th>236</th>\n",
       "      <td>PZC</td>\n",
       "      <td>PZ CUSSONS PLC</td>\n",
       "      <td>PZPZC</td>\n",
       "      <td>Consumer Staples</td>\n",
       "      <td>7.08%</td>\n",
       "      <td>NaN</td>\n",
       "      <td>0.064</td>\n",
       "    </tr>\n",
       "  </tbody>\n",
       "</table>\n",
       "</div>"
      ],
      "text/plain": [
       "    Symbol                                Company Name Company Code  \\\n",
       "15    BCPT  BALANCED COMMERCIAL PROPERTY TRUST LIMITED       BMBCPT   \n",
       "22    SHED                    URBAN LOGISTICS REIT PLC       SHEDLO   \n",
       "28    BLND                    BRITISH LAND COMPANY PLC         BRNF   \n",
       "38     IPO                                IP GROUP PLC        IPIPO   \n",
       "41     DLN                          DERWENT LONDON PLC        DEDLN   \n",
       "43    ESNT                                ESSENTRA PLC       ESESNT   \n",
       "49     AGR                                  ASSURA PLC       ASSAGR   \n",
       "75     FGP                              FIRSTGROUP PLC        FIFGP   \n",
       "80    THRL                  TARGET HEALTHCARE REIT PLC       TATHRL   \n",
       "110   UKCM         UK COMMERCIAL PROPERTY REIT LIMITED       UKUKCM   \n",
       "119    JUP                 JUPITER FUND MANAGEMENT PLC        JUJUP   \n",
       "125    WKP                         WORKSPACE GROUP PLC        WOWKP   \n",
       "144   HMSO                               HAMMERSON PLC        HAHPY   \n",
       "146    GPE                  GREAT PORTLAND ESTATES PLC         GRIO   \n",
       "155    LMP                   LONDONMETRIC PROPERTY PLC        LOLSP   \n",
       "179   EBOX                          TRITAX EUROBOX PLC       EBOXTR   \n",
       "225   ENOG                                ENERGEAN PLC       ENENOG   \n",
       "226    PNN                            PENNON GROUP PLC        PEPNN   \n",
       "236    PZC                              PZ CUSSONS PLC        PZPZC   \n",
       "\n",
       "                Sector DividendYield PayoutRatio  AnnualDividendsPerShare  \n",
       "15         Real Estate         6.19%         NaN                    0.036  \n",
       "22         Real Estate         6.51%         NaN                    0.077  \n",
       "28         Real Estate         6.30%         NaN                    0.226  \n",
       "38          Financials         2.63%         NaN                    0.013  \n",
       "41         Real Estate         1.88%         NaN                    0.405  \n",
       "43         Industrials         1.25%         NaN                    0.022  \n",
       "49         Real Estate         7.91%         NaN                    0.032  \n",
       "75         Industrials         2.74%         NaN                    0.029  \n",
       "80         Real Estate         5.84%         NaN                    0.047  \n",
       "110        Real Estate         2.50%         NaN                    0.018  \n",
       "119         Financials         4.36%         NaN                    0.040  \n",
       "125        Real Estate         5.17%         NaN                    0.258  \n",
       "144        Real Estate         2.76%         NaN                    0.007  \n",
       "146        Real Estate         3.26%         NaN                    0.103  \n",
       "155        Real Estate           NaN         NaN                    0.081  \n",
       "179        Real Estate         8.07%         NaN                    0.044  \n",
       "225             Energy        11.86%         NaN                    1.200  \n",
       "226          Utilities         6.27%         NaN                    0.428  \n",
       "236  Consumer Staples          7.08%         NaN                    0.064  "
      ]
     },
     "execution_count": 34,
     "metadata": {},
     "output_type": "execute_result"
    }
   ],
   "source": [
    "ftse2023_dataset[ftse2023_dataset['PayoutRatio'].isnull()]"
   ]
  },
  {
   "cell_type": "code",
   "execution_count": 35,
   "id": "ffbbe70a-043e-47bb-819a-e570b9fd6744",
   "metadata": {},
   "outputs": [
    {
     "name": "stdout",
     "output_type": "stream",
     "text": [
      "Sectors frequency distribution table:\n"
     ]
    },
    {
     "data": {
      "text/plain": [
       "Sector\n",
       "Industrials               34\n",
       "Financials                22\n",
       "Real Estate               21\n",
       "Consumer Discretionary    15\n",
       "Consumer Staples           7\n",
       "Basic Materials            5\n",
       "Technology                 3\n",
       "Energy                     3\n",
       "Telecommunications         2\n",
       "Health Care                2\n",
       "Utilities                  2\n",
       "Name: count, dtype: int64"
      ]
     },
     "execution_count": 35,
     "metadata": {},
     "output_type": "execute_result"
    }
   ],
   "source": [
    "print('Sectors frequency distribution table:')\n",
    "ftse2023_dataset['Sector'].value_counts()"
   ]
  },
  {
   "cell_type": "code",
   "execution_count": 36,
   "id": "907d4689-3304-4b26-8af1-c61661e6332b",
   "metadata": {},
   "outputs": [
    {
     "data": {
      "text/plain": [
       "Symbol                     0\n",
       "DividendYield              0\n",
       "PayoutRatio                0\n",
       "AnnualDividendsPerShare    0\n",
       "RetentionRatio             0\n",
       "DividendCount              0\n",
       "Sector_1                   0\n",
       "Sector_2                   0\n",
       "Sector_3                   0\n",
       "Sector_4                   0\n",
       "Sector_5                   0\n",
       "Sector_6                   0\n",
       "Sector_7                   0\n",
       "Sector_9                   0\n",
       "Sector_10                  0\n",
       "Sector_11                  0\n",
       "Sector_12                  0\n",
       "dtype: int64"
      ]
     },
     "execution_count": 36,
     "metadata": {},
     "output_type": "execute_result"
    }
   ],
   "source": [
    "ftse_dataset = ftse_data_preprocessing(ftse2023_dataset)\n",
    "ftse_dataset.isnull().sum()"
   ]
  },
  {
   "cell_type": "code",
   "execution_count": 37,
   "id": "3260834e-a4b7-4669-9b32-7c0d46134328",
   "metadata": {},
   "outputs": [
    {
     "data": {
      "text/html": [
       "<div>\n",
       "<style scoped>\n",
       "    .dataframe tbody tr th:only-of-type {\n",
       "        vertical-align: middle;\n",
       "    }\n",
       "\n",
       "    .dataframe tbody tr th {\n",
       "        vertical-align: top;\n",
       "    }\n",
       "\n",
       "    .dataframe thead th {\n",
       "        text-align: right;\n",
       "    }\n",
       "</style>\n",
       "<table border=\"1\" class=\"dataframe\">\n",
       "  <thead>\n",
       "    <tr style=\"text-align: right;\">\n",
       "      <th></th>\n",
       "      <th>Symbol</th>\n",
       "      <th>DividendYield</th>\n",
       "      <th>PayoutRatio</th>\n",
       "      <th>AnnualDividendsPerShare</th>\n",
       "      <th>RetentionRatio</th>\n",
       "      <th>DividendCount</th>\n",
       "      <th>Sector_1</th>\n",
       "      <th>Sector_2</th>\n",
       "      <th>Sector_3</th>\n",
       "      <th>Sector_4</th>\n",
       "      <th>Sector_5</th>\n",
       "      <th>Sector_6</th>\n",
       "      <th>Sector_7</th>\n",
       "      <th>Sector_9</th>\n",
       "      <th>Sector_10</th>\n",
       "      <th>Sector_11</th>\n",
       "      <th>Sector_12</th>\n",
       "    </tr>\n",
       "  </thead>\n",
       "  <tbody>\n",
       "    <tr>\n",
       "      <th>0</th>\n",
       "      <td>JUST</td>\n",
       "      <td>1.80</td>\n",
       "      <td>14.47</td>\n",
       "      <td>0.018</td>\n",
       "      <td>0.8553</td>\n",
       "      <td>2.0</td>\n",
       "      <td>0</td>\n",
       "      <td>0</td>\n",
       "      <td>0</td>\n",
       "      <td>0</td>\n",
       "      <td>1</td>\n",
       "      <td>0</td>\n",
       "      <td>0</td>\n",
       "      <td>0</td>\n",
       "      <td>0</td>\n",
       "      <td>0</td>\n",
       "      <td>0</td>\n",
       "    </tr>\n",
       "    <tr>\n",
       "      <th>2</th>\n",
       "      <td>ITV</td>\n",
       "      <td>7.03</td>\n",
       "      <td>75.31</td>\n",
       "      <td>0.050</td>\n",
       "      <td>0.2469</td>\n",
       "      <td>2.0</td>\n",
       "      <td>0</td>\n",
       "      <td>1</td>\n",
       "      <td>0</td>\n",
       "      <td>0</td>\n",
       "      <td>0</td>\n",
       "      <td>0</td>\n",
       "      <td>0</td>\n",
       "      <td>0</td>\n",
       "      <td>0</td>\n",
       "      <td>0</td>\n",
       "      <td>0</td>\n",
       "    </tr>\n",
       "    <tr>\n",
       "      <th>10</th>\n",
       "      <td>CWK</td>\n",
       "      <td>1.97</td>\n",
       "      <td>27.45</td>\n",
       "      <td>0.794</td>\n",
       "      <td>0.7255</td>\n",
       "      <td>2.0</td>\n",
       "      <td>0</td>\n",
       "      <td>0</td>\n",
       "      <td>1</td>\n",
       "      <td>0</td>\n",
       "      <td>0</td>\n",
       "      <td>0</td>\n",
       "      <td>0</td>\n",
       "      <td>0</td>\n",
       "      <td>0</td>\n",
       "      <td>0</td>\n",
       "      <td>0</td>\n",
       "    </tr>\n",
       "    <tr>\n",
       "      <th>11</th>\n",
       "      <td>BAKK</td>\n",
       "      <td>7.00</td>\n",
       "      <td>75.46</td>\n",
       "      <td>0.071</td>\n",
       "      <td>0.2454</td>\n",
       "      <td>2.0</td>\n",
       "      <td>0</td>\n",
       "      <td>0</td>\n",
       "      <td>1</td>\n",
       "      <td>0</td>\n",
       "      <td>0</td>\n",
       "      <td>0</td>\n",
       "      <td>0</td>\n",
       "      <td>0</td>\n",
       "      <td>0</td>\n",
       "      <td>0</td>\n",
       "      <td>0</td>\n",
       "    </tr>\n",
       "    <tr>\n",
       "      <th>13</th>\n",
       "      <td>TBCG</td>\n",
       "      <td>5.31</td>\n",
       "      <td>8.26</td>\n",
       "      <td>1.706</td>\n",
       "      <td>0.9174</td>\n",
       "      <td>2.0</td>\n",
       "      <td>0</td>\n",
       "      <td>0</td>\n",
       "      <td>0</td>\n",
       "      <td>0</td>\n",
       "      <td>1</td>\n",
       "      <td>0</td>\n",
       "      <td>0</td>\n",
       "      <td>0</td>\n",
       "      <td>0</td>\n",
       "      <td>0</td>\n",
       "      <td>0</td>\n",
       "    </tr>\n",
       "    <tr>\n",
       "      <th>...</th>\n",
       "      <td>...</td>\n",
       "      <td>...</td>\n",
       "      <td>...</td>\n",
       "      <td>...</td>\n",
       "      <td>...</td>\n",
       "      <td>...</td>\n",
       "      <td>...</td>\n",
       "      <td>...</td>\n",
       "      <td>...</td>\n",
       "      <td>...</td>\n",
       "      <td>...</td>\n",
       "      <td>...</td>\n",
       "      <td>...</td>\n",
       "      <td>...</td>\n",
       "      <td>...</td>\n",
       "      <td>...</td>\n",
       "      <td>...</td>\n",
       "    </tr>\n",
       "    <tr>\n",
       "      <th>237</th>\n",
       "      <td>IBST</td>\n",
       "      <td>5.92</td>\n",
       "      <td>100.00</td>\n",
       "      <td>0.089</td>\n",
       "      <td>0.0000</td>\n",
       "      <td>2.0</td>\n",
       "      <td>0</td>\n",
       "      <td>0</td>\n",
       "      <td>0</td>\n",
       "      <td>0</td>\n",
       "      <td>0</td>\n",
       "      <td>0</td>\n",
       "      <td>1</td>\n",
       "      <td>0</td>\n",
       "      <td>0</td>\n",
       "      <td>0</td>\n",
       "      <td>0</td>\n",
       "    </tr>\n",
       "    <tr>\n",
       "      <th>239</th>\n",
       "      <td>CBG</td>\n",
       "      <td>18.70</td>\n",
       "      <td>100.00</td>\n",
       "      <td>0.675</td>\n",
       "      <td>0.0000</td>\n",
       "      <td>2.0</td>\n",
       "      <td>0</td>\n",
       "      <td>0</td>\n",
       "      <td>0</td>\n",
       "      <td>0</td>\n",
       "      <td>1</td>\n",
       "      <td>0</td>\n",
       "      <td>0</td>\n",
       "      <td>0</td>\n",
       "      <td>0</td>\n",
       "      <td>0</td>\n",
       "      <td>0</td>\n",
       "    </tr>\n",
       "    <tr>\n",
       "      <th>241</th>\n",
       "      <td>FUTR</td>\n",
       "      <td>0.57</td>\n",
       "      <td>3.59</td>\n",
       "      <td>0.034</td>\n",
       "      <td>0.9641</td>\n",
       "      <td>1.0</td>\n",
       "      <td>0</td>\n",
       "      <td>1</td>\n",
       "      <td>0</td>\n",
       "      <td>0</td>\n",
       "      <td>0</td>\n",
       "      <td>0</td>\n",
       "      <td>0</td>\n",
       "      <td>0</td>\n",
       "      <td>0</td>\n",
       "      <td>0</td>\n",
       "      <td>0</td>\n",
       "    </tr>\n",
       "    <tr>\n",
       "      <th>242</th>\n",
       "      <td>HBR</td>\n",
       "      <td>8.94</td>\n",
       "      <td>100.00</td>\n",
       "      <td>0.240</td>\n",
       "      <td>0.0000</td>\n",
       "      <td>2.0</td>\n",
       "      <td>0</td>\n",
       "      <td>0</td>\n",
       "      <td>0</td>\n",
       "      <td>1</td>\n",
       "      <td>0</td>\n",
       "      <td>0</td>\n",
       "      <td>0</td>\n",
       "      <td>0</td>\n",
       "      <td>0</td>\n",
       "      <td>0</td>\n",
       "      <td>0</td>\n",
       "    </tr>\n",
       "    <tr>\n",
       "      <th>244</th>\n",
       "      <td>PPH</td>\n",
       "      <td>2.23</td>\n",
       "      <td>52.92</td>\n",
       "      <td>0.280</td>\n",
       "      <td>0.4708</td>\n",
       "      <td>2.0</td>\n",
       "      <td>0</td>\n",
       "      <td>1</td>\n",
       "      <td>0</td>\n",
       "      <td>0</td>\n",
       "      <td>0</td>\n",
       "      <td>0</td>\n",
       "      <td>0</td>\n",
       "      <td>0</td>\n",
       "      <td>0</td>\n",
       "      <td>0</td>\n",
       "      <td>0</td>\n",
       "    </tr>\n",
       "  </tbody>\n",
       "</table>\n",
       "<p>116 rows × 17 columns</p>\n",
       "</div>"
      ],
      "text/plain": [
       "    Symbol  DividendYield  PayoutRatio  AnnualDividendsPerShare  \\\n",
       "0     JUST           1.80        14.47                    0.018   \n",
       "2      ITV           7.03        75.31                    0.050   \n",
       "10     CWK           1.97        27.45                    0.794   \n",
       "11    BAKK           7.00        75.46                    0.071   \n",
       "13    TBCG           5.31         8.26                    1.706   \n",
       "..     ...            ...          ...                      ...   \n",
       "237   IBST           5.92       100.00                    0.089   \n",
       "239    CBG          18.70       100.00                    0.675   \n",
       "241   FUTR           0.57         3.59                    0.034   \n",
       "242    HBR           8.94       100.00                    0.240   \n",
       "244    PPH           2.23        52.92                    0.280   \n",
       "\n",
       "     RetentionRatio  DividendCount  Sector_1  Sector_2  Sector_3  Sector_4  \\\n",
       "0            0.8553            2.0         0         0         0         0   \n",
       "2            0.2469            2.0         0         1         0         0   \n",
       "10           0.7255            2.0         0         0         1         0   \n",
       "11           0.2454            2.0         0         0         1         0   \n",
       "13           0.9174            2.0         0         0         0         0   \n",
       "..              ...            ...       ...       ...       ...       ...   \n",
       "237          0.0000            2.0         0         0         0         0   \n",
       "239          0.0000            2.0         0         0         0         0   \n",
       "241          0.9641            1.0         0         1         0         0   \n",
       "242          0.0000            2.0         0         0         0         1   \n",
       "244          0.4708            2.0         0         1         0         0   \n",
       "\n",
       "     Sector_5  Sector_6  Sector_7  Sector_9  Sector_10  Sector_11  Sector_12  \n",
       "0           1         0         0         0          0          0          0  \n",
       "2           0         0         0         0          0          0          0  \n",
       "10          0         0         0         0          0          0          0  \n",
       "11          0         0         0         0          0          0          0  \n",
       "13          1         0         0         0          0          0          0  \n",
       "..        ...       ...       ...       ...        ...        ...        ...  \n",
       "237         0         0         1         0          0          0          0  \n",
       "239         1         0         0         0          0          0          0  \n",
       "241         0         0         0         0          0          0          0  \n",
       "242         0         0         0         0          0          0          0  \n",
       "244         0         0         0         0          0          0          0  \n",
       "\n",
       "[116 rows x 17 columns]"
      ]
     },
     "execution_count": 37,
     "metadata": {},
     "output_type": "execute_result"
    }
   ],
   "source": [
    "ftse_dataset"
   ]
  },
  {
   "cell_type": "code",
   "execution_count": 38,
   "id": "67b6cb55-4350-48e7-9271-9279f2ac3a58",
   "metadata": {},
   "outputs": [],
   "source": [
    "class DataPreProcessingTestSet(unittest.TestCase):\n",
    "\n",
    "    def test_create_retation_ratio_high_retation(self):\n",
    "        df = pd.DataFrame([{'PayoutRatio': 18.302007}])\n",
    "        create_retation_ratio(df)\n",
    "        \n",
    "        self.assertEqual(df.iloc[0]['RetentionRatio'], 0.81697993)\n",
    "\n",
    "    def test_create_retation_ratio_low_retation(self):\n",
    "        df = pd.DataFrame([{'PayoutRatio': 60.528571}])\n",
    "        create_retation_ratio(df)\n",
    "        \n",
    "        self.assertEqual(df.iloc[0]['RetentionRatio'], 0.39471429)\n",
    "\n",
    "    def test_convert_percentage_values_to_float(self):\n",
    "        df = pd.DataFrame([{'DividendCount': '5.7%'}])\n",
    "        convert_percentage_values_to_float(df, 'DividendCount')\n",
    "        \n",
    "        self.assertEqual(df.iloc[0]['DividendCount'], 5.70)\n",
    "\n",
    "    def test_convert_percentage_values_to_float_two_decimal_digits(self):\n",
    "        df = pd.DataFrame([{'DividendCount': '8.81%'}])\n",
    "        convert_percentage_values_to_float(df, 'DividendCount')\n",
    "        \n",
    "        self.assertEqual(df.iloc[0]['DividendCount'], 8.81)\n",
    "    \n",
    "    def test_get_sector_mappings(self):\n",
    "        sectors = get_sector_mappings()\n",
    "        self.assertEqual(sectors['Basic Materials'], 1)\n",
    "        self.assertEqual(sectors['Consumer Discretionary'], 2)\n",
    "        self.assertEqual(sectors['Consumer Staples'], 3)\n",
    "        self.assertEqual(sectors['Energy'], 4)\n",
    "        self.assertEqual(sectors['Financials'], 5)\n",
    "        self.assertEqual(sectors['Health Care'], 6)\n",
    "        self.assertEqual(sectors['Industrials'], 7)\n",
    "        self.assertEqual(sectors['Miscellaneous'], 8)\n",
    "        self.assertEqual(sectors['Real Estate'], 9)\n",
    "        self.assertEqual(sectors['Technology'], 10)\n",
    "        self.assertEqual(sectors['Telecommunications'], 11)\n",
    "        self.assertEqual(sectors['Utilities'], 12)\n"
   ]
  },
  {
   "cell_type": "code",
   "execution_count": 39,
   "id": "a03c49d5-fa85-4ab3-9496-86908df8f209",
   "metadata": {},
   "outputs": [
    {
     "name": "stderr",
     "output_type": "stream",
     "text": [
      "test_ftse250_get_dividends (__main__.DataAcquisitionTestSet.test_ftse250_get_dividends) ... ok\n",
      "test_ftse250_get_dividends_extract_dividends (__main__.DataAcquisitionTestSet.test_ftse250_get_dividends_extract_dividends) ... ok\n",
      "test_rate_format_returns_nan (__main__.DataAcquisitionTestSet.test_rate_format_returns_nan) ... ok\n",
      "test_rate_format_returns_percentage (__main__.DataAcquisitionTestSet.test_rate_format_returns_percentage) ... ok\n",
      "test_convert_percentage_values_to_float (__main__.DataPreProcessingTestSet.test_convert_percentage_values_to_float) ... ok\n",
      "test_convert_percentage_values_to_float_two_decimal_digits (__main__.DataPreProcessingTestSet.test_convert_percentage_values_to_float_two_decimal_digits) ... ok\n",
      "test_create_retation_ratio_high_retation (__main__.DataPreProcessingTestSet.test_create_retation_ratio_high_retation) ... ok\n",
      "test_create_retation_ratio_low_retation (__main__.DataPreProcessingTestSet.test_create_retation_ratio_low_retation) ... ok\n",
      "test_get_sector_mappings (__main__.DataPreProcessingTestSet.test_get_sector_mappings) ... ok\n",
      "test_normalize_invalid_values_numeric_as_nan (__main__.DataPreparationTestSet.test_normalize_invalid_values_numeric_as_nan) ... ok\n",
      "test_normalize_invalid_values_percentage_as_nan (__main__.DataPreparationTestSet.test_normalize_invalid_values_percentage_as_nan) ... ok\n",
      "test_normalize_invalid_values_zero_percentage_as_nan (__main__.DataPreparationTestSet.test_normalize_invalid_values_zero_percentage_as_nan) ... ok\n",
      "\n",
      "----------------------------------------------------------------------\n",
      "Ran 12 tests in 0.010s\n",
      "\n",
      "OK\n"
     ]
    },
    {
     "data": {
      "text/plain": [
       "<unittest.main.TestProgram at 0x17991d0d0>"
      ]
     },
     "execution_count": 39,
     "metadata": {},
     "output_type": "execute_result"
    }
   ],
   "source": [
    "unittest.main(argv=['ingored', '-v'], exit=False)"
   ]
  },
  {
   "cell_type": "markdown",
   "id": "5ddef841-4b27-4caf-a61e-97d02b56f063",
   "metadata": {},
   "source": [
    "# Methodology\n",
    "\n",
    "<p style=\"text-align: justify;text-justify: inter-word;\">\n",
    "The methodology adopted in this study involves several sequential steps aimed at conducting a comparative analysis of exchange data, labeling shares based on attractiveness, and employing machine learning algorithms to predict share attractiveness within the London Exchange and NASDAQ index. Initially, a comparative analysis is performed on the exchange data pertaining to shares that distributed dividends in 2023, encompassing constituents of both the FTSE-250 and NASDAQ indexes. This analysis aims to identify similarities and differences in financial metrics among the shares listed on these exchanges. Subsequently, a labeling process is applied to both datasets to categorize shares as attractive or not. This process involves assigning binary labels based on predetermined criteria, which are derived from the comparative analysis and other relevant factors. In the final stage, machine learning algorithms specifically support vector machines (SVM), random forests, and XGBoost are utilized to predict the attractiveness of shares within the London Exchange and US index. Given the utilization of multiple datasets, standardization is crucial to ensure consistent performance across the models. Additionally, feature selection technique is applied applied to the datasets to enhance the accuracy scores. This process involves identifying and retaining the most relevant features while discarding redundant or less informative ones.\n",
    "</p>"
   ]
  },
  {
   "cell_type": "markdown",
   "id": "8a7eb9ef-5893-488d-8f94-866b0a73de5e",
   "metadata": {},
   "source": [
    "## Comparative Analysis of Exchange Data\n",
    "\n",
    "<p style=\"text-align: justify;text-justify: inter-word;\">\n",
    "The NASDAQ dataset was created for Steffens (2023), the extracted dataset contains the following columns: Symbol, AnnualDividendsPerShare, DividendYield, PayoutRatio, DividendCount, and Sector 1-12. This dataset comprises 786 shares that disbursed dividends throughout 2023, significantly surpassing the FTSE dataset which featured 116 dividend-distributing shares during the same period. The sector financials was the sector in which more companies distributed dividends in the NASDAQ index, while in the FTSE the sector of the industrials was the sector in which more companies distributed dividends. The sectors basic materials, and miscellaneous are the ones in which fewer companies distributed dividends in the NASDAQ, and in the FTSE are the health care, telecommunications, and utilities.\n",
    "</p>\n",
    "<p style=\"text-align: justify;text-justify: inter-word;\">\n",
    "At first glance, it's possible to affirm the NASDAQ dataset presents the highest values in the annual paid dividends per share in comparison with the value paid in the FTSE dataset. On another hand, the standard deviation is also higher on the NASDAQ. While in the dividend yield, the values are close. The NASDAQ average dividend yield ratio is 4.877, and the NFTSE is 4.423. But the standard deviation lies far from each other, the NASDAQ presented 5.603, and the NFTSE is only 3.412. Regarding the payout ratio, the FTSE presented a higher average value, and lower standard deviation in comparison with NASDAQ. The NASDAQ companies presented higher values in the retention ratio in comparison with the FTSE companies, but the standard deviation is also higher. The last metric evaluated was the number of times the dividends were paid in 2023, the NASDAQ presented an average of 4 times, and the FTSE presented an average of 2 times.\n",
    "</p>"
   ]
  },
  {
   "cell_type": "code",
   "execution_count": 126,
   "id": "755d2092-89bc-4d6b-85df-d05b219959e8",
   "metadata": {},
   "outputs": [
    {
     "data": {
      "text/html": [
       "<div>\n",
       "<style scoped>\n",
       "    .dataframe tbody tr th:only-of-type {\n",
       "        vertical-align: middle;\n",
       "    }\n",
       "\n",
       "    .dataframe tbody tr th {\n",
       "        vertical-align: top;\n",
       "    }\n",
       "\n",
       "    .dataframe thead th {\n",
       "        text-align: right;\n",
       "    }\n",
       "</style>\n",
       "<table border=\"1\" class=\"dataframe\">\n",
       "  <thead>\n",
       "    <tr style=\"text-align: right;\">\n",
       "      <th></th>\n",
       "      <th>Symbol</th>\n",
       "      <th>AnnualDividendsPerShare</th>\n",
       "      <th>DividendYield</th>\n",
       "      <th>PayoutRatio</th>\n",
       "      <th>RetentionRatio</th>\n",
       "      <th>DividendCount</th>\n",
       "      <th>Sector_1</th>\n",
       "      <th>Sector_2</th>\n",
       "      <th>Sector_3</th>\n",
       "      <th>Sector_4</th>\n",
       "      <th>Sector_5</th>\n",
       "      <th>Sector_6</th>\n",
       "      <th>Sector_7</th>\n",
       "      <th>Sector_8</th>\n",
       "      <th>Sector_9</th>\n",
       "      <th>Sector_10</th>\n",
       "      <th>Sector_11</th>\n",
       "      <th>Sector_12</th>\n",
       "    </tr>\n",
       "  </thead>\n",
       "  <tbody>\n",
       "    <tr>\n",
       "      <th>0</th>\n",
       "      <td>AAME</td>\n",
       "      <td>0.0200</td>\n",
       "      <td>1.00</td>\n",
       "      <td>15.460000</td>\n",
       "      <td>0.84540</td>\n",
       "      <td>1.0</td>\n",
       "      <td>0</td>\n",
       "      <td>0</td>\n",
       "      <td>0</td>\n",
       "      <td>0</td>\n",
       "      <td>1</td>\n",
       "      <td>0</td>\n",
       "      <td>0</td>\n",
       "      <td>0</td>\n",
       "      <td>0</td>\n",
       "      <td>0</td>\n",
       "      <td>0</td>\n",
       "      <td>0</td>\n",
       "    </tr>\n",
       "    <tr>\n",
       "      <th>1</th>\n",
       "      <td>AAON</td>\n",
       "      <td>0.3200</td>\n",
       "      <td>0.44</td>\n",
       "      <td>35.370000</td>\n",
       "      <td>0.64630</td>\n",
       "      <td>4.0</td>\n",
       "      <td>0</td>\n",
       "      <td>0</td>\n",
       "      <td>0</td>\n",
       "      <td>0</td>\n",
       "      <td>0</td>\n",
       "      <td>0</td>\n",
       "      <td>1</td>\n",
       "      <td>0</td>\n",
       "      <td>0</td>\n",
       "      <td>0</td>\n",
       "      <td>0</td>\n",
       "      <td>0</td>\n",
       "    </tr>\n",
       "    <tr>\n",
       "      <th>2</th>\n",
       "      <td>AAPL</td>\n",
       "      <td>0.9600</td>\n",
       "      <td>0.49</td>\n",
       "      <td>31.810000</td>\n",
       "      <td>0.68190</td>\n",
       "      <td>4.0</td>\n",
       "      <td>0</td>\n",
       "      <td>0</td>\n",
       "      <td>0</td>\n",
       "      <td>0</td>\n",
       "      <td>0</td>\n",
       "      <td>0</td>\n",
       "      <td>0</td>\n",
       "      <td>0</td>\n",
       "      <td>0</td>\n",
       "      <td>1</td>\n",
       "      <td>0</td>\n",
       "      <td>0</td>\n",
       "    </tr>\n",
       "    <tr>\n",
       "      <th>3</th>\n",
       "      <td>ABCB</td>\n",
       "      <td>0.6000</td>\n",
       "      <td>1.16</td>\n",
       "      <td>12.560000</td>\n",
       "      <td>0.87440</td>\n",
       "      <td>4.0</td>\n",
       "      <td>0</td>\n",
       "      <td>0</td>\n",
       "      <td>0</td>\n",
       "      <td>0</td>\n",
       "      <td>1</td>\n",
       "      <td>0</td>\n",
       "      <td>0</td>\n",
       "      <td>0</td>\n",
       "      <td>0</td>\n",
       "      <td>0</td>\n",
       "      <td>0</td>\n",
       "      <td>0</td>\n",
       "    </tr>\n",
       "    <tr>\n",
       "      <th>4</th>\n",
       "      <td>ACGLN</td>\n",
       "      <td>1.1375</td>\n",
       "      <td>5.70</td>\n",
       "      <td>18.302007</td>\n",
       "      <td>0.81698</td>\n",
       "      <td>4.0</td>\n",
       "      <td>0</td>\n",
       "      <td>0</td>\n",
       "      <td>0</td>\n",
       "      <td>0</td>\n",
       "      <td>1</td>\n",
       "      <td>0</td>\n",
       "      <td>0</td>\n",
       "      <td>0</td>\n",
       "      <td>0</td>\n",
       "      <td>0</td>\n",
       "      <td>0</td>\n",
       "      <td>0</td>\n",
       "    </tr>\n",
       "    <tr>\n",
       "      <th>...</th>\n",
       "      <td>...</td>\n",
       "      <td>...</td>\n",
       "      <td>...</td>\n",
       "      <td>...</td>\n",
       "      <td>...</td>\n",
       "      <td>...</td>\n",
       "      <td>...</td>\n",
       "      <td>...</td>\n",
       "      <td>...</td>\n",
       "      <td>...</td>\n",
       "      <td>...</td>\n",
       "      <td>...</td>\n",
       "      <td>...</td>\n",
       "      <td>...</td>\n",
       "      <td>...</td>\n",
       "      <td>...</td>\n",
       "      <td>...</td>\n",
       "      <td>...</td>\n",
       "    </tr>\n",
       "    <tr>\n",
       "      <th>781</th>\n",
       "      <td>ZEUS</td>\n",
       "      <td>0.5000</td>\n",
       "      <td>0.75</td>\n",
       "      <td>19.010000</td>\n",
       "      <td>0.80990</td>\n",
       "      <td>4.0</td>\n",
       "      <td>0</td>\n",
       "      <td>0</td>\n",
       "      <td>0</td>\n",
       "      <td>0</td>\n",
       "      <td>0</td>\n",
       "      <td>0</td>\n",
       "      <td>1</td>\n",
       "      <td>0</td>\n",
       "      <td>0</td>\n",
       "      <td>0</td>\n",
       "      <td>0</td>\n",
       "      <td>0</td>\n",
       "    </tr>\n",
       "    <tr>\n",
       "      <th>782</th>\n",
       "      <td>ZION</td>\n",
       "      <td>1.6400</td>\n",
       "      <td>3.76</td>\n",
       "      <td>8.080000</td>\n",
       "      <td>0.91920</td>\n",
       "      <td>4.0</td>\n",
       "      <td>0</td>\n",
       "      <td>0</td>\n",
       "      <td>0</td>\n",
       "      <td>0</td>\n",
       "      <td>1</td>\n",
       "      <td>0</td>\n",
       "      <td>0</td>\n",
       "      <td>0</td>\n",
       "      <td>0</td>\n",
       "      <td>0</td>\n",
       "      <td>0</td>\n",
       "      <td>0</td>\n",
       "    </tr>\n",
       "    <tr>\n",
       "      <th>783</th>\n",
       "      <td>ZIONL</td>\n",
       "      <td>2.4168</td>\n",
       "      <td>9.48</td>\n",
       "      <td>18.302007</td>\n",
       "      <td>0.81698</td>\n",
       "      <td>4.0</td>\n",
       "      <td>0</td>\n",
       "      <td>0</td>\n",
       "      <td>0</td>\n",
       "      <td>0</td>\n",
       "      <td>1</td>\n",
       "      <td>0</td>\n",
       "      <td>0</td>\n",
       "      <td>0</td>\n",
       "      <td>0</td>\n",
       "      <td>0</td>\n",
       "      <td>0</td>\n",
       "      <td>0</td>\n",
       "    </tr>\n",
       "    <tr>\n",
       "      <th>784</th>\n",
       "      <td>ZIONO</td>\n",
       "      <td>2.5053</td>\n",
       "      <td>9.79</td>\n",
       "      <td>18.302007</td>\n",
       "      <td>0.81698</td>\n",
       "      <td>4.0</td>\n",
       "      <td>0</td>\n",
       "      <td>0</td>\n",
       "      <td>0</td>\n",
       "      <td>0</td>\n",
       "      <td>1</td>\n",
       "      <td>0</td>\n",
       "      <td>0</td>\n",
       "      <td>0</td>\n",
       "      <td>0</td>\n",
       "      <td>0</td>\n",
       "      <td>0</td>\n",
       "      <td>0</td>\n",
       "    </tr>\n",
       "    <tr>\n",
       "      <th>785</th>\n",
       "      <td>ZIONP</td>\n",
       "      <td>1.5650</td>\n",
       "      <td>7.88</td>\n",
       "      <td>18.302007</td>\n",
       "      <td>0.81698</td>\n",
       "      <td>4.0</td>\n",
       "      <td>0</td>\n",
       "      <td>0</td>\n",
       "      <td>0</td>\n",
       "      <td>0</td>\n",
       "      <td>1</td>\n",
       "      <td>0</td>\n",
       "      <td>0</td>\n",
       "      <td>0</td>\n",
       "      <td>0</td>\n",
       "      <td>0</td>\n",
       "      <td>0</td>\n",
       "      <td>0</td>\n",
       "    </tr>\n",
       "  </tbody>\n",
       "</table>\n",
       "<p>786 rows × 18 columns</p>\n",
       "</div>"
      ],
      "text/plain": [
       "    Symbol  AnnualDividendsPerShare  DividendYield  PayoutRatio  \\\n",
       "0     AAME                   0.0200           1.00    15.460000   \n",
       "1     AAON                   0.3200           0.44    35.370000   \n",
       "2     AAPL                   0.9600           0.49    31.810000   \n",
       "3     ABCB                   0.6000           1.16    12.560000   \n",
       "4    ACGLN                   1.1375           5.70    18.302007   \n",
       "..     ...                      ...            ...          ...   \n",
       "781   ZEUS                   0.5000           0.75    19.010000   \n",
       "782   ZION                   1.6400           3.76     8.080000   \n",
       "783  ZIONL                   2.4168           9.48    18.302007   \n",
       "784  ZIONO                   2.5053           9.79    18.302007   \n",
       "785  ZIONP                   1.5650           7.88    18.302007   \n",
       "\n",
       "     RetentionRatio  DividendCount  Sector_1  Sector_2  Sector_3  Sector_4  \\\n",
       "0           0.84540            1.0         0         0         0         0   \n",
       "1           0.64630            4.0         0         0         0         0   \n",
       "2           0.68190            4.0         0         0         0         0   \n",
       "3           0.87440            4.0         0         0         0         0   \n",
       "4           0.81698            4.0         0         0         0         0   \n",
       "..              ...            ...       ...       ...       ...       ...   \n",
       "781         0.80990            4.0         0         0         0         0   \n",
       "782         0.91920            4.0         0         0         0         0   \n",
       "783         0.81698            4.0         0         0         0         0   \n",
       "784         0.81698            4.0         0         0         0         0   \n",
       "785         0.81698            4.0         0         0         0         0   \n",
       "\n",
       "     Sector_5  Sector_6  Sector_7  Sector_8  Sector_9  Sector_10  Sector_11  \\\n",
       "0           1         0         0         0         0          0          0   \n",
       "1           0         0         1         0         0          0          0   \n",
       "2           0         0         0         0         0          1          0   \n",
       "3           1         0         0         0         0          0          0   \n",
       "4           1         0         0         0         0          0          0   \n",
       "..        ...       ...       ...       ...       ...        ...        ...   \n",
       "781         0         0         1         0         0          0          0   \n",
       "782         1         0         0         0         0          0          0   \n",
       "783         1         0         0         0         0          0          0   \n",
       "784         1         0         0         0         0          0          0   \n",
       "785         1         0         0         0         0          0          0   \n",
       "\n",
       "     Sector_12  \n",
       "0            0  \n",
       "1            0  \n",
       "2            0  \n",
       "3            0  \n",
       "4            0  \n",
       "..         ...  \n",
       "781          0  \n",
       "782          0  \n",
       "783          0  \n",
       "784          0  \n",
       "785          0  \n",
       "\n",
       "[786 rows x 18 columns]"
      ]
     },
     "execution_count": 126,
     "metadata": {},
     "output_type": "execute_result"
    }
   ],
   "source": [
    "nasdaq_dataset = pd.read_csv('data/nasdaq_dataset_2023.csv')\n",
    "nasdaq_dataset"
   ]
  },
  {
   "cell_type": "code",
   "execution_count": 41,
   "id": "43e0cc0a-dc84-4c34-a8ae-04532690dbd3",
   "metadata": {},
   "outputs": [
    {
     "name": "stdout",
     "output_type": "stream",
     "text": [
      "NASDAQ Average value of the annual paid dividends per share 1.34\n",
      "NASDAQ Max paid value 21.00\n",
      "NASDAQ Min paid value 0.02\n",
      "NASDAQ Standard Deviation of the annual paid dividends per share 1.501\n"
     ]
    }
   ],
   "source": [
    "print(f'NASDAQ Average value of the annual paid dividends per share {nasdaq_dataset[\"AnnualDividendsPerShare\"].mean():.2f}')\n",
    "print(f'NASDAQ Max paid value {nasdaq_dataset[\"AnnualDividendsPerShare\"].max():.2f}')\n",
    "print(f'NASDAQ Min paid value {nasdaq_dataset[\"AnnualDividendsPerShare\"].min():.2f}')\n",
    "print(f'NASDAQ Standard Deviation of the annual paid dividends per share {nasdaq_dataset[\"AnnualDividendsPerShare\"].std():.3f}')"
   ]
  },
  {
   "cell_type": "code",
   "execution_count": 42,
   "id": "92eeaf2d-087a-4665-96e8-ffe8cb49bf42",
   "metadata": {},
   "outputs": [
    {
     "data": {
      "image/png": "[encoded data removed]",
      "text/plain": [
       "<Figure size 640x480 with 1 Axes>"
      ]
     },
     "metadata": {},
     "output_type": "display_data"
    }
   ],
   "source": [
    "plt.hist(nasdaq_dataset[\"AnnualDividendsPerShare\"], rwidth=0.9)\n",
    "plt.title(\"NASDAQ Annual Dividends Per Share\")\n",
    "plt.xlabel(\"Annual Dividends Per Share\")\n",
    "plt.ylabel(\"Frequency\")\n",
    "plt.show()"
   ]
  },
  {
   "cell_type": "code",
   "execution_count": 43,
   "id": "67150c91-7f69-4cfd-bb37-d250967f11fb",
   "metadata": {},
   "outputs": [
    {
     "name": "stdout",
     "output_type": "stream",
     "text": [
      "FTSE Average value of the annual paid dividends per share 0.36\n",
      "FTSE Max paid value 4.45\n",
      "FTSE Min paid value 0.01\n",
      "FTSE Standard Deviation of the annual paid dividends per share 0.606\n"
     ]
    }
   ],
   "source": [
    "print(f'FTSE Average value of the annual paid dividends per share {ftse_dataset[\"AnnualDividendsPerShare\"].mean():.2f}')\n",
    "print(f'FTSE Max paid value {ftse_dataset[\"AnnualDividendsPerShare\"].max():.2f}')\n",
    "print(f'FTSE Min paid value {ftse_dataset[\"AnnualDividendsPerShare\"].min():.2f}')\n",
    "print(f'FTSE Standard Deviation of the annual paid dividends per share {ftse_dataset[\"AnnualDividendsPerShare\"].std():.3f}')"
   ]
  },
  {
   "cell_type": "code",
   "execution_count": 44,
   "id": "cdd673bd-746e-4442-bc0f-1a7f71695870",
   "metadata": {},
   "outputs": [
    {
     "data": {
      "image/png": "[encoded data removed]",
      "text/plain": [
       "<Figure size 640x480 with 1 Axes>"
      ]
     },
     "metadata": {},
     "output_type": "display_data"
    }
   ],
   "source": [
    "plt.hist(ftse_dataset[\"AnnualDividendsPerShare\"], rwidth=0.9)\n",
    "plt.title(\"FSTE Annual Dividends Per Share\")\n",
    "plt.xlabel(\"Annual Dividends Per Share\")\n",
    "plt.ylabel(\"Frequency\")\n",
    "plt.show()"
   ]
  },
  {
   "cell_type": "code",
   "execution_count": 45,
   "id": "7aafbbeb-5393-45c6-b3a1-94b209ad21b1",
   "metadata": {},
   "outputs": [
    {
     "name": "stdout",
     "output_type": "stream",
     "text": [
      "NASDAQ Average Dividend Yield Ratio 4.877\n",
      "NASDAQ Max Dividend Yield Ratio 94.430\n",
      "NASDAQ Min Dividend Yield Ratio 0.020\n",
      "NASDAQ Standard Deviation of the Dividend Yield 5.603\n"
     ]
    }
   ],
   "source": [
    "print(f'NASDAQ Average Dividend Yield Ratio {nasdaq_dataset[\"DividendYield\"].mean():.3f}')\n",
    "print(f'NASDAQ Max Dividend Yield Ratio {nasdaq_dataset[\"DividendYield\"].max():.3f}')\n",
    "print(f'NASDAQ Min Dividend Yield Ratio {nasdaq_dataset[\"DividendYield\"].min():.3f}')\n",
    "print(f'NASDAQ Standard Deviation of the Dividend Yield {nasdaq_dataset[\"DividendYield\"].std():.3f}')"
   ]
  },
  {
   "cell_type": "code",
   "execution_count": 46,
   "id": "3190d210-567a-4cb3-ae22-1578aed775b5",
   "metadata": {},
   "outputs": [
    {
     "data": {
      "image/png": "[encoded data removed]",
      "text/plain": [
       "<Figure size 640x480 with 1 Axes>"
      ]
     },
     "metadata": {},
     "output_type": "display_data"
    }
   ],
   "source": [
    "plt.hist(nasdaq_dataset[\"DividendYield\"], rwidth=0.9)\n",
    "plt.title(\"NASDAQ Dividens Yield Ratio\")\n",
    "plt.xlabel(\"Annual Dividends Per Share\")\n",
    "plt.ylabel(\"Frequency\")\n",
    "plt.show()"
   ]
  },
  {
   "cell_type": "code",
   "execution_count": 47,
   "id": "727bb446-60f9-4ce6-a8a0-c48273fba9e4",
   "metadata": {},
   "outputs": [
    {
     "name": "stdout",
     "output_type": "stream",
     "text": [
      "FTSE Average Dividend Yield Ratio 4.423\n",
      "FTSE Max Dividend Yield Ratio 29.120\n",
      "FTSE Min Dividend Yield Ratio 0.210\n",
      "FTSE Standard Deviation of the Dividend Yield 3.412\n"
     ]
    }
   ],
   "source": [
    "print(f'FTSE Average Dividend Yield Ratio {ftse_dataset[\"DividendYield\"].mean():.3f}')\n",
    "print(f'FTSE Max Dividend Yield Ratio {ftse_dataset[\"DividendYield\"].max():.3f}')\n",
    "print(f'FTSE Min Dividend Yield Ratio {ftse_dataset[\"DividendYield\"].min():.3f}')\n",
    "print(f'FTSE Standard Deviation of the Dividend Yield {ftse_dataset[\"DividendYield\"].std():.3f}')"
   ]
  },
  {
   "cell_type": "code",
   "execution_count": 48,
   "id": "c7d2159a-6cae-4a15-bfd5-731312eb6fab",
   "metadata": {},
   "outputs": [
    {
     "data": {
      "image/png": "[encoded data removed]",
      "text/plain": [
       "<Figure size 640x480 with 1 Axes>"
      ]
     },
     "metadata": {},
     "output_type": "display_data"
    }
   ],
   "source": [
    "plt.hist(ftse_dataset[\"DividendYield\"], rwidth=0.9)\n",
    "plt.title(\"FTSE Dividens Yield Ratio\")\n",
    "plt.xlabel(\"Annual Dividends Per Share\")\n",
    "plt.ylabel(\"Frequency\")\n",
    "plt.show()"
   ]
  },
  {
   "cell_type": "code",
   "execution_count": 49,
   "id": "5dd983a7-1e2e-4269-a17e-f2345b8b9e1e",
   "metadata": {},
   "outputs": [
    {
     "name": "stdout",
     "output_type": "stream",
     "text": [
      "NASDAQ Average Payout Ratio 26.495\n",
      "NASDAQ Max Payout Ratio 1265.000\n",
      "NASDAQ Min Payout Ratio 0.810\n",
      "NASDAQ Standard Deviation of the Payout Ratio 65.608\n"
     ]
    }
   ],
   "source": [
    "print(f'NASDAQ Average Payout Ratio {nasdaq_dataset[\"PayoutRatio\"].mean():.3f}')\n",
    "print(f'NASDAQ Max Payout Ratio {nasdaq_dataset[\"PayoutRatio\"].max():.3f}')\n",
    "print(f'NASDAQ Min Payout Ratio {nasdaq_dataset[\"PayoutRatio\"].min():.3f}')\n",
    "print(f'NASDAQ Standard Deviation of the Payout Ratio {nasdaq_dataset[\"PayoutRatio\"].std():.3f}')"
   ]
  },
  {
   "cell_type": "code",
   "execution_count": 50,
   "id": "cfd6d520-542c-4058-83f4-84b5244ecfcc",
   "metadata": {},
   "outputs": [
    {
     "data": {
      "image/png": "[encoded data removed]",
      "text/plain": [
       "<Figure size 640x480 with 1 Axes>"
      ]
     },
     "metadata": {},
     "output_type": "display_data"
    }
   ],
   "source": [
    "plt.hist(nasdaq_dataset[\"PayoutRatio\"], rwidth=0.9)\n",
    "plt.title(\"NASDAQ Payout Ratio\")\n",
    "plt.xlabel(\"Payout Ratio\")\n",
    "plt.ylabel(\"Frequency\")\n",
    "plt.show()"
   ]
  },
  {
   "cell_type": "code",
   "execution_count": 51,
   "id": "52f90e43-87d0-43b7-91cb-08ace3899b66",
   "metadata": {},
   "outputs": [
    {
     "name": "stdout",
     "output_type": "stream",
     "text": [
      "FTSE Average Payout Ratio 56.532\n",
      "FTSE Max Payout Ratio 100.000\n",
      "FTSE Min Payout Ratio 3.590\n",
      "FTSE Standard Deviation of the Payout Ratio 27.210\n"
     ]
    }
   ],
   "source": [
    "print(f'FTSE Average Payout Ratio {ftse_dataset[\"PayoutRatio\"].mean():.3f}')\n",
    "print(f'FTSE Max Payout Ratio {ftse_dataset[\"PayoutRatio\"].max():.3f}')\n",
    "print(f'FTSE Min Payout Ratio {ftse_dataset[\"PayoutRatio\"].min():.3f}')\n",
    "print(f'FTSE Standard Deviation of the Payout Ratio {ftse_dataset[\"PayoutRatio\"].std():.3f}')"
   ]
  },
  {
   "cell_type": "code",
   "execution_count": 52,
   "id": "6741bb8d-9411-41bb-b876-a6a753c505cd",
   "metadata": {},
   "outputs": [
    {
     "data": {
      "image/png": "[encoded data removed]",
      "text/plain": [
       "<Figure size 640x480 with 1 Axes>"
      ]
     },
     "metadata": {},
     "output_type": "display_data"
    }
   ],
   "source": [
    "plt.hist(ftse_dataset[\"PayoutRatio\"], rwidth=0.9)\n",
    "plt.title(\"FTSE Payout Ratio\")\n",
    "plt.xlabel(\"Payout Ratio\")\n",
    "plt.ylabel(\"Frequency\")\n",
    "plt.show()"
   ]
  },
  {
   "cell_type": "code",
   "execution_count": 53,
   "id": "6e714321-fc1e-434f-9015-3939ce36f249",
   "metadata": {},
   "outputs": [
    {
     "name": "stdout",
     "output_type": "stream",
     "text": [
      "NASDAQ Average Retention Ratio 0.735\n",
      "NASDAQ Max Retention Ratio 0.992\n",
      "NASDAQ Min Retention Ratio -11.650\n",
      "NASDAQ Standard Deviation of the Retentio Ratio 0.656\n"
     ]
    }
   ],
   "source": [
    "print(f'NASDAQ Average Retention Ratio {nasdaq_dataset[\"RetentionRatio\"].mean():.3f}')\n",
    "print(f'NASDAQ Max Retention Ratio {nasdaq_dataset[\"RetentionRatio\"].max():.3f}')\n",
    "print(f'NASDAQ Min Retention Ratio {nasdaq_dataset[\"RetentionRatio\"].min():.3f}')\n",
    "print(f'NASDAQ Standard Deviation of the Retentio Ratio {nasdaq_dataset[\"RetentionRatio\"].std():.3f}')"
   ]
  },
  {
   "cell_type": "code",
   "execution_count": 54,
   "id": "038691a8-3ff4-404e-b475-925904507321",
   "metadata": {},
   "outputs": [
    {
     "data": {
      "image/png": "[encoded data removed]",
      "text/plain": [
       "<Figure size 640x480 with 1 Axes>"
      ]
     },
     "metadata": {},
     "output_type": "display_data"
    }
   ],
   "source": [
    "plt.hist(nasdaq_dataset[\"RetentionRatio\"], rwidth=0.9)\n",
    "plt.title(\"NASDAQ Retention Ratio\")\n",
    "plt.xlabel(\"Retention Ratio\")\n",
    "plt.ylabel(\"Frequency\")\n",
    "plt.show()"
   ]
  },
  {
   "cell_type": "code",
   "execution_count": 55,
   "id": "c082ace4-cb15-4287-8b87-1c512bddf7e6",
   "metadata": {},
   "outputs": [
    {
     "name": "stdout",
     "output_type": "stream",
     "text": [
      "FTSE Average Retention Ratio 0.435\n",
      "FTSE Max Retention Ratio 0.964\n",
      "FTSE Min Retention Ratio 0.000\n",
      "FTSE Standard Deviation of the Retentio Ratio 0.272\n"
     ]
    }
   ],
   "source": [
    "print(f'FTSE Average Retention Ratio {ftse_dataset[\"RetentionRatio\"].mean():.3f}')\n",
    "print(f'FTSE Max Retention Ratio {ftse_dataset[\"RetentionRatio\"].max():.3f}')\n",
    "print(f'FTSE Min Retention Ratio {ftse_dataset[\"RetentionRatio\"].min():.3f}')\n",
    "print(f'FTSE Standard Deviation of the Retentio Ratio {ftse_dataset[\"RetentionRatio\"].std():.3f}')"
   ]
  },
  {
   "cell_type": "code",
   "execution_count": 56,
   "id": "7b71b176-d6ae-485d-8b40-876a61c849e2",
   "metadata": {},
   "outputs": [
    {
     "data": {
      "image/png": "[encoded data removed]",
      "text/plain": [
       "<Figure size 640x480 with 1 Axes>"
      ]
     },
     "metadata": {},
     "output_type": "display_data"
    }
   ],
   "source": [
    "plt.hist(ftse_dataset[\"RetentionRatio\"], rwidth=0.9)\n",
    "plt.title(\"FTSE Retention Ratio\")\n",
    "plt.xlabel(\"Retention Ratio\")\n",
    "plt.ylabel(\"Frequency\")\n",
    "plt.show()"
   ]
  },
  {
   "cell_type": "code",
   "execution_count": 57,
   "id": "4f9367fa-0c30-42f3-9210-59647a035e5a",
   "metadata": {},
   "outputs": [
    {
     "name": "stdout",
     "output_type": "stream",
     "text": [
      "NASDAQ Average Payment Frequency 4.209\n",
      "NASDAQ Max Payment Frequency 17.0\n",
      "NASDAQ Min Payment Frequency 1.0\n",
      "NASDAQ Standard Deviation of the Payment Frequency 1.864\n"
     ]
    }
   ],
   "source": [
    "print(f'NASDAQ Average Payment Frequency {nasdaq_dataset[\"DividendCount\"].mean():.3f}')\n",
    "print(f'NASDAQ Max Payment Frequency {nasdaq_dataset[\"DividendCount\"].max()}')\n",
    "print(f'NASDAQ Min Payment Frequency {nasdaq_dataset[\"DividendCount\"].min()}')\n",
    "print(f'NASDAQ Standard Deviation of the Payment Frequency {nasdaq_dataset[\"DividendCount\"].std():.3f}')"
   ]
  },
  {
   "cell_type": "code",
   "execution_count": 58,
   "id": "dd56cb91-270a-4215-89f1-442712f74dd8",
   "metadata": {},
   "outputs": [
    {
     "data": {
      "image/png": "[encoded data removed]",
      "text/plain": [
       "<Figure size 640x480 with 1 Axes>"
      ]
     },
     "metadata": {},
     "output_type": "display_data"
    }
   ],
   "source": [
    "plt.hist(nasdaq_dataset[\"DividendCount\"], rwidth=0.9)\n",
    "plt.title(\"NASDAQ Dividend Payment Frequency\")\n",
    "plt.xlabel(\"Payment Frequency\")\n",
    "plt.ylabel(\"Frequency\")\n",
    "plt.show()"
   ]
  },
  {
   "cell_type": "code",
   "execution_count": 59,
   "id": "77fe1d99-ba5d-499d-9202-f3bc17dacdb9",
   "metadata": {},
   "outputs": [
    {
     "name": "stdout",
     "output_type": "stream",
     "text": [
      "FTSE Average Payment Frequency 2.241\n",
      "FTSE Max Payment Frequency 9.0\n",
      "FTSE Min Payment Frequency 1.0\n",
      "FTSE Standard Deviation of the Payment Frequency 0.920\n"
     ]
    }
   ],
   "source": [
    "print(f'FTSE Average Payment Frequency {ftse_dataset[\"DividendCount\"].mean():.3f}')\n",
    "print(f'FTSE Max Payment Frequency {ftse_dataset[\"DividendCount\"].max()}')\n",
    "print(f'FTSE Min Payment Frequency {ftse_dataset[\"DividendCount\"].min()}')\n",
    "print(f'FTSE Standard Deviation of the Payment Frequency {ftse_dataset[\"DividendCount\"].std():.3f}')"
   ]
  },
  {
   "cell_type": "code",
   "execution_count": 60,
   "id": "45e5b647-1326-4268-88b5-2b04f1a46922",
   "metadata": {},
   "outputs": [
    {
     "data": {
      "image/png": "[encoded data removed]",
      "text/plain": [
       "<Figure size 640x480 with 1 Axes>"
      ]
     },
     "metadata": {},
     "output_type": "display_data"
    }
   ],
   "source": [
    "plt.hist(ftse_dataset[\"DividendCount\"], rwidth=0.9)\n",
    "plt.title(\"FTSE Dividend Payment Frequency\")\n",
    "plt.xlabel(\"Payment Frequency\")\n",
    "plt.ylabel(\"Frequency\")\n",
    "plt.show()"
   ]
  },
  {
   "cell_type": "code",
   "execution_count": 149,
   "id": "7d6bfe75-f49e-4091-931e-ae98e3cf7b8c",
   "metadata": {},
   "outputs": [],
   "source": [
    "def get_sectors_from_dataset(dataframe):\n",
    "    sector_mappings = get_sector_mappings()\n",
    "    sectors = []\n",
    "    for sector_name in sector_mappings:\n",
    "        sector_id = sector_mappings[sector_name]\n",
    "        if 'Sector_' + str(sector_id) not in dataframe.columns:\n",
    "            continue\n",
    "        subset = dataframe[dataframe['Sector_' + str(sector_id)] == 1]\n",
    "        for sector in itertools.repeat(sector_name, len(subset)):\n",
    "            sectors.append(sector)\n",
    "    return sectors"
   ]
  },
  {
   "cell_type": "code",
   "execution_count": 164,
   "id": "180a3d28-5ebb-4ebd-b78f-5744a36dcef1",
   "metadata": {},
   "outputs": [
    {
     "data": {
      "image/png": "[encoded data removed]",
      "text/plain": [
       "<Figure size 640x480 with 1 Axes>"
      ]
     },
     "metadata": {},
     "output_type": "display_data"
    }
   ],
   "source": [
    "freq = Counter(get_sectors_from_dataset(nasdaq_dataset))\n",
    "\n",
    "plt.pie(list(freq.values()), labels=list(freq.keys()))\n",
    "plt.title(\"NASDAQ Companies per sector\")\n",
    "plt.show()"
   ]
  },
  {
   "cell_type": "code",
   "execution_count": 163,
   "id": "c57a5631-485f-441b-aa4f-c7a4055ecb5c",
   "metadata": {},
   "outputs": [
    {
     "data": {
      "image/png": "[encoded data removed]",
      "text/plain": [
       "<Figure size 640x480 with 1 Axes>"
      ]
     },
     "metadata": {},
     "output_type": "display_data"
    }
   ],
   "source": [
    "freq = Counter(get_sectors_from_dataset(ftse_dataset))\n",
    "\n",
    "plt.pie(list(freq.values()), labels=list(freq.keys()))\n",
    "plt.title(\"FTSE Companies per sector\")\n",
    "plt.show()"
   ]
  },
  {
   "cell_type": "markdown",
   "id": "7d89c524-4e24-413f-8554-180c09779aa5",
   "metadata": {},
   "source": [
    "## Dataset Labeling\n",
    "\n",
    "<p style=\"text-align: justify;text-justify: inter-word;\">\n",
    "In order to predict the attractiveness of a share, a new binary column was introduced, denoted as \"attractiveness,\" wherein a value of 0 signifies \"not attractive,\" while 1 indicates \"attractive.\" The methodology for labeling stocks as attractive or not was outlined by Steffens (2023) and follows the subsequent steps:\n",
    "</p>\n",
    "\n",
    "- Stocks with a payout ratio equal to or exceeding 100% are categorized as not attractive.\n",
    "- Stocks with a dividend yield equal to or greater than 60% are labeled as not attractive.\n",
    "- Among stocks within each sector, those exhibiting the highest dividend yields are deemed attractive.\n",
    "  - Only sectors with more than 10 companies will be considered.\n",
    "- Within each index, the top 10% of stocks with the highest dividend yields are labeled as attractive.\n",
    "\n",
    "<p style=\"text-align: justify;text-justify: inter-word;\">\n",
    "These steps provide a structured approach to identifying attractive stocks based on their financial indicators, ensuring a systematic and consistent labeling process. After the application of the proposed labeling process, the NASDAQ dataset presented 80 attractive companies and 706 not-attractive companies. Meanwhile, the FTSE dataset has 12 attractive shares and 104 not-attractive shares. These figures illustrate the distribution of attractive and not-attractive stocks identified through the labeling process across the respective datasets.\n",
    "</p>\n"
   ]
  },
  {
   "cell_type": "code",
   "execution_count": 61,
   "id": "ba53c5dd-e0f6-4bc4-9247-bac6b5cac370",
   "metadata": {},
   "outputs": [],
   "source": [
    "def get_most_attractiveness_stocks(dataframe, attractiveness_thresold):\n",
    "    most_attractive_per_sector = pd.DataFrame()\n",
    "\n",
    "    dataset = dataframe.copy()\n",
    "    dataset = dataset[dataset[\"PayoutRatio\"] < 100]\n",
    "    dataset = dataset[dataset[\"DividendYield\"] < 60]\n",
    "\n",
    "    sector_mappings = get_sector_mappings()\n",
    "    \n",
    "    for sector_name in sector_mappings:\n",
    "        sector_id = sector_mappings[sector_name]\n",
    "        if 'Sector_' + str(sector_id) not in dataframe.columns:\n",
    "            continue\n",
    "\n",
    "        subset = dataset[dataset['Sector_' + str(sector_id)] == 1]\n",
    "        \n",
    "        if len(subset) < 10:\n",
    "            continue\n",
    "    \n",
    "        most_attractive_stocks = subset.sort_values(by=['DividendYield','PayoutRatio'], ascending=False)[0:1]\n",
    "        most_attractive_per_sector = pd.concat([most_attractive_per_sector, most_attractive_stocks], ignore_index=True)\n",
    "    \n",
    "    most_attractive_stocks = dataset.sort_values(by=['DividendYield','PayoutRatio'], ascending=False)[0:attractiveness_thresold]\n",
    "    most_attractive_per_sector = pd.concat([most_attractive_per_sector, most_attractive_stocks], ignore_index=True)\n",
    "    return most_attractive_per_sector.drop_duplicates()"
   ]
  },
  {
   "cell_type": "code",
   "execution_count": 62,
   "id": "af8a6af6-ce74-49ec-8935-4d306f2d2a2f",
   "metadata": {},
   "outputs": [],
   "source": [
    "def populate_attractiveness(dataset):\n",
    "    most_attractive_stocks = get_most_attractiveness_stocks(dataset, int(np.round(len(dataset) * 0.1)))\n",
    "    for index, row in dataset.iterrows():\n",
    "        attractive = most_attractive_stocks[most_attractive_stocks[\"Symbol\"] == row[\"Symbol\"]]\n",
    "        dataset.loc[index,\"Attractiveness\"] = len(attractive)"
   ]
  },
  {
   "cell_type": "code",
   "execution_count": 63,
   "id": "8a10f935-d5d4-4c02-b960-dffbcf7d9f32",
   "metadata": {},
   "outputs": [],
   "source": [
    "def get_test_dataset(dataset, include_sectors = False):\n",
    "    ftse_dataset_2023 = pd.DataFrame()\n",
    "    ftse_dataset_2023['AnnualDividendsPerShare'] = dataset['AnnualDividendsPerShare']\n",
    "    ftse_dataset_2023['DividendYield'] = dataset['DividendYield']\n",
    "    ftse_dataset_2023['PayoutRatio'] = dataset['PayoutRatio']\n",
    "    ftse_dataset_2023['RetentionRatio'] = dataset['RetentionRatio']\n",
    "    ftse_dataset_2023['DividendCount'] = dataset['DividendCount']\n",
    "    if include_sectors:\n",
    "        sector_mappings = get_sector_mappings()\n",
    "        for sector_name in sector_mappings:\n",
    "            sector_id = sector_mappings[sector_name]\n",
    "            if 'Sector_' + str(sector_id) not in dataset.columns:\n",
    "                ftse_dataset_2023['Sector_' + str(sector_id)] = 0\n",
    "            else:\n",
    "                ftse_dataset_2023['Sector_' + str(sector_id)] = dataset['Sector_' + str(sector_id)]\n",
    "    return ftse_dataset_2023"
   ]
  },
  {
   "cell_type": "code",
   "execution_count": 64,
   "id": "4d581e90-c204-41d4-a9d1-1967551b6d0b",
   "metadata": {},
   "outputs": [
    {
     "data": {
      "text/plain": [
       "Attractiveness\n",
       "0.0    706\n",
       "1.0     80\n",
       "Name: count, dtype: int64"
      ]
     },
     "execution_count": 64,
     "metadata": {},
     "output_type": "execute_result"
    }
   ],
   "source": [
    "populate_attractiveness(nasdaq_dataset)\n",
    "nasdaq_dataset['Attractiveness'].value_counts()"
   ]
  },
  {
   "cell_type": "code",
   "execution_count": 65,
   "id": "22ccc133-442e-4d22-95f5-84b0a76879b8",
   "metadata": {},
   "outputs": [
    {
     "data": {
      "text/html": [
       "<div>\n",
       "<style scoped>\n",
       "    .dataframe tbody tr th:only-of-type {\n",
       "        vertical-align: middle;\n",
       "    }\n",
       "\n",
       "    .dataframe tbody tr th {\n",
       "        vertical-align: top;\n",
       "    }\n",
       "\n",
       "    .dataframe thead th {\n",
       "        text-align: right;\n",
       "    }\n",
       "</style>\n",
       "<table border=\"1\" class=\"dataframe\">\n",
       "  <thead>\n",
       "    <tr style=\"text-align: right;\">\n",
       "      <th></th>\n",
       "      <th>Symbol</th>\n",
       "      <th>AnnualDividendsPerShare</th>\n",
       "      <th>DividendYield</th>\n",
       "      <th>PayoutRatio</th>\n",
       "      <th>RetentionRatio</th>\n",
       "      <th>DividendCount</th>\n",
       "      <th>Sector_1</th>\n",
       "      <th>Sector_2</th>\n",
       "      <th>Sector_3</th>\n",
       "      <th>Sector_4</th>\n",
       "      <th>Sector_5</th>\n",
       "      <th>Sector_6</th>\n",
       "      <th>Sector_7</th>\n",
       "      <th>Sector_8</th>\n",
       "      <th>Sector_9</th>\n",
       "      <th>Sector_10</th>\n",
       "      <th>Sector_11</th>\n",
       "      <th>Sector_12</th>\n",
       "      <th>Attractiveness</th>\n",
       "    </tr>\n",
       "  </thead>\n",
       "  <tbody>\n",
       "    <tr>\n",
       "      <th>55</th>\n",
       "      <td>AUVIP</td>\n",
       "      <td>2.6250</td>\n",
       "      <td>94.43</td>\n",
       "      <td>49.752447</td>\n",
       "      <td>0.502476</td>\n",
       "      <td>6.0</td>\n",
       "      <td>0</td>\n",
       "      <td>1</td>\n",
       "      <td>0</td>\n",
       "      <td>0</td>\n",
       "      <td>0</td>\n",
       "      <td>0</td>\n",
       "      <td>0</td>\n",
       "      <td>0</td>\n",
       "      <td>0</td>\n",
       "      <td>0</td>\n",
       "      <td>0</td>\n",
       "      <td>0</td>\n",
       "      <td>0.0</td>\n",
       "    </tr>\n",
       "    <tr>\n",
       "      <th>165</th>\n",
       "      <td>CSSEP</td>\n",
       "      <td>2.4372</td>\n",
       "      <td>62.98</td>\n",
       "      <td>49.752447</td>\n",
       "      <td>0.502476</td>\n",
       "      <td>12.0</td>\n",
       "      <td>0</td>\n",
       "      <td>1</td>\n",
       "      <td>0</td>\n",
       "      <td>0</td>\n",
       "      <td>0</td>\n",
       "      <td>0</td>\n",
       "      <td>0</td>\n",
       "      <td>0</td>\n",
       "      <td>0</td>\n",
       "      <td>0</td>\n",
       "      <td>0</td>\n",
       "      <td>0</td>\n",
       "      <td>0.0</td>\n",
       "    </tr>\n",
       "    <tr>\n",
       "      <th>517</th>\n",
       "      <td>OCCI</td>\n",
       "      <td>2.4000</td>\n",
       "      <td>35.98</td>\n",
       "      <td>18.302007</td>\n",
       "      <td>0.816980</td>\n",
       "      <td>5.0</td>\n",
       "      <td>0</td>\n",
       "      <td>0</td>\n",
       "      <td>0</td>\n",
       "      <td>0</td>\n",
       "      <td>1</td>\n",
       "      <td>0</td>\n",
       "      <td>0</td>\n",
       "      <td>0</td>\n",
       "      <td>0</td>\n",
       "      <td>0</td>\n",
       "      <td>0</td>\n",
       "      <td>0</td>\n",
       "      <td>1.0</td>\n",
       "    </tr>\n",
       "    <tr>\n",
       "      <th>173</th>\n",
       "      <td>CUBA</td>\n",
       "      <td>0.6945</td>\n",
       "      <td>24.80</td>\n",
       "      <td>18.302007</td>\n",
       "      <td>0.816980</td>\n",
       "      <td>2.0</td>\n",
       "      <td>0</td>\n",
       "      <td>0</td>\n",
       "      <td>0</td>\n",
       "      <td>0</td>\n",
       "      <td>1</td>\n",
       "      <td>0</td>\n",
       "      <td>0</td>\n",
       "      <td>0</td>\n",
       "      <td>0</td>\n",
       "      <td>0</td>\n",
       "      <td>0</td>\n",
       "      <td>0</td>\n",
       "      <td>1.0</td>\n",
       "    </tr>\n",
       "    <tr>\n",
       "      <th>370</th>\n",
       "      <td>IEP</td>\n",
       "      <td>4.0000</td>\n",
       "      <td>23.60</td>\n",
       "      <td>49.752447</td>\n",
       "      <td>0.502476</td>\n",
       "      <td>4.0</td>\n",
       "      <td>0</td>\n",
       "      <td>1</td>\n",
       "      <td>0</td>\n",
       "      <td>0</td>\n",
       "      <td>0</td>\n",
       "      <td>0</td>\n",
       "      <td>0</td>\n",
       "      <td>0</td>\n",
       "      <td>0</td>\n",
       "      <td>0</td>\n",
       "      <td>0</td>\n",
       "      <td>0</td>\n",
       "      <td>1.0</td>\n",
       "    </tr>\n",
       "    <tr>\n",
       "      <th>...</th>\n",
       "      <td>...</td>\n",
       "      <td>...</td>\n",
       "      <td>...</td>\n",
       "      <td>...</td>\n",
       "      <td>...</td>\n",
       "      <td>...</td>\n",
       "      <td>...</td>\n",
       "      <td>...</td>\n",
       "      <td>...</td>\n",
       "      <td>...</td>\n",
       "      <td>...</td>\n",
       "      <td>...</td>\n",
       "      <td>...</td>\n",
       "      <td>...</td>\n",
       "      <td>...</td>\n",
       "      <td>...</td>\n",
       "      <td>...</td>\n",
       "      <td>...</td>\n",
       "      <td>...</td>\n",
       "    </tr>\n",
       "    <tr>\n",
       "      <th>508</th>\n",
       "      <td>NWLI</td>\n",
       "      <td>0.3600</td>\n",
       "      <td>0.07</td>\n",
       "      <td>14.370000</td>\n",
       "      <td>0.856300</td>\n",
       "      <td>1.0</td>\n",
       "      <td>0</td>\n",
       "      <td>0</td>\n",
       "      <td>0</td>\n",
       "      <td>0</td>\n",
       "      <td>1</td>\n",
       "      <td>0</td>\n",
       "      <td>0</td>\n",
       "      <td>0</td>\n",
       "      <td>0</td>\n",
       "      <td>0</td>\n",
       "      <td>0</td>\n",
       "      <td>0</td>\n",
       "      <td>0.0</td>\n",
       "    </tr>\n",
       "    <tr>\n",
       "      <th>482</th>\n",
       "      <td>NBN</td>\n",
       "      <td>0.0400</td>\n",
       "      <td>0.07</td>\n",
       "      <td>8.320000</td>\n",
       "      <td>0.916800</td>\n",
       "      <td>4.0</td>\n",
       "      <td>0</td>\n",
       "      <td>0</td>\n",
       "      <td>0</td>\n",
       "      <td>0</td>\n",
       "      <td>1</td>\n",
       "      <td>0</td>\n",
       "      <td>0</td>\n",
       "      <td>0</td>\n",
       "      <td>0</td>\n",
       "      <td>0</td>\n",
       "      <td>0</td>\n",
       "      <td>0</td>\n",
       "      <td>0.0</td>\n",
       "    </tr>\n",
       "    <tr>\n",
       "      <th>759</th>\n",
       "      <td>WIRE</td>\n",
       "      <td>0.0800</td>\n",
       "      <td>0.04</td>\n",
       "      <td>8.400000</td>\n",
       "      <td>0.916000</td>\n",
       "      <td>4.0</td>\n",
       "      <td>0</td>\n",
       "      <td>0</td>\n",
       "      <td>0</td>\n",
       "      <td>0</td>\n",
       "      <td>0</td>\n",
       "      <td>0</td>\n",
       "      <td>1</td>\n",
       "      <td>0</td>\n",
       "      <td>0</td>\n",
       "      <td>0</td>\n",
       "      <td>0</td>\n",
       "      <td>0</td>\n",
       "      <td>0.0</td>\n",
       "    </tr>\n",
       "    <tr>\n",
       "      <th>502</th>\n",
       "      <td>NVDA</td>\n",
       "      <td>0.1600</td>\n",
       "      <td>0.03</td>\n",
       "      <td>64.930000</td>\n",
       "      <td>0.350700</td>\n",
       "      <td>4.0</td>\n",
       "      <td>0</td>\n",
       "      <td>0</td>\n",
       "      <td>0</td>\n",
       "      <td>0</td>\n",
       "      <td>0</td>\n",
       "      <td>0</td>\n",
       "      <td>0</td>\n",
       "      <td>0</td>\n",
       "      <td>0</td>\n",
       "      <td>1</td>\n",
       "      <td>0</td>\n",
       "      <td>0</td>\n",
       "      <td>0.0</td>\n",
       "    </tr>\n",
       "    <tr>\n",
       "      <th>155</th>\n",
       "      <td>COO</td>\n",
       "      <td>0.0600</td>\n",
       "      <td>0.02</td>\n",
       "      <td>62.350000</td>\n",
       "      <td>0.376500</td>\n",
       "      <td>2.0</td>\n",
       "      <td>0</td>\n",
       "      <td>0</td>\n",
       "      <td>0</td>\n",
       "      <td>0</td>\n",
       "      <td>0</td>\n",
       "      <td>1</td>\n",
       "      <td>0</td>\n",
       "      <td>0</td>\n",
       "      <td>0</td>\n",
       "      <td>0</td>\n",
       "      <td>0</td>\n",
       "      <td>0</td>\n",
       "      <td>0.0</td>\n",
       "    </tr>\n",
       "  </tbody>\n",
       "</table>\n",
       "<p>786 rows × 19 columns</p>\n",
       "</div>"
      ],
      "text/plain": [
       "    Symbol  AnnualDividendsPerShare  DividendYield  PayoutRatio  \\\n",
       "55   AUVIP                   2.6250          94.43    49.752447   \n",
       "165  CSSEP                   2.4372          62.98    49.752447   \n",
       "517   OCCI                   2.4000          35.98    18.302007   \n",
       "173   CUBA                   0.6945          24.80    18.302007   \n",
       "370    IEP                   4.0000          23.60    49.752447   \n",
       "..     ...                      ...            ...          ...   \n",
       "508   NWLI                   0.3600           0.07    14.370000   \n",
       "482    NBN                   0.0400           0.07     8.320000   \n",
       "759   WIRE                   0.0800           0.04     8.400000   \n",
       "502   NVDA                   0.1600           0.03    64.930000   \n",
       "155    COO                   0.0600           0.02    62.350000   \n",
       "\n",
       "     RetentionRatio  DividendCount  Sector_1  Sector_2  Sector_3  Sector_4  \\\n",
       "55         0.502476            6.0         0         1         0         0   \n",
       "165        0.502476           12.0         0         1         0         0   \n",
       "517        0.816980            5.0         0         0         0         0   \n",
       "173        0.816980            2.0         0         0         0         0   \n",
       "370        0.502476            4.0         0         1         0         0   \n",
       "..              ...            ...       ...       ...       ...       ...   \n",
       "508        0.856300            1.0         0         0         0         0   \n",
       "482        0.916800            4.0         0         0         0         0   \n",
       "759        0.916000            4.0         0         0         0         0   \n",
       "502        0.350700            4.0         0         0         0         0   \n",
       "155        0.376500            2.0         0         0         0         0   \n",
       "\n",
       "     Sector_5  Sector_6  Sector_7  Sector_8  Sector_9  Sector_10  Sector_11  \\\n",
       "55          0         0         0         0         0          0          0   \n",
       "165         0         0         0         0         0          0          0   \n",
       "517         1         0         0         0         0          0          0   \n",
       "173         1         0         0         0         0          0          0   \n",
       "370         0         0         0         0         0          0          0   \n",
       "..        ...       ...       ...       ...       ...        ...        ...   \n",
       "508         1         0         0         0         0          0          0   \n",
       "482         1         0         0         0         0          0          0   \n",
       "759         0         0         1         0         0          0          0   \n",
       "502         0         0         0         0         0          1          0   \n",
       "155         0         1         0         0         0          0          0   \n",
       "\n",
       "     Sector_12  Attractiveness  \n",
       "55           0             0.0  \n",
       "165          0             0.0  \n",
       "517          0             1.0  \n",
       "173          0             1.0  \n",
       "370          0             1.0  \n",
       "..         ...             ...  \n",
       "508          0             0.0  \n",
       "482          0             0.0  \n",
       "759          0             0.0  \n",
       "502          0             0.0  \n",
       "155          0             0.0  \n",
       "\n",
       "[786 rows x 19 columns]"
      ]
     },
     "execution_count": 65,
     "metadata": {},
     "output_type": "execute_result"
    }
   ],
   "source": [
    "nasdaq_dataset.sort_values(by=['DividendYield','PayoutRatio'], ascending=False)"
   ]
  },
  {
   "cell_type": "code",
   "execution_count": 66,
   "id": "a0bca027-1000-4b72-8cf5-dbce2b6e61a7",
   "metadata": {},
   "outputs": [
    {
     "data": {
      "text/plain": [
       "Attractiveness\n",
       "0.0    104\n",
       "1.0     12\n",
       "Name: count, dtype: int64"
      ]
     },
     "execution_count": 66,
     "metadata": {},
     "output_type": "execute_result"
    }
   ],
   "source": [
    "populate_attractiveness(ftse_dataset)\n",
    "ftse_dataset['Attractiveness'].value_counts()"
   ]
  },
  {
   "cell_type": "code",
   "execution_count": 67,
   "id": "1738adc5-850a-4a5b-9c5d-9bc1c51ae4b7",
   "metadata": {},
   "outputs": [
    {
     "data": {
      "text/html": [
       "<div>\n",
       "<style scoped>\n",
       "    .dataframe tbody tr th:only-of-type {\n",
       "        vertical-align: middle;\n",
       "    }\n",
       "\n",
       "    .dataframe tbody tr th {\n",
       "        vertical-align: top;\n",
       "    }\n",
       "\n",
       "    .dataframe thead th {\n",
       "        text-align: right;\n",
       "    }\n",
       "</style>\n",
       "<table border=\"1\" class=\"dataframe\">\n",
       "  <thead>\n",
       "    <tr style=\"text-align: right;\">\n",
       "      <th></th>\n",
       "      <th>Symbol</th>\n",
       "      <th>DividendYield</th>\n",
       "      <th>PayoutRatio</th>\n",
       "      <th>AnnualDividendsPerShare</th>\n",
       "      <th>RetentionRatio</th>\n",
       "      <th>DividendCount</th>\n",
       "      <th>Sector_1</th>\n",
       "      <th>Sector_2</th>\n",
       "      <th>Sector_3</th>\n",
       "      <th>Sector_4</th>\n",
       "      <th>Sector_5</th>\n",
       "      <th>Sector_6</th>\n",
       "      <th>Sector_7</th>\n",
       "      <th>Sector_9</th>\n",
       "      <th>Sector_10</th>\n",
       "      <th>Sector_11</th>\n",
       "      <th>Sector_12</th>\n",
       "      <th>Attractiveness</th>\n",
       "    </tr>\n",
       "  </thead>\n",
       "  <tbody>\n",
       "    <tr>\n",
       "      <th>212</th>\n",
       "      <td>DEC</td>\n",
       "      <td>29.12</td>\n",
       "      <td>16.390000</td>\n",
       "      <td>2.669</td>\n",
       "      <td>0.836100</td>\n",
       "      <td>4.0</td>\n",
       "      <td>0</td>\n",
       "      <td>0</td>\n",
       "      <td>0</td>\n",
       "      <td>1</td>\n",
       "      <td>0</td>\n",
       "      <td>0</td>\n",
       "      <td>0</td>\n",
       "      <td>0</td>\n",
       "      <td>0</td>\n",
       "      <td>0</td>\n",
       "      <td>0</td>\n",
       "      <td>1.0</td>\n",
       "    </tr>\n",
       "    <tr>\n",
       "      <th>239</th>\n",
       "      <td>CBG</td>\n",
       "      <td>18.70</td>\n",
       "      <td>100.000000</td>\n",
       "      <td>0.675</td>\n",
       "      <td>0.000000</td>\n",
       "      <td>2.0</td>\n",
       "      <td>0</td>\n",
       "      <td>0</td>\n",
       "      <td>0</td>\n",
       "      <td>0</td>\n",
       "      <td>1</td>\n",
       "      <td>0</td>\n",
       "      <td>0</td>\n",
       "      <td>0</td>\n",
       "      <td>0</td>\n",
       "      <td>0</td>\n",
       "      <td>0</td>\n",
       "      <td>0.0</td>\n",
       "    </tr>\n",
       "    <tr>\n",
       "      <th>225</th>\n",
       "      <td>ENOG</td>\n",
       "      <td>11.86</td>\n",
       "      <td>58.195000</td>\n",
       "      <td>1.200</td>\n",
       "      <td>0.418050</td>\n",
       "      <td>4.0</td>\n",
       "      <td>0</td>\n",
       "      <td>0</td>\n",
       "      <td>0</td>\n",
       "      <td>1</td>\n",
       "      <td>0</td>\n",
       "      <td>0</td>\n",
       "      <td>0</td>\n",
       "      <td>0</td>\n",
       "      <td>0</td>\n",
       "      <td>0</td>\n",
       "      <td>0</td>\n",
       "      <td>1.0</td>\n",
       "    </tr>\n",
       "    <tr>\n",
       "      <th>78</th>\n",
       "      <td>ABDN</td>\n",
       "      <td>9.81</td>\n",
       "      <td>100.000000</td>\n",
       "      <td>0.146</td>\n",
       "      <td>0.000000</td>\n",
       "      <td>2.0</td>\n",
       "      <td>0</td>\n",
       "      <td>0</td>\n",
       "      <td>0</td>\n",
       "      <td>0</td>\n",
       "      <td>1</td>\n",
       "      <td>0</td>\n",
       "      <td>0</td>\n",
       "      <td>0</td>\n",
       "      <td>0</td>\n",
       "      <td>0</td>\n",
       "      <td>0</td>\n",
       "      <td>0.0</td>\n",
       "    </tr>\n",
       "    <tr>\n",
       "      <th>242</th>\n",
       "      <td>HBR</td>\n",
       "      <td>8.94</td>\n",
       "      <td>100.000000</td>\n",
       "      <td>0.240</td>\n",
       "      <td>0.000000</td>\n",
       "      <td>2.0</td>\n",
       "      <td>0</td>\n",
       "      <td>0</td>\n",
       "      <td>0</td>\n",
       "      <td>1</td>\n",
       "      <td>0</td>\n",
       "      <td>0</td>\n",
       "      <td>0</td>\n",
       "      <td>0</td>\n",
       "      <td>0</td>\n",
       "      <td>0</td>\n",
       "      <td>0</td>\n",
       "      <td>0.0</td>\n",
       "    </tr>\n",
       "    <tr>\n",
       "      <th>...</th>\n",
       "      <td>...</td>\n",
       "      <td>...</td>\n",
       "      <td>...</td>\n",
       "      <td>...</td>\n",
       "      <td>...</td>\n",
       "      <td>...</td>\n",
       "      <td>...</td>\n",
       "      <td>...</td>\n",
       "      <td>...</td>\n",
       "      <td>...</td>\n",
       "      <td>...</td>\n",
       "      <td>...</td>\n",
       "      <td>...</td>\n",
       "      <td>...</td>\n",
       "      <td>...</td>\n",
       "      <td>...</td>\n",
       "      <td>...</td>\n",
       "      <td>...</td>\n",
       "    </tr>\n",
       "    <tr>\n",
       "      <th>43</th>\n",
       "      <td>ESNT</td>\n",
       "      <td>1.25</td>\n",
       "      <td>51.191563</td>\n",
       "      <td>0.022</td>\n",
       "      <td>0.488084</td>\n",
       "      <td>2.0</td>\n",
       "      <td>0</td>\n",
       "      <td>0</td>\n",
       "      <td>0</td>\n",
       "      <td>0</td>\n",
       "      <td>0</td>\n",
       "      <td>0</td>\n",
       "      <td>1</td>\n",
       "      <td>0</td>\n",
       "      <td>0</td>\n",
       "      <td>0</td>\n",
       "      <td>0</td>\n",
       "      <td>0.0</td>\n",
       "    </tr>\n",
       "    <tr>\n",
       "      <th>14</th>\n",
       "      <td>OXIG</td>\n",
       "      <td>0.93</td>\n",
       "      <td>18.690000</td>\n",
       "      <td>0.195</td>\n",
       "      <td>0.813100</td>\n",
       "      <td>2.0</td>\n",
       "      <td>0</td>\n",
       "      <td>0</td>\n",
       "      <td>0</td>\n",
       "      <td>0</td>\n",
       "      <td>0</td>\n",
       "      <td>0</td>\n",
       "      <td>1</td>\n",
       "      <td>0</td>\n",
       "      <td>0</td>\n",
       "      <td>0</td>\n",
       "      <td>0</td>\n",
       "      <td>0.0</td>\n",
       "    </tr>\n",
       "    <tr>\n",
       "      <th>120</th>\n",
       "      <td>SNR</td>\n",
       "      <td>0.92</td>\n",
       "      <td>21.250000</td>\n",
       "      <td>0.016</td>\n",
       "      <td>0.787500</td>\n",
       "      <td>2.0</td>\n",
       "      <td>0</td>\n",
       "      <td>0</td>\n",
       "      <td>0</td>\n",
       "      <td>0</td>\n",
       "      <td>0</td>\n",
       "      <td>0</td>\n",
       "      <td>1</td>\n",
       "      <td>0</td>\n",
       "      <td>0</td>\n",
       "      <td>0</td>\n",
       "      <td>0</td>\n",
       "      <td>0.0</td>\n",
       "    </tr>\n",
       "    <tr>\n",
       "      <th>241</th>\n",
       "      <td>FUTR</td>\n",
       "      <td>0.57</td>\n",
       "      <td>3.590000</td>\n",
       "      <td>0.034</td>\n",
       "      <td>0.964100</td>\n",
       "      <td>1.0</td>\n",
       "      <td>0</td>\n",
       "      <td>1</td>\n",
       "      <td>0</td>\n",
       "      <td>0</td>\n",
       "      <td>0</td>\n",
       "      <td>0</td>\n",
       "      <td>0</td>\n",
       "      <td>0</td>\n",
       "      <td>0</td>\n",
       "      <td>0</td>\n",
       "      <td>0</td>\n",
       "      <td>0.0</td>\n",
       "    </tr>\n",
       "    <tr>\n",
       "      <th>82</th>\n",
       "      <td>SPI</td>\n",
       "      <td>0.21</td>\n",
       "      <td>7.530000</td>\n",
       "      <td>0.005</td>\n",
       "      <td>0.924700</td>\n",
       "      <td>1.0</td>\n",
       "      <td>0</td>\n",
       "      <td>0</td>\n",
       "      <td>0</td>\n",
       "      <td>0</td>\n",
       "      <td>0</td>\n",
       "      <td>1</td>\n",
       "      <td>0</td>\n",
       "      <td>0</td>\n",
       "      <td>0</td>\n",
       "      <td>0</td>\n",
       "      <td>0</td>\n",
       "      <td>0.0</td>\n",
       "    </tr>\n",
       "  </tbody>\n",
       "</table>\n",
       "<p>116 rows × 18 columns</p>\n",
       "</div>"
      ],
      "text/plain": [
       "    Symbol  DividendYield  PayoutRatio  AnnualDividendsPerShare  \\\n",
       "212    DEC          29.12    16.390000                    2.669   \n",
       "239    CBG          18.70   100.000000                    0.675   \n",
       "225   ENOG          11.86    58.195000                    1.200   \n",
       "78    ABDN           9.81   100.000000                    0.146   \n",
       "242    HBR           8.94   100.000000                    0.240   \n",
       "..     ...            ...          ...                      ...   \n",
       "43    ESNT           1.25    51.191563                    0.022   \n",
       "14    OXIG           0.93    18.690000                    0.195   \n",
       "120    SNR           0.92    21.250000                    0.016   \n",
       "241   FUTR           0.57     3.590000                    0.034   \n",
       "82     SPI           0.21     7.530000                    0.005   \n",
       "\n",
       "     RetentionRatio  DividendCount  Sector_1  Sector_2  Sector_3  Sector_4  \\\n",
       "212        0.836100            4.0         0         0         0         1   \n",
       "239        0.000000            2.0         0         0         0         0   \n",
       "225        0.418050            4.0         0         0         0         1   \n",
       "78         0.000000            2.0         0         0         0         0   \n",
       "242        0.000000            2.0         0         0         0         1   \n",
       "..              ...            ...       ...       ...       ...       ...   \n",
       "43         0.488084            2.0         0         0         0         0   \n",
       "14         0.813100            2.0         0         0         0         0   \n",
       "120        0.787500            2.0         0         0         0         0   \n",
       "241        0.964100            1.0         0         1         0         0   \n",
       "82         0.924700            1.0         0         0         0         0   \n",
       "\n",
       "     Sector_5  Sector_6  Sector_7  Sector_9  Sector_10  Sector_11  Sector_12  \\\n",
       "212         0         0         0         0          0          0          0   \n",
       "239         1         0         0         0          0          0          0   \n",
       "225         0         0         0         0          0          0          0   \n",
       "78          1         0         0         0          0          0          0   \n",
       "242         0         0         0         0          0          0          0   \n",
       "..        ...       ...       ...       ...        ...        ...        ...   \n",
       "43          0         0         1         0          0          0          0   \n",
       "14          0         0         1         0          0          0          0   \n",
       "120         0         0         1         0          0          0          0   \n",
       "241         0         0         0         0          0          0          0   \n",
       "82          0         1         0         0          0          0          0   \n",
       "\n",
       "     Attractiveness  \n",
       "212             1.0  \n",
       "239             0.0  \n",
       "225             1.0  \n",
       "78              0.0  \n",
       "242             0.0  \n",
       "..              ...  \n",
       "43              0.0  \n",
       "14              0.0  \n",
       "120             0.0  \n",
       "241             0.0  \n",
       "82              0.0  \n",
       "\n",
       "[116 rows x 18 columns]"
      ]
     },
     "execution_count": 67,
     "metadata": {},
     "output_type": "execute_result"
    }
   ],
   "source": [
    "ftse_dataset.sort_values(by=['DividendYield','PayoutRatio'], ascending=False)"
   ]
  },
  {
   "cell_type": "markdown",
   "id": "5e65b814-90fa-4f01-9463-1934f119f1f8",
   "metadata": {},
   "source": [
    "## Random forest algorithm\n",
    "\n",
    "<p style=\"text-align: justify;text-justify: inter-word;\">\n",
    "Based on the definition of Tan, Yan, Zhu (2019) the Random Forest algorithm creates multiple decision trees using subsets of the dataset and combines the predictions of these trees to obtain the final result in predicting the upward and downward movements of the index. The process of constructing a random forest is simple. In the random forest algorithm, firstly, the number of decision trees (n) to be created is determined according to the characteristics of the dataset. The Random Forest algorithm was provided by Scikit-learn (2024), this algorithm supports vast options of parameters such as “n_estimators” which represents the number of trees in the forest, “class_weight” which is the weights associated with the available classes, if not given, all classes are supposed to have weight one. Acording to Scikit-learn (2024), the main parameters to adjust when using these methods is n_estimators and max_features. The former is the number of trees in the forest. The larger the better, but also the longer it will take to compute. In addition, note that results will stop getting significantly better beyond a critical number of trees.\n",
    "</p>\n",
    "<p style=\"text-align: justify;text-justify: inter-word;\">\n",
    "In the context of this study, the Random Forest algorithm was employed for the classification of stock attractiveness. The models were trained using the NASDAQ dataset, while the FTSE dataset served as the test dataset. Through iterative exploration and testing, the most accurate models were derived with specific parameter configurations:\n",
    "</p>\n",
    "\n",
    "- Model 1: This initial model incorporated all features from the dataset, excluding the Symbol column.\n",
    "    - Parameters: n_estimators=2, class_weight='balanced_subsample'\n",
    "- Model 2: The second trained model focused on a subset of features, specifically: AnnualDiv-\n",
    "idendsPerShare, DividendYield, PayoutRatio, RetentionRatio, and DividendCount.\n",
    "    - Parameters: n_estimators=1, class_weight='balanced'\n",
    "- Model 3: Similar to Model 2, the third model also utilized the columns: AnnualDividendsPer- Share, DividendYield, PayoutRatio, RetentionRatio, and DividendCount.\n",
    "    - Parameters: n_estimators=1, class_weight='balanced'\n",
    "\n",
    "| Model   | Dataset | Precision | Recall | Accuracy |\n",
    "|---------|---------|-----------|--------|----------|\n",
    "| Model 1 | NASDAQ  | 99%       | 99%    | 99%      |\n",
    "| Model 1 | FTSE    | 96%       | 58%    | 91%      |\n",
    "| Model 2 | NASDAQ  | 100%      | 100%   | 100%     |\n",
    "| Model 2 | FTSE    | 96%       | 58%    | 91%      |\n",
    "| Model 3 | NASDAQ  | 100%      | 98%    | 99%      |\n",
    "| Model 3 | FTSE    | 96%       | 58%    | 91%      |"
   ]
  },
  {
   "cell_type": "code",
   "execution_count": 68,
   "id": "9a1e1419-2f98-4639-a1e2-3e2aff9ba3d2",
   "metadata": {},
   "outputs": [],
   "source": [
    "pipeline = Pipeline([\n",
    "  ('scaler', StandardScaler()),\n",
    "  ('feature_selection', SelectFromModel(LinearSVC(dual=\"auto\", penalty=\"l1\", random_state=0))),\n",
    "  ('classification', RandomForestClassifier(n_estimators=3, class_weight='balanced_subsample', random_state=0))\n",
    "])\n",
    "pipeline.fit(nasdaq_dataset.iloc[::,1:-1], nasdaq_dataset['Attractiveness'])\n",
    "y_pred = pipeline.predict(nasdaq_dataset.iloc[::,1:-1])"
   ]
  },
  {
   "cell_type": "code",
   "execution_count": 69,
   "id": "154be57b-d4f8-4df1-a36d-1c7bb786fed1",
   "metadata": {},
   "outputs": [
    {
     "name": "stdout",
     "output_type": "stream",
     "text": [
      "                precision    recall  f1-score   support\n",
      "\n",
      "not-attractive       1.00      1.00      1.00       706\n",
      "    attractive       0.99      0.97      0.98        80\n",
      "\n",
      "      accuracy                           1.00       786\n",
      "     macro avg       0.99      0.99      0.99       786\n",
      "  weighted avg       1.00      1.00      1.00       786\n",
      "\n"
     ]
    }
   ],
   "source": [
    "print(classification_report(nasdaq_dataset['Attractiveness'], y_pred, target_names=['not-attractive', 'attractive']))"
   ]
  },
  {
   "cell_type": "code",
   "execution_count": 70,
   "id": "1bf2d1dd-d3b9-488e-8392-1e07141d6bf0",
   "metadata": {},
   "outputs": [
    {
     "name": "stdout",
     "output_type": "stream",
     "text": [
      "[[705   1]\n",
      " [  2  78]]\n"
     ]
    }
   ],
   "source": [
    "print(confusion_matrix(nasdaq_dataset['Attractiveness'], y_pred))"
   ]
  },
  {
   "cell_type": "code",
   "execution_count": 71,
   "id": "11569972-8a7d-4ac8-bdf5-aa1ea179e757",
   "metadata": {},
   "outputs": [],
   "source": [
    "y_pred = pipeline.predict(get_test_dataset(ftse_dataset, True))"
   ]
  },
  {
   "cell_type": "code",
   "execution_count": 72,
   "id": "290c5c2d-88bb-4b7e-8a0e-46e4182ab416",
   "metadata": {},
   "outputs": [
    {
     "name": "stdout",
     "output_type": "stream",
     "text": [
      "                precision    recall  f1-score   support\n",
      "\n",
      "not-attractive       0.91      1.00      0.95       104\n",
      "    attractive       1.00      0.17      0.29        12\n",
      "\n",
      "      accuracy                           0.91       116\n",
      "     macro avg       0.96      0.58      0.62       116\n",
      "  weighted avg       0.92      0.91      0.88       116\n",
      "\n"
     ]
    }
   ],
   "source": [
    "print(classification_report(ftse_dataset['Attractiveness'], y_pred, target_names=['not-attractive', 'attractive']))"
   ]
  },
  {
   "cell_type": "code",
   "execution_count": 73,
   "id": "f137e28e-268e-40d5-89cb-444fb414a34a",
   "metadata": {},
   "outputs": [
    {
     "name": "stdout",
     "output_type": "stream",
     "text": [
      "[[104   0]\n",
      " [ 10   2]]\n"
     ]
    }
   ],
   "source": [
    "print(confusion_matrix(ftse_dataset['Attractiveness'], y_pred))"
   ]
  },
  {
   "cell_type": "code",
   "execution_count": 74,
   "id": "a6e65379-836a-41b0-b76e-650e9d31815e",
   "metadata": {},
   "outputs": [],
   "source": [
    "pipeline = Pipeline([\n",
    "  ('scaler', StandardScaler()),\n",
    "  ('feature_selection', SelectFromModel(LinearSVC(dual=\"auto\", penalty=\"l1\", random_state=0))),\n",
    "  ('classification', RandomForestClassifier(n_estimators=100, class_weight='balanced', random_state=0))\n",
    "])\n",
    "pipeline.fit(nasdaq_dataset.iloc[::,1:6], nasdaq_dataset['Attractiveness'])\n",
    "y_pred = pipeline.predict(nasdaq_dataset.iloc[::,1:6])"
   ]
  },
  {
   "cell_type": "code",
   "execution_count": 75,
   "id": "656242e5-d70b-4ece-9bc8-9367754b55ab",
   "metadata": {},
   "outputs": [
    {
     "name": "stdout",
     "output_type": "stream",
     "text": [
      "                precision    recall  f1-score   support\n",
      "\n",
      "not-attractive       1.00      1.00      1.00       706\n",
      "    attractive       1.00      1.00      1.00        80\n",
      "\n",
      "      accuracy                           1.00       786\n",
      "     macro avg       1.00      1.00      1.00       786\n",
      "  weighted avg       1.00      1.00      1.00       786\n",
      "\n"
     ]
    }
   ],
   "source": [
    "print(classification_report(nasdaq_dataset['Attractiveness'], y_pred, target_names=['not-attractive', 'attractive']))"
   ]
  },
  {
   "cell_type": "code",
   "execution_count": 76,
   "id": "e56c1d15-6dc8-4fff-b964-b51e75a29e20",
   "metadata": {},
   "outputs": [
    {
     "name": "stdout",
     "output_type": "stream",
     "text": [
      "[[706   0]\n",
      " [  0  80]]\n"
     ]
    }
   ],
   "source": [
    "print(confusion_matrix(nasdaq_dataset['Attractiveness'], y_pred))"
   ]
  },
  {
   "cell_type": "code",
   "execution_count": 77,
   "id": "0ce35960-cfb9-435b-a2fb-3f4d6e0203d9",
   "metadata": {},
   "outputs": [],
   "source": [
    "y_pred = pipeline.predict(get_test_dataset(ftse_dataset))"
   ]
  },
  {
   "cell_type": "code",
   "execution_count": 78,
   "id": "90173730-7aa8-48e1-a2a4-53fbf740fbc4",
   "metadata": {},
   "outputs": [
    {
     "name": "stdout",
     "output_type": "stream",
     "text": [
      "                precision    recall  f1-score   support\n",
      "\n",
      "not-attractive       0.91      1.00      0.95       104\n",
      "    attractive       1.00      0.17      0.29        12\n",
      "\n",
      "      accuracy                           0.91       116\n",
      "     macro avg       0.96      0.58      0.62       116\n",
      "  weighted avg       0.92      0.91      0.88       116\n",
      "\n"
     ]
    }
   ],
   "source": [
    "print(classification_report(ftse_dataset['Attractiveness'], y_pred, target_names=['not-attractive', 'attractive']))"
   ]
  },
  {
   "cell_type": "code",
   "execution_count": 79,
   "id": "97492fa3-cf34-4adc-8131-8ad3aca18e7a",
   "metadata": {},
   "outputs": [
    {
     "name": "stdout",
     "output_type": "stream",
     "text": [
      "[[104   0]\n",
      " [ 10   2]]\n"
     ]
    }
   ],
   "source": [
    "print(confusion_matrix(ftse_dataset['Attractiveness'], y_pred))"
   ]
  },
  {
   "cell_type": "code",
   "execution_count": 80,
   "id": "d1ae9d88-b16e-4ef9-a6ec-aa6b93fecba8",
   "metadata": {},
   "outputs": [],
   "source": [
    "pipeline = Pipeline([\n",
    "  ('scaler', StandardScaler()),\n",
    "  ('feature_selection', SelectFromModel(LinearSVC(dual=\"auto\", penalty=\"l1\", random_state=0))),\n",
    "  ('classification', RandomForestClassifier(n_estimators=10000, class_weight='balanced_subsample', random_state=0))\n",
    "])\n",
    "pipeline.fit(nasdaq_dataset.iloc[::,1:6], nasdaq_dataset['Attractiveness'])\n",
    "y_pred = pipeline.predict(nasdaq_dataset.iloc[::,1:6])"
   ]
  },
  {
   "cell_type": "code",
   "execution_count": 81,
   "id": "248ed568-d321-4fb5-848f-3723e11a499d",
   "metadata": {},
   "outputs": [
    {
     "name": "stdout",
     "output_type": "stream",
     "text": [
      "                precision    recall  f1-score   support\n",
      "\n",
      "not-attractive       1.00      1.00      1.00       706\n",
      "    attractive       1.00      1.00      1.00        80\n",
      "\n",
      "      accuracy                           1.00       786\n",
      "     macro avg       1.00      1.00      1.00       786\n",
      "  weighted avg       1.00      1.00      1.00       786\n",
      "\n"
     ]
    }
   ],
   "source": [
    "print(classification_report(nasdaq_dataset['Attractiveness'], y_pred, target_names=['not-attractive', 'attractive']))"
   ]
  },
  {
   "cell_type": "code",
   "execution_count": 82,
   "id": "14b61619-3e27-407d-945d-11c0ab5e5cec",
   "metadata": {},
   "outputs": [
    {
     "name": "stdout",
     "output_type": "stream",
     "text": [
      "[[706   0]\n",
      " [  0  80]]\n"
     ]
    }
   ],
   "source": [
    "print(confusion_matrix(nasdaq_dataset['Attractiveness'], y_pred))"
   ]
  },
  {
   "cell_type": "code",
   "execution_count": 83,
   "id": "2da049e5-0a51-46a9-bf41-b4ec4b6bf822",
   "metadata": {},
   "outputs": [],
   "source": [
    "y_pred = pipeline.predict(get_test_dataset(ftse_dataset))"
   ]
  },
  {
   "cell_type": "code",
   "execution_count": 84,
   "id": "05702eba-51dd-4ea5-8854-8505e7e33cf6",
   "metadata": {},
   "outputs": [
    {
     "name": "stdout",
     "output_type": "stream",
     "text": [
      "                precision    recall  f1-score   support\n",
      "\n",
      "not-attractive       0.91      1.00      0.95       104\n",
      "    attractive       1.00      0.17      0.29        12\n",
      "\n",
      "      accuracy                           0.91       116\n",
      "     macro avg       0.96      0.58      0.62       116\n",
      "  weighted avg       0.92      0.91      0.88       116\n",
      "\n"
     ]
    }
   ],
   "source": [
    "print(classification_report(ftse_dataset['Attractiveness'], y_pred, target_names=['not-attractive', 'attractive']))"
   ]
  },
  {
   "cell_type": "code",
   "execution_count": 85,
   "id": "68526cfd-967b-4403-8ea0-26a11ae51ee0",
   "metadata": {},
   "outputs": [
    {
     "name": "stdout",
     "output_type": "stream",
     "text": [
      "[[104   0]\n",
      " [ 10   2]]\n"
     ]
    }
   ],
   "source": [
    "print(confusion_matrix(ftse_dataset['Attractiveness'], y_pred))"
   ]
  },
  {
   "cell_type": "markdown",
   "id": "aeb392c4-30ed-4b2c-ba17-22c146bb05fb",
   "metadata": {},
   "source": [
    "## Support vector machines algorithm\n",
    "\n",
    "<p style=\"text-align: justify;text-justify: inter-word;\">\n",
    "According to Ayyildiz and Iskenderoglu (2024), the Support Vector Machine (SVM) is particularly effective in machine learning for classification problems. It works by creating an optimized separating hyperplane to assign data points to specific classes. The SVM algorithm is based on the principle of structural risk minimization, which aims to minimize the upper bound of the generalization error. The SVM algorithm was provided by Scikit-learn (2024), this algorithm supports vast options of parameters such as \"C\" that is a regularization parameter where the strength of the regularization is inversely proportional to C, \"kernel\" defines which kernel fucntion will be applied linear, polynomial, rbf, and sigmoid.\n",
    "</p>\n",
    "<p style=\"text-align: justify;text-justify: inter-word;\">\n",
    "In the context of this study, the SVM algorithm was employed for the classification of stock attractiveness. The models were trained using the NASDAQ dataset, while the FTSE dataset served as the test dataset. Through iterative exploration and testing, the most accurate models were derived with specific parameter configurations:\n",
    "</p>\n",
    "\n",
    "- Model 1: This initial model focused on a subset of features, specifically: AnnualDividendsPerShare, DividendYield, PayoutRatio, RetentionRatio, and DividendCount.\n",
    "    - Parameters: kernel='sigmoid', C=1.0\n",
    "- Model 2: Similar to Model 1, the second trained model focused on a subset of features, specifically: AnnualDividendsPerShare, DividendYield, PayoutRatio, RetentionRatio, and DividendCount.\n",
    "    - Parameters: kernel='sigmoid', C=10\n",
    "- Model 3: The third model incorporated all features from the dataset, excluding the Symbol column.\n",
    "    - Parameters: kernel='sigmoid', C=1.0\n",
    "\n",
    "| Model   | Dataset | Precision | Recall | Accuracy |\n",
    "|---------|---------|-----------|--------|----------|\n",
    "| Model 1 | NASDAQ  | 81%       | 81%    | 93%      |\n",
    "| Model 1 | FTSE    | 77%       | 77%    | 91%      |\n",
    "| Model 2 | NASDAQ  | 78%       | 77%    | 92%      |\n",
    "| Model 2 | FTSE    | 77%       | 88%    | 91%      |\n",
    "| Model 3 | NASDAQ  | 83%       | 74%    | 93%      |\n",
    "| Model 3 | FTSE    | 62%       | 53%    | 89%      |"
   ]
  },
  {
   "cell_type": "code",
   "execution_count": 86,
   "id": "f550b956-4b46-4297-9b32-ad40c8ce0c54",
   "metadata": {},
   "outputs": [],
   "source": [
    "pipeline = Pipeline([\n",
    "  ('scaler', StandardScaler()),\n",
    "  ('feature_selection', SelectFromModel(LinearSVC(dual=\"auto\", penalty=\"l1\", random_state=0))),\n",
    "  ('classification', SVC(kernel='sigmoid', random_state=0))\n",
    "])\n",
    "pipeline.fit(nasdaq_dataset.iloc[::,1:6], nasdaq_dataset['Attractiveness'])\n",
    "y_pred = pipeline.predict(nasdaq_dataset.iloc[::,1:6])"
   ]
  },
  {
   "cell_type": "code",
   "execution_count": 87,
   "id": "734e3029-0a36-439c-a357-2a3d5603dd41",
   "metadata": {},
   "outputs": [
    {
     "name": "stdout",
     "output_type": "stream",
     "text": [
      "                precision    recall  f1-score   support\n",
      "\n",
      "not-attractive       0.96      0.96      0.96       706\n",
      "    attractive       0.66      0.65      0.65        80\n",
      "\n",
      "      accuracy                           0.93       786\n",
      "     macro avg       0.81      0.81      0.81       786\n",
      "  weighted avg       0.93      0.93      0.93       786\n",
      "\n"
     ]
    }
   ],
   "source": [
    "print(classification_report(nasdaq_dataset['Attractiveness'], y_pred, target_names=['not-attractive', 'attractive']))"
   ]
  },
  {
   "cell_type": "code",
   "execution_count": 88,
   "id": "b17041a8-fedb-426f-83f9-6fb26dc7faa2",
   "metadata": {},
   "outputs": [
    {
     "name": "stdout",
     "output_type": "stream",
     "text": [
      "[[679  27]\n",
      " [ 28  52]]\n"
     ]
    }
   ],
   "source": [
    "print(confusion_matrix(nasdaq_dataset['Attractiveness'], y_pred))"
   ]
  },
  {
   "cell_type": "code",
   "execution_count": 89,
   "id": "54a22706-0b2f-402b-b1a3-9ffa8f44e7f2",
   "metadata": {},
   "outputs": [],
   "source": [
    "y_pred = pipeline.predict(get_test_dataset(ftse_dataset))"
   ]
  },
  {
   "cell_type": "code",
   "execution_count": 90,
   "id": "a7daca7d-d6e2-478f-9f31-4ac46b0f0a36",
   "metadata": {},
   "outputs": [
    {
     "name": "stdout",
     "output_type": "stream",
     "text": [
      "                precision    recall  f1-score   support\n",
      "\n",
      "not-attractive       0.95      0.95      0.95       104\n",
      "    attractive       0.58      0.58      0.58        12\n",
      "\n",
      "      accuracy                           0.91       116\n",
      "     macro avg       0.77      0.77      0.77       116\n",
      "  weighted avg       0.91      0.91      0.91       116\n",
      "\n"
     ]
    }
   ],
   "source": [
    "print(classification_report(ftse_dataset['Attractiveness'], y_pred, target_names=['not-attractive', 'attractive']))"
   ]
  },
  {
   "cell_type": "code",
   "execution_count": 91,
   "id": "f62ac819-ac28-4b3e-bc74-a8821dd42d95",
   "metadata": {},
   "outputs": [
    {
     "name": "stdout",
     "output_type": "stream",
     "text": [
      "[[99  5]\n",
      " [ 5  7]]\n"
     ]
    }
   ],
   "source": [
    "print(confusion_matrix(ftse_dataset['Attractiveness'], y_pred))"
   ]
  },
  {
   "cell_type": "code",
   "execution_count": 92,
   "id": "e56137ab-c40c-4572-8446-a3d0121513a6",
   "metadata": {},
   "outputs": [],
   "source": [
    "pipeline = Pipeline([\n",
    "  ('scaler', StandardScaler()),\n",
    "  ('feature_selection', SelectFromModel(LinearSVC(dual=\"auto\", penalty=\"l1\", random_state=0))),\n",
    "  ('classification', SVC(kernel='sigmoid', C=10, random_state=0))\n",
    "])\n",
    "pipeline.fit(nasdaq_dataset.iloc[::,1:6], nasdaq_dataset['Attractiveness'])\n",
    "y_pred = pipeline.predict(nasdaq_dataset.iloc[::,1:6])"
   ]
  },
  {
   "cell_type": "code",
   "execution_count": 93,
   "id": "62a77fe1-07c0-4e85-a438-954126774e73",
   "metadata": {},
   "outputs": [
    {
     "name": "stdout",
     "output_type": "stream",
     "text": [
      "                precision    recall  f1-score   support\n",
      "\n",
      "not-attractive       0.95      0.96      0.96       706\n",
      "    attractive       0.61      0.57      0.59        80\n",
      "\n",
      "      accuracy                           0.92       786\n",
      "     macro avg       0.78      0.77      0.77       786\n",
      "  weighted avg       0.92      0.92      0.92       786\n",
      "\n"
     ]
    }
   ],
   "source": [
    "print(classification_report(nasdaq_dataset['Attractiveness'], y_pred, target_names=['not-attractive', 'attractive']))"
   ]
  },
  {
   "cell_type": "code",
   "execution_count": 94,
   "id": "bec39f83-3f96-4460-9533-2ab1e9eb6607",
   "metadata": {},
   "outputs": [
    {
     "name": "stdout",
     "output_type": "stream",
     "text": [
      "[[677  29]\n",
      " [ 34  46]]\n"
     ]
    }
   ],
   "source": [
    "print(confusion_matrix(nasdaq_dataset['Attractiveness'], y_pred))"
   ]
  },
  {
   "cell_type": "code",
   "execution_count": 95,
   "id": "3f7f880d-651b-4089-a534-5477803e6cbf",
   "metadata": {},
   "outputs": [],
   "source": [
    "y_pred = pipeline.predict(get_test_dataset(ftse_dataset))"
   ]
  },
  {
   "cell_type": "code",
   "execution_count": 96,
   "id": "dc4ce0ce-c108-4a9b-bcb9-d4012e17e1d8",
   "metadata": {},
   "outputs": [
    {
     "name": "stdout",
     "output_type": "stream",
     "text": [
      "                precision    recall  f1-score   support\n",
      "\n",
      "not-attractive       0.98      0.92      0.95       104\n",
      "    attractive       0.56      0.83      0.67        12\n",
      "\n",
      "      accuracy                           0.91       116\n",
      "     macro avg       0.77      0.88      0.81       116\n",
      "  weighted avg       0.94      0.91      0.92       116\n",
      "\n"
     ]
    }
   ],
   "source": [
    "print(classification_report(ftse_dataset['Attractiveness'], y_pred, target_names=['not-attractive', 'attractive']))"
   ]
  },
  {
   "cell_type": "code",
   "execution_count": 97,
   "id": "7ae3c5ef-4a8b-48cf-8234-a204bb0d827d",
   "metadata": {},
   "outputs": [
    {
     "name": "stdout",
     "output_type": "stream",
     "text": [
      "[[96  8]\n",
      " [ 2 10]]\n"
     ]
    }
   ],
   "source": [
    "print(confusion_matrix(ftse_dataset['Attractiveness'], y_pred))"
   ]
  },
  {
   "cell_type": "code",
   "execution_count": 98,
   "id": "06c32a47-807c-4a57-bf9c-2f24c7d6b11c",
   "metadata": {},
   "outputs": [],
   "source": [
    "pipeline = Pipeline([\n",
    "  ('scaler', StandardScaler()),\n",
    "  ('feature_selection', SelectFromModel(LinearSVC(dual=\"auto\", penalty=\"l1\", random_state=0))),\n",
    "  ('classification', SVC(kernel='sigmoid', random_state=0))\n",
    "])\n",
    "pipeline.fit(nasdaq_dataset.iloc[::,1:-1], nasdaq_dataset['Attractiveness'])\n",
    "y_pred = pipeline.predict(nasdaq_dataset.iloc[::,1:-1])"
   ]
  },
  {
   "cell_type": "code",
   "execution_count": 99,
   "id": "adc86fb2-64c9-4629-b12d-24cc62a3b390",
   "metadata": {},
   "outputs": [
    {
     "name": "stdout",
     "output_type": "stream",
     "text": [
      "                precision    recall  f1-score   support\n",
      "\n",
      "not-attractive       0.95      0.98      0.96       706\n",
      "    attractive       0.71      0.51      0.59        80\n",
      "\n",
      "      accuracy                           0.93       786\n",
      "     macro avg       0.83      0.74      0.78       786\n",
      "  weighted avg       0.92      0.93      0.92       786\n",
      "\n"
     ]
    }
   ],
   "source": [
    "print(classification_report(nasdaq_dataset['Attractiveness'], y_pred, target_names=['not-attractive', 'attractive']))"
   ]
  },
  {
   "cell_type": "code",
   "execution_count": 100,
   "id": "243257ef-7544-42f6-bbe9-4a4e7b4d624e",
   "metadata": {},
   "outputs": [
    {
     "name": "stdout",
     "output_type": "stream",
     "text": [
      "[[689  17]\n",
      " [ 39  41]]\n"
     ]
    }
   ],
   "source": [
    "print(confusion_matrix(nasdaq_dataset['Attractiveness'], y_pred))"
   ]
  },
  {
   "cell_type": "code",
   "execution_count": 101,
   "id": "c47dbca7-63c1-40ba-a5c0-8435740d07e9",
   "metadata": {},
   "outputs": [],
   "source": [
    "y_pred = pipeline.predict(get_test_dataset(ftse_dataset, True))"
   ]
  },
  {
   "cell_type": "code",
   "execution_count": 102,
   "id": "b6d50c57-b24a-4f89-ac8d-73cf796cbcca",
   "metadata": {},
   "outputs": [
    {
     "name": "stdout",
     "output_type": "stream",
     "text": [
      "                precision    recall  f1-score   support\n",
      "\n",
      "not-attractive       0.90      0.98      0.94       104\n",
      "    attractive       0.33      0.08      0.13        12\n",
      "\n",
      "      accuracy                           0.89       116\n",
      "     macro avg       0.62      0.53      0.54       116\n",
      "  weighted avg       0.84      0.89      0.86       116\n",
      "\n"
     ]
    }
   ],
   "source": [
    "print(classification_report(ftse_dataset['Attractiveness'], y_pred, target_names=['not-attractive', 'attractive']))"
   ]
  },
  {
   "cell_type": "code",
   "execution_count": 103,
   "id": "dceec54c-8886-4560-a1e9-9b9b3909ef0c",
   "metadata": {},
   "outputs": [
    {
     "name": "stdout",
     "output_type": "stream",
     "text": [
      "[[102   2]\n",
      " [ 11   1]]\n"
     ]
    }
   ],
   "source": [
    "print(confusion_matrix(ftse_dataset['Attractiveness'], y_pred))"
   ]
  },
  {
   "cell_type": "markdown",
   "id": "a7fa8ac5-af9d-4317-9b8c-2f2bfbbd6538",
   "metadata": {},
   "source": [
    "## Extreme gradient boosting (XGBoost)\n",
    "\n",
    "<p style=\"text-align: justify;text-justify: inter-word;\">\n",
    "Dezhkam, and Manzuri (2023) define that the main idea behind most boosting algorithms is to iteratively apply a weak learner to training data and assign more weights to misclassified observations to find a new decision stump for them. Finally, all learned models are aggregated to form a strong learner able to correctly classify all training samples. Acording to DMLC (2024), Before running XGBoost, we must set three types of parameters: general parameters, booster parameters and task parameters. The general parameters relate to which booster we are using to do boosting, commonly tree or linear model. Booster parameters depend on which booster you have chosen, and Learning task parameters decide on the learning scenario. The used implementation of XGBoost was provided by the DMLC team.\n",
    "</p>\n",
    "<p style=\"text-align: justify;text-justify: inter-word;\">\n",
    "In the context of this study, the XGBoost algorithm was employed for the classification of stock attractiveness. The models were trained using the NASDAQ dataset, while the FTSE dataset served as the test dataset. Through iterative exploration and testing, the most accurate models were derived with specific parameter configurations:\n",
    "</p>\n",
    "\n",
    "- Model 1: This initial model focused on a subset of features, specifically: AnnualDividendsPerShare, DividendYield, PayoutRatio, RetentionRatio, and DividendCount.\n",
    "    - Parameters: booster='gblinear', objective='binary:logistic', subsample=0.3\n",
    "- Model 2: Similar to Model 1, the second trained model focused on a subset of features, specifically: AnnualDividendsPerShare, DividendYield, PayoutRatio, RetentionRatio, and DividendCount.\n",
    "    - Parameters: objective='reg:pseudohubererror', use_label_encoder=True\n",
    "- Model 3: The third model incorporated all features from the dataset, excluding the Symbol column.\n",
    "    - Parameters: booster='dart', sample_type='weighted',objective='multi:softmax', num_class=2, subsample=0.5\n",
    "\n",
    "| Model   | Dataset | Precision | Recall | Accuracy |\n",
    "|---------|---------|-----------|--------|----------|\n",
    "| Model 1 | NASDAQ  | 86%       | 66%    | 92%      |\n",
    "| Model 1 | FTSE    | 79%       | 58%    | 91%      |\n",
    "| Model 2 | NASDAQ  | 99%       | 99%    | 99%      |\n",
    "| Model 2 | FTSE    | 96%       | 67%    | 93%      |\n",
    "| Model 3 | NASDAQ  | 98%       | 99%    | 99%      |\n",
    "| Model 3 | FTSE    | 83%       | 70%    | 92%      |"
   ]
  },
  {
   "cell_type": "code",
   "execution_count": 104,
   "id": "ce4faa64-f563-4c51-b35d-3d21ba98dfcd",
   "metadata": {},
   "outputs": [
    {
     "data": {
      "text/html": [
       "<style>#sk-container-id-1 {color: black;}#sk-container-id-1 pre{padding: 0;}#sk-container-id-1 div.sk-toggleable {background-color: white;}#sk-container-id-1 label.sk-toggleable__label {cursor: pointer;display: block;width: 100%;margin-bottom: 0;padding: 0.3em;box-sizing: border-box;text-align: center;}#sk-container-id-1 label.sk-toggleable__label-arrow:before {content: \"▸\";float: left;margin-right: 0.25em;color: #696969;}#sk-container-id-1 label.sk-toggleable__label-arrow:hover:before {color: black;}#sk-container-id-1 div.sk-estimator:hover label.sk-toggleable__label-arrow:before {color: black;}#sk-container-id-1 div.sk-toggleable__content {max-height: 0;max-width: 0;overflow: hidden;text-align: left;background-color: #f0f8ff;}#sk-container-id-1 div.sk-toggleable__content pre {margin: 0.2em;color: black;border-radius: 0.25em;background-color: #f0f8ff;}#sk-container-id-1 input.sk-toggleable__control:checked~div.sk-toggleable__content {max-height: 200px;max-width: 100%;overflow: auto;}#sk-container-id-1 input.sk-toggleable__control:checked~label.sk-toggleable__label-arrow:before {content: \"▾\";}#sk-container-id-1 div.sk-estimator input.sk-toggleable__control:checked~label.sk-toggleable__label {background-color: #d4ebff;}#sk-container-id-1 div.sk-label input.sk-toggleable__control:checked~label.sk-toggleable__label {background-color: #d4ebff;}#sk-container-id-1 input.sk-hidden--visually {border: 0;clip: rect(1px 1px 1px 1px);clip: rect(1px, 1px, 1px, 1px);height: 1px;margin: -1px;overflow: hidden;padding: 0;position: absolute;width: 1px;}#sk-container-id-1 div.sk-estimator {font-family: monospace;background-color: #f0f8ff;border: 1px dotted black;border-radius: 0.25em;box-sizing: border-box;margin-bottom: 0.5em;}#sk-container-id-1 div.sk-estimator:hover {background-color: #d4ebff;}#sk-container-id-1 div.sk-parallel-item::after {content: \"\";width: 100%;border-bottom: 1px solid gray;flex-grow: 1;}#sk-container-id-1 div.sk-label:hover label.sk-toggleable__label {background-color: #d4ebff;}#sk-container-id-1 div.sk-serial::before {content: \"\";position: absolute;border-left: 1px solid gray;box-sizing: border-box;top: 0;bottom: 0;left: 50%;z-index: 0;}#sk-container-id-1 div.sk-serial {display: flex;flex-direction: column;align-items: center;background-color: white;padding-right: 0.2em;padding-left: 0.2em;position: relative;}#sk-container-id-1 div.sk-item {position: relative;z-index: 1;}#sk-container-id-1 div.sk-parallel {display: flex;align-items: stretch;justify-content: center;background-color: white;position: relative;}#sk-container-id-1 div.sk-item::before, #sk-container-id-1 div.sk-parallel-item::before {content: \"\";position: absolute;border-left: 1px solid gray;box-sizing: border-box;top: 0;bottom: 0;left: 50%;z-index: -1;}#sk-container-id-1 div.sk-parallel-item {display: flex;flex-direction: column;z-index: 1;position: relative;background-color: white;}#sk-container-id-1 div.sk-parallel-item:first-child::after {align-self: flex-end;width: 50%;}#sk-container-id-1 div.sk-parallel-item:last-child::after {align-self: flex-start;width: 50%;}#sk-container-id-1 div.sk-parallel-item:only-child::after {width: 0;}#sk-container-id-1 div.sk-dashed-wrapped {border: 1px dashed gray;margin: 0 0.4em 0.5em 0.4em;box-sizing: border-box;padding-bottom: 0.4em;background-color: white;}#sk-container-id-1 div.sk-label label {font-family: monospace;font-weight: bold;display: inline-block;line-height: 1.2em;}#sk-container-id-1 div.sk-label-container {text-align: center;}#sk-container-id-1 div.sk-container {/* jupyter's `normalize.less` sets `[hidden] { display: none; }` but bootstrap.min.css set `[hidden] { display: none !important; }` so we also need the `!important` here to be able to override the default hidden behavior on the sphinx rendered scikit-learn.org. See: https://github.com/scikit-learn/scikit-learn/issues/21755 */display: inline-block !important;position: relative;}#sk-container-id-1 div.sk-text-repr-fallback {display: none;}</style><div id=\"sk-container-id-1\" class=\"sk-top-container\"><div class=\"sk-text-repr-fallback\"><pre>XGBRFClassifier(base_score=None, booster=None, callbacks=None,\n",
       "                colsample_bylevel=None, colsample_bytree=None, device=None,\n",
       "                early_stopping_rounds=None, enable_categorical=False,\n",
       "                eval_metric=None, feature_types=None, gamma=None,\n",
       "                grow_policy=None, importance_type=None,\n",
       "                interaction_constraints=None, max_bin=None,\n",
       "                max_cat_threshold=None, max_cat_to_onehot=None,\n",
       "                max_delta_step=None, max_depth=None, max_leaves=None,\n",
       "                min_child_weight=None, missing=nan, monotone_constraints=None,\n",
       "                multi_strategy=None, n_estimators=None, n_jobs=None,\n",
       "                num_parallel_tree=None, objective=&#x27;binary:logistic&#x27;,\n",
       "                random_state=None, reg_alpha=None, ...)</pre><b>In a Jupyter environment, please rerun this cell to show the HTML representation or trust the notebook. <br />On GitHub, the HTML representation is unable to render, please try loading this page with nbviewer.org.</b></div><div class=\"sk-container\" hidden><div class=\"sk-item\"><div class=\"sk-estimator sk-toggleable\"><input class=\"sk-toggleable__control sk-hidden--visually\" id=\"sk-estimator-id-1\" type=\"checkbox\" checked><label for=\"sk-estimator-id-1\" class=\"sk-toggleable__label sk-toggleable__label-arrow\">XGBRFClassifier</label><div class=\"sk-toggleable__content\"><pre>XGBRFClassifier(base_score=None, booster=None, callbacks=None,\n",
       "                colsample_bylevel=None, colsample_bytree=None, device=None,\n",
       "                early_stopping_rounds=None, enable_categorical=False,\n",
       "                eval_metric=None, feature_types=None, gamma=None,\n",
       "                grow_policy=None, importance_type=None,\n",
       "                interaction_constraints=None, max_bin=None,\n",
       "                max_cat_threshold=None, max_cat_to_onehot=None,\n",
       "                max_delta_step=None, max_depth=None, max_leaves=None,\n",
       "                min_child_weight=None, missing=nan, monotone_constraints=None,\n",
       "                multi_strategy=None, n_estimators=None, n_jobs=None,\n",
       "                num_parallel_tree=None, objective=&#x27;binary:logistic&#x27;,\n",
       "                random_state=None, reg_alpha=None, ...)</pre></div></div></div></div></div>"
      ],
      "text/plain": [
       "XGBRFClassifier(base_score=None, booster=None, callbacks=None,\n",
       "                colsample_bylevel=None, colsample_bytree=None, device=None,\n",
       "                early_stopping_rounds=None, enable_categorical=False,\n",
       "                eval_metric=None, feature_types=None, gamma=None,\n",
       "                grow_policy=None, importance_type=None,\n",
       "                interaction_constraints=None, max_bin=None,\n",
       "                max_cat_threshold=None, max_cat_to_onehot=None,\n",
       "                max_delta_step=None, max_depth=None, max_leaves=None,\n",
       "                min_child_weight=None, missing=nan, monotone_constraints=None,\n",
       "                multi_strategy=None, n_estimators=None, n_jobs=None,\n",
       "                num_parallel_tree=None, objective='binary:logistic',\n",
       "                random_state=None, reg_alpha=None, ...)"
      ]
     },
     "execution_count": 104,
     "metadata": {},
     "output_type": "execute_result"
    }
   ],
   "source": [
    "model = XGBRFClassifier(objective='binary:logistic', use_label_encoder=False)\n",
    "model.fit(nasdaq_dataset.iloc[::,1:6], nasdaq_dataset['Attractiveness'])"
   ]
  },
  {
   "cell_type": "code",
   "execution_count": 105,
   "id": "f238ada9-6860-4d5b-b34e-351080f93a7b",
   "metadata": {},
   "outputs": [
    {
     "data": {
      "image/png": "[encoded data removed]",
      "text/plain": [
       "<Figure size 640x480 with 1 Axes>"
      ]
     },
     "metadata": {},
     "output_type": "display_data"
    }
   ],
   "source": [
    "plot_importance(model, importance_type='gain', show_values=False, xlabel='gain')\n",
    "plt.show()"
   ]
  },
  {
   "cell_type": "code",
   "execution_count": 106,
   "id": "bccf0947-eb4b-4d60-afa6-4efd40b69eb2",
   "metadata": {},
   "outputs": [
    {
     "data": {
      "image/png": "[encoded data removed]",
      "text/plain": [
       "<Figure size 640x480 with 1 Axes>"
      ]
     },
     "metadata": {},
     "output_type": "display_data"
    }
   ],
   "source": [
    "plot_importance(model, importance_type='weight', show_values=False, xlabel='Weight')\n",
    "plt.show()"
   ]
  },
  {
   "cell_type": "code",
   "execution_count": 107,
   "id": "a29c4474-7816-480e-a9fa-35875d4425e3",
   "metadata": {},
   "outputs": [
    {
     "name": "stderr",
     "output_type": "stream",
     "text": [
      "/Library/Frameworks/Python.framework/Versions/3.11/lib/python3.11/site-packages/xgboost/core.py:160: UserWarning: [16:49:02] WARNING: /Users/runner/work/xgboost/xgboost/src/learner.cc:742: \n",
      "Parameters: { \"colsample_bynode\", \"num_parallel_tree\", \"subsample\" } are not used.\n",
      "\n",
      "  warnings.warn(smsg, UserWarning)\n"
     ]
    }
   ],
   "source": [
    "scaler = StandardScaler()\n",
    "scaled_features = scaler.fit_transform(nasdaq_dataset.iloc[::,1:-1])\n",
    "\n",
    "model = XGBRFClassifier(booster='gblinear', objective='binary:logistic', subsample=0.3, seed=0)\n",
    "model.fit(scaled_features, nasdaq_dataset['Attractiveness'])\n",
    "y_pred = model.predict(scaled_features)"
   ]
  },
  {
   "cell_type": "code",
   "execution_count": 108,
   "id": "999bddd7-9d37-457f-bb2d-a4a7e3ae9522",
   "metadata": {},
   "outputs": [
    {
     "name": "stdout",
     "output_type": "stream",
     "text": [
      "                precision    recall  f1-score   support\n",
      "\n",
      "not-attractive       0.93      0.99      0.96       706\n",
      "    attractive       0.79      0.34      0.47        80\n",
      "\n",
      "      accuracy                           0.92       786\n",
      "     macro avg       0.86      0.66      0.72       786\n",
      "  weighted avg       0.92      0.92      0.91       786\n",
      "\n"
     ]
    }
   ],
   "source": [
    "print(classification_report(nasdaq_dataset['Attractiveness'], y_pred, target_names=['not-attractive', 'attractive']))"
   ]
  },
  {
   "cell_type": "code",
   "execution_count": 109,
   "id": "17b8a272-3fba-4e2b-b40e-486b6fea17f9",
   "metadata": {},
   "outputs": [
    {
     "name": "stdout",
     "output_type": "stream",
     "text": [
      "[[699   7]\n",
      " [ 53  27]]\n"
     ]
    }
   ],
   "source": [
    "print(confusion_matrix(nasdaq_dataset['Attractiveness'], y_pred))"
   ]
  },
  {
   "cell_type": "code",
   "execution_count": 110,
   "id": "72444a93-7562-4b91-85b9-f2dcd3753106",
   "metadata": {},
   "outputs": [],
   "source": [
    "scaler = StandardScaler()\n",
    "scaled_features = scaler.fit_transform(get_test_dataset(ftse_dataset, True))\n",
    "y_pred = model.predict(scaled_features)"
   ]
  },
  {
   "cell_type": "code",
   "execution_count": 111,
   "id": "2b08022f-6c63-473e-9e5b-02360723c6c7",
   "metadata": {},
   "outputs": [
    {
     "name": "stdout",
     "output_type": "stream",
     "text": [
      "                precision    recall  f1-score   support\n",
      "\n",
      "not-attractive       0.91      0.99      0.95       104\n",
      "    attractive       0.67      0.17      0.27        12\n",
      "\n",
      "      accuracy                           0.91       116\n",
      "     macro avg       0.79      0.58      0.61       116\n",
      "  weighted avg       0.89      0.91      0.88       116\n",
      "\n"
     ]
    }
   ],
   "source": [
    "print(classification_report(ftse_dataset['Attractiveness'], y_pred, target_names=['not-attractive', 'attractive']))"
   ]
  },
  {
   "cell_type": "code",
   "execution_count": 112,
   "id": "1c807fd8-8eca-44bd-8e9d-5e45fa74239b",
   "metadata": {},
   "outputs": [
    {
     "name": "stdout",
     "output_type": "stream",
     "text": [
      "[[103   1]\n",
      " [ 10   2]]\n"
     ]
    }
   ],
   "source": [
    "print(confusion_matrix(ftse_dataset['Attractiveness'], y_pred))"
   ]
  },
  {
   "cell_type": "code",
   "execution_count": 113,
   "id": "6a32ddc1-cc11-4ab8-8115-2a6867edb293",
   "metadata": {},
   "outputs": [],
   "source": [
    "scaler = StandardScaler()\n",
    "scaled_features = scaler.fit_transform(nasdaq_dataset.iloc[::,1:-1])\n",
    "\n",
    "model = XGBRFClassifier(objective='reg:pseudohubererror', use_label_encoder=True, seed=0)\n",
    "model.fit(scaled_features, nasdaq_dataset['Attractiveness'])\n",
    "y_pred = model.predict(scaled_features)"
   ]
  },
  {
   "cell_type": "code",
   "execution_count": 114,
   "id": "7ee9344b-245f-403c-afbd-14f14992d2ac",
   "metadata": {},
   "outputs": [
    {
     "name": "stdout",
     "output_type": "stream",
     "text": [
      "                precision    recall  f1-score   support\n",
      "\n",
      "not-attractive       1.00      1.00      1.00       706\n",
      "    attractive       0.99      0.99      0.99        80\n",
      "\n",
      "      accuracy                           1.00       786\n",
      "     macro avg       0.99      0.99      0.99       786\n",
      "  weighted avg       1.00      1.00      1.00       786\n",
      "\n"
     ]
    }
   ],
   "source": [
    "print(classification_report(nasdaq_dataset['Attractiveness'], y_pred, target_names=['not-attractive', 'attractive']))"
   ]
  },
  {
   "cell_type": "code",
   "execution_count": 115,
   "id": "d60b9a45-7ae3-4de4-b641-86b0207e478b",
   "metadata": {},
   "outputs": [
    {
     "name": "stdout",
     "output_type": "stream",
     "text": [
      "[[705   1]\n",
      " [  1  79]]\n"
     ]
    }
   ],
   "source": [
    "print(confusion_matrix(nasdaq_dataset['Attractiveness'], y_pred))"
   ]
  },
  {
   "cell_type": "code",
   "execution_count": 116,
   "id": "3a20d223-4a18-404e-8094-2716b16a798c",
   "metadata": {},
   "outputs": [],
   "source": [
    "scaler = StandardScaler()\n",
    "scaled_features = scaler.fit_transform(get_test_dataset(ftse_dataset, True))\n",
    "y_pred = model.predict(scaled_features)"
   ]
  },
  {
   "cell_type": "code",
   "execution_count": 117,
   "id": "de5f38eb-1224-47f7-b79e-564185b869ac",
   "metadata": {},
   "outputs": [
    {
     "name": "stdout",
     "output_type": "stream",
     "text": [
      "                precision    recall  f1-score   support\n",
      "\n",
      "not-attractive       0.93      1.00      0.96       104\n",
      "    attractive       1.00      0.33      0.50        12\n",
      "\n",
      "      accuracy                           0.93       116\n",
      "     macro avg       0.96      0.67      0.73       116\n",
      "  weighted avg       0.94      0.93      0.92       116\n",
      "\n"
     ]
    }
   ],
   "source": [
    "print(classification_report(ftse_dataset['Attractiveness'], y_pred, target_names=['not-attractive', 'attractive']))"
   ]
  },
  {
   "cell_type": "code",
   "execution_count": 118,
   "id": "98f75f09-c870-48a1-aa63-a72c77e56cd8",
   "metadata": {},
   "outputs": [
    {
     "name": "stdout",
     "output_type": "stream",
     "text": [
      "[[104   0]\n",
      " [  8   4]]\n"
     ]
    }
   ],
   "source": [
    "print(confusion_matrix(ftse_dataset['Attractiveness'], y_pred))"
   ]
  },
  {
   "cell_type": "code",
   "execution_count": 119,
   "id": "51a918d8-4fa4-4301-89fe-d40e0a4da637",
   "metadata": {},
   "outputs": [],
   "source": [
    "scaler = StandardScaler()\n",
    "scaled_features = scaler.fit_transform(nasdaq_dataset.iloc[::,1:-1])\n",
    "\n",
    "model = XGBRFClassifier(booster='dart', sample_type='weighted',objective='multi:softmax', num_class=2, subsample=0.5, seed=0)\n",
    "model.fit(scaled_features, nasdaq_dataset['Attractiveness'])\n",
    "y_pred = model.predict(scaled_features)"
   ]
  },
  {
   "cell_type": "code",
   "execution_count": 120,
   "id": "2840b18d-0cfa-4b75-b6fc-1953be5b0aba",
   "metadata": {},
   "outputs": [
    {
     "name": "stdout",
     "output_type": "stream",
     "text": [
      "                precision    recall  f1-score   support\n",
      "\n",
      "not-attractive       1.00      1.00      1.00       706\n",
      "    attractive       0.96      0.99      0.98        80\n",
      "\n",
      "      accuracy                           0.99       786\n",
      "     macro avg       0.98      0.99      0.99       786\n",
      "  weighted avg       1.00      0.99      0.99       786\n",
      "\n"
     ]
    }
   ],
   "source": [
    "print(classification_report(nasdaq_dataset['Attractiveness'], y_pred, target_names=['not-attractive', 'attractive']))"
   ]
  },
  {
   "cell_type": "code",
   "execution_count": 121,
   "id": "2d6cf6ef-87bd-415c-afcc-0d2a2c4937cd",
   "metadata": {},
   "outputs": [
    {
     "name": "stdout",
     "output_type": "stream",
     "text": [
      "[[703   3]\n",
      " [  1  79]]\n"
     ]
    }
   ],
   "source": [
    "print(confusion_matrix(nasdaq_dataset['Attractiveness'], y_pred))"
   ]
  },
  {
   "cell_type": "code",
   "execution_count": 122,
   "id": "497f8e78-4cc0-49de-87c6-6f7572451803",
   "metadata": {},
   "outputs": [],
   "source": [
    "scaler = StandardScaler()\n",
    "scaled_features = scaler.fit_transform(get_test_dataset(ftse_dataset, True))\n",
    "y_pred = model.predict(scaled_features)"
   ]
  },
  {
   "cell_type": "code",
   "execution_count": 123,
   "id": "4b910e01-98a7-4140-8b25-4e3c2261ac46",
   "metadata": {},
   "outputs": [
    {
     "name": "stdout",
     "output_type": "stream",
     "text": [
      "                precision    recall  f1-score   support\n",
      "\n",
      "not-attractive       0.94      0.98      0.96       104\n",
      "    attractive       0.71      0.42      0.53        12\n",
      "\n",
      "      accuracy                           0.92       116\n",
      "     macro avg       0.83      0.70      0.74       116\n",
      "  weighted avg       0.91      0.92      0.91       116\n",
      "\n"
     ]
    }
   ],
   "source": [
    "print(classification_report(ftse_dataset['Attractiveness'], y_pred, target_names=['not-attractive', 'attractive']))"
   ]
  },
  {
   "cell_type": "code",
   "execution_count": 124,
   "id": "d7e01dbd-7327-4928-a4fe-7987aa43700f",
   "metadata": {},
   "outputs": [
    {
     "name": "stdout",
     "output_type": "stream",
     "text": [
      "[[102   2]\n",
      " [  7   5]]\n"
     ]
    }
   ],
   "source": [
    "print(confusion_matrix(ftse_dataset['Attractiveness'], y_pred))"
   ]
  },
  {
   "cell_type": "markdown",
   "id": "30c75d7f-3044-40bc-9d53-ed41aca84d26",
   "metadata": {},
   "source": [
    "# Conclusion\n",
    "\n",
    "<p style=\"text-align: justify;text-justify: inter-word;\">Throughout this coursework, we conducted a comprehensive comparative analysis of dividend-distributing shares from the NASDAQ and FTSE-250 exchanges in 2023. Our examination revealed notable similarities in financial metrics, including dividend yield, payout ratio, and retention ratio. Notably, while the US exchange averaged four dividend distributions per year, the UK exchange averaged only two. NASDAQ companies tended to distribute higher values on average compared to FTSE companies. However, the FTSE index demonstrated greater stability, with smaller standard deviation values across most evaluated financial metrics and fewer outliers compared to the NASDAQ index.</p>\n",
    "<p style=\"text-align: justify;text-justify: inter-word;\">Following the comparative analysis, we executed a manual labeling process to categorize all evaluated stocks as either attractive or not-attractive. With the samples labeled, we trained various machine learning models to predict stock attractiveness. Notably, only NASDAQ companies were used for the training phase, while the quality of the models was assessed using FTSE companies. The results of the created models in both the training and test datasets are summarized in the below table provided.\n",
    "</p>\n",
    "\n",
    "| Model                   | Dataset   | Precision | Recall | Accuracy |\n",
    "|-------------------------|-----------|-----------|--------|----------|\n",
    "| Random Forest - Model 1 | Training  | 99%       | 99%    | 99%      |\n",
    "| Random Forest - Model 1 | Test      | 96%       | 58%    | 91%      |\n",
    "| Random Forest - Model 2 | Training  | 100%      | 100%   | 100%     |\n",
    "| Random Forest - Model 2 | Test      | 96%       | 58%    | 91%      |\n",
    "| Random Forest - Model 3 | Training  | 100%      | 98%    | 99%      |\n",
    "| Random Forest - Model 3 | Test      | 96%       | 58%    | 91%      |\n",
    "| SVM - Model 1           | Training  | 81%       | 81%    | 93%      |\n",
    "| SVM - Model 1           | Test      | 77%       | 77%    | 91%      |\n",
    "| SVM - Model 2           | Training  | 78%       | 77%    | 92%      |\n",
    "| SVM - Model 2           | Test      | 77%       | 88%    | 91%      |\n",
    "| SVM - Model 3           | Training  | 83%       | 74%    | 93%      |\n",
    "| SVM - Model 3           | Test      | 62%       | 53%    | 89%      |\n",
    "| XGBoost - Model 1       | Training  | 86%       | 66%    | 92%      |\n",
    "| XGBoost - Model 1       | Test      | 79%       | 58%    | 91%      |\n",
    "| XGBoost - Model 2       | Training  | 99%       | 99%    | 99%      |\n",
    "| XGBoost - Model 2       | Test      | 96%       | 67%    | 93%      |\n",
    "| XGBoost - Model 3       | Training  | 98%       | 99%    | 99%      |\n",
    "| XGBoost - Model 3       | Test      | 83%       | 70%    | 92%      |\n",
    "\n",
    "<p style=\"text-align: justify;text-justify: inter-word;\">All the created models present good metrics evaluating the training datasets. The Random forest models overperformed in the training dataset being able to predict 100% of the cases, indicating a possible overfitting. Regarding the test dataset, all the models presented a good accuracy from 89% to 93%. In contrast with the accuracy, the ability to correctly classify the interest class was poor. Only three models present the recall metric with a percentage equal to or greater than 70%. The accuracy was high in the test dataset in reason of the number of samples in the interest class only represents around 10% of the data. To determine the best model, the main statistical metric evaluated was the recall since the target of the created models is to work as a guide to discerning the attractiveness and potential sustainability of dividend-paying stocks, summarising the ability to predict correctly a company as attractive. The SVM - Model 2 was the best model considering the target problem. This model presented similar results in all the evaluated metrics in the training and test datasets.\n",
    "</p>\n",
    "<p style=\"text-align: justify;text-justify: inter-word;\"> As an extension work, it's possible to apply the proposed machine learning models to different stock exchanges such as SP500, IBOVESPA, and Tokio Exchange and see the accuracy of the proposed models in different markets. Additionally, revisiting the labeling process to explore alternative approaches to classify a company as attractive or not. Importantly, the data utilized in this study is public and is intended solely for academic purposes, with no intention to harm or benefit any specific company mentioned.</p>"
   ]
  },
  {
   "cell_type": "markdown",
   "id": "fcd6c031-275a-41aa-8c56-b5c39465e62d",
   "metadata": {},
   "source": [
    "# References\n",
    "\n",
    "- Amos, D. (2023) A practical introduction to web scraping in Python, Real Python. Available at: https://realpython.com/python-web-scraping-practical-introduction/ (Accessed: 02 January 2024).\n",
    "- Ayyildiz, N. and Iskenderoglu, O. (2024) How effective is machine learning in stock market predictions?, Heliyon, 10(2). doi:10.1016/j.heliyon.2024.e24123.\n",
    "- Brownlee, J. (2019) How to one hot encode sequence data in python, MachineLearningMastery.com. Available at: https://machinelearningmastery.com/how-to-one-hot-encode-sequence-data-in-python/ (Accessed: 03 January 2024).\n",
    "- Coutts. (2024) What is the FTSE 250? Private Banking and Wealth Management. Available at: https://www.coutts.com/help-centre/investment-faqs/investment-faqs/general/what-is-the-ftse-250.html (Accessed: 17 March 2024).\n",
    "- Dezhkam, A. and Manzuri, M.T. (2023) Forecasting stock market for an efficient portfolio by combining XGBoost and Hilbert–Huang​ Transform, Engineering Applications of Artificial Intelligence, 118, p. 105626. doi:10.1016/j.engappai.2022.105626.\n",
    "- DMLC. (2024) XGBoost Parameters. Available at: https://xgboost.readthedocs.io/en/stable/parameter.html (Accessed: 17 March 2024). \n",
    "- Gordon, M. J. (1959) Dividends, Earnings, and Stock Prices. The Review of Economics and Statistics, vol. 41, no. 2, pp. 99–105\n",
    "- Kimoto, T. et al. (1990) Stock market prediction system with Modular Neural Networks, 1990 IJCNN International Joint Conference on Neural Networks [Preprint]. doi:10.1109/ijcnn.1990.137535. \n",
    "- P.K.H. Phua, Xiaotian Zhu, and Chung Haur Koh. (2003) Forecasting stockindex increments using neural networks with trust region methods. In Proceedings of the International Joint Conference on Neural Networks, volume 1, pages 260–265 vol.1\n",
    "- Scikit-learn. (2024) 1.11. ensembles: Gradient boosting, random forests, bagging, voting, stacking (2024) scikit. Available at: https://scikit-learn.org/stable/modules/ensemble.html#random-forests-and-other-randomized-tree-ensembles (Accessed: 17 March 2024).\n",
    "- Scikit-learn. (2024) 1.4. Support Vector Machines (2024) scikit. Available at: https://scikit-learn.org/stable/modules/ensemble.html#random-forests-and-other-randomized-tree-ensembles (Accessed: 17 March 2024).\n",
    "- Steffens, H. P. (2023) Analytic Dividend Analysis. University of London.\n",
    "- Tan, Z., Yan, Z. and Zhu, G. (2019) Stock selection with Random Forest: An exploitation of excess return in the Chinese stock market, Heliyon, 5(8). doi:10.1016/j.heliyon.2019.e02310. \n",
    "- The investopedia team. (2023) How to calculate the dividend payout ratio from an income statement, Investopedia. Reviewed by C. Rhinehart. Available at: https://www.investopedia.com/ask/answers/012015/how-do-i-calculate-dividend-payout-ratio-income-statement.asp (Accessed: 25 December 2023)."
   ]
  },
  {
   "cell_type": "code",
   "execution_count": null,
   "id": "363f8594-d9f7-4a16-ac43-ca9641d7856e",
   "metadata": {},
   "outputs": [],
   "source": []
  }
 ],
 "metadata": {
  "kernelspec": {
   "display_name": "Python 3 (ipykernel)",
   "language": "python",
   "name": "python3"
  },
  "language_info": {
   "codemirror_mode": {
    "name": "ipython",
    "version": 3
   },
   "file_extension": ".py",
   "mimetype": "text/x-python",
   "name": "python",
   "nbconvert_exporter": "python",
   "pygments_lexer": "ipython3",
   "version": "3.11.3"
  }
 },
 "nbformat": 4,
 "nbformat_minor": 5
}
